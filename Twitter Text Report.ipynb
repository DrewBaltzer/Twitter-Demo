{
 "cells": [
  {
   "cell_type": "markdown",
   "id": "7217d339",
   "metadata": {},
   "source": [
    "### Twitter Text Report by Drew Baltzer\n",
    "\n",
    "October 20th, 2021\n"
   ]
  },
  {
   "cell_type": "code",
   "execution_count": 3,
   "id": "23e96c53",
   "metadata": {},
   "outputs": [],
   "source": [
    "import pandas as pd\n",
    "import json\n",
    "import urllib\n",
    "import requests"
   ]
  },
  {
   "cell_type": "code",
   "execution_count": 4,
   "id": "dab5de84",
   "metadata": {},
   "outputs": [],
   "source": [
    "bearer_token = pd.read_csv('twitter bearer token.txt', sep = '\\t', header = 0)"
   ]
  },
  {
   "cell_type": "code",
   "execution_count": null,
   "id": "091e78b6",
   "metadata": {},
   "outputs": [],
   "source": [
    "bearer_token['bearer_token'].iloc[0]"
   ]
  },
  {
   "cell_type": "code",
   "execution_count": 6,
   "id": "bbc525ca",
   "metadata": {},
   "outputs": [],
   "source": [
    "header = {'Authorization' : 'Bearer {}'.format(bearer_token['bearer_token'].iloc[0])}"
   ]
  },
  {
   "cell_type": "code",
   "execution_count": 7,
   "id": "a8915783",
   "metadata": {},
   "outputs": [
    {
     "data": {
      "text/plain": [
       "Index(['bearer_token'], dtype='object')"
      ]
     },
     "execution_count": 7,
     "metadata": {},
     "output_type": "execute_result"
    }
   ],
   "source": [
    "bearer_token.keys()"
   ]
  },
  {
   "cell_type": "code",
   "execution_count": 8,
   "id": "32c39af6",
   "metadata": {},
   "outputs": [],
   "source": [
    "endpoint_url = 'https://api.twitter.com/2/tweets/search/recent'"
   ]
  },
  {
   "cell_type": "code",
   "execution_count": 9,
   "id": "e07cc86e",
   "metadata": {},
   "outputs": [],
   "source": [
    "query = urllib.parse.quote('(#DeadbyDaylight) lang:en')"
   ]
  },
  {
   "cell_type": "code",
   "execution_count": 10,
   "id": "338caa04",
   "metadata": {},
   "outputs": [
    {
     "data": {
      "text/plain": [
       "'%28%23DeadbyDaylight%29%20lang%3Aen'"
      ]
     },
     "execution_count": 10,
     "metadata": {},
     "output_type": "execute_result"
    }
   ],
   "source": [
    "query"
   ]
  },
  {
   "cell_type": "code",
   "execution_count": 11,
   "id": "d4f0b61a",
   "metadata": {},
   "outputs": [],
   "source": [
    "my_api_url = endpoint_url + '?query={}'.format(query)"
   ]
  },
  {
   "cell_type": "code",
   "execution_count": 12,
   "id": "58e828c7",
   "metadata": {},
   "outputs": [
    {
     "data": {
      "text/plain": [
       "'https://api.twitter.com/2/tweets/search/recent?query=%28%23DeadbyDaylight%29%20lang%3Aen'"
      ]
     },
     "execution_count": 12,
     "metadata": {},
     "output_type": "execute_result"
    }
   ],
   "source": [
    "my_api_url"
   ]
  },
  {
   "cell_type": "code",
   "execution_count": 13,
   "id": "339a650e",
   "metadata": {},
   "outputs": [],
   "source": [
    "tweet_fields = 'public_metrics,created_at,author_id,lang'"
   ]
  },
  {
   "cell_type": "code",
   "execution_count": 14,
   "id": "6a95d44b",
   "metadata": {},
   "outputs": [],
   "source": [
    "field_api_url = endpoint_url + '?query={}&tweet.fields={}'.format(query, tweet_fields)"
   ]
  },
  {
   "cell_type": "code",
   "execution_count": 15,
   "id": "4b369fa7",
   "metadata": {},
   "outputs": [
    {
     "data": {
      "text/plain": [
       "'https://api.twitter.com/2/tweets/search/recent?query=%28%23DeadbyDaylight%29%20lang%3Aen&tweet.fields=public_metrics,created_at,author_id,lang'"
      ]
     },
     "execution_count": 15,
     "metadata": {},
     "output_type": "execute_result"
    }
   ],
   "source": [
    "field_api_url"
   ]
  },
  {
   "cell_type": "code",
   "execution_count": 16,
   "id": "378a44b9",
   "metadata": {},
   "outputs": [],
   "source": [
    "expansions = 'author_id'"
   ]
  },
  {
   "cell_type": "code",
   "execution_count": 39,
   "id": "7ceb0352",
   "metadata": {},
   "outputs": [],
   "source": [
    "expansions_api_url = endpoint_url + '?query={}&max_results=100&tweet.fields={}&expansions={}&user.fields={}'.format(query, tweet_fields, expansions, 'username')"
   ]
  },
  {
   "cell_type": "code",
   "execution_count": 40,
   "id": "e2821115",
   "metadata": {},
   "outputs": [
    {
     "data": {
      "text/plain": [
       "'https://api.twitter.com/2/tweets/search/recent?query=%28%23DeadbyDaylight%29%20lang%3Aen&max_results=100&tweet.fields=public_metrics,created_at,author_id,lang&expansions=author_id&user.fields=username'"
      ]
     },
     "execution_count": 40,
     "metadata": {},
     "output_type": "execute_result"
    }
   ],
   "source": [
    "expansions_api_url"
   ]
  },
  {
   "cell_type": "code",
   "execution_count": 41,
   "id": "15d6060b",
   "metadata": {},
   "outputs": [],
   "source": [
    "response_1 = requests.request(\"GET\", expansions_api_url, headers = header)"
   ]
  },
  {
   "cell_type": "code",
   "execution_count": 42,
   "id": "e68523af",
   "metadata": {},
   "outputs": [
    {
     "data": {
      "text/plain": [
       "'{\"data\":[{\"lang\":\"en\",\"public_metrics\":{\"retweet_count\":45,\"reply_count\":0,\"like_count\":0,\"quote_count\":0},\"text\":\"RT @hunnybe4r: happy #HalloweenMovie day \\\\uD83C\\\\uDF83 \\\\n\\\\nthumbnail art for @SpookyLoopz\\'s farewell to burger king myers video\\\\n\\\\n#dbd #deadbydaylight #db…\",\"created_at\":\"2021-10-18T15:01:25.000Z\",\"author_id\":\"1070788108189347841\",\"id\":\"1450114803830251520\"},{\"lang\":\"en\",\"public_metrics\":{\"retweet_count\":0,\"reply_count\":0,\"like_count\":0,\"quote_count\":0},\"text\":\"\\\\uD83D\\\\uDC7BLIVE on Twitch!\\\\n\\\\n\\\\uD83E\\\\uDE84 Mikaela Reid is coming to @DeadByBHVR tomorrow so let\\'s grind some bloodpoints! \\\\uD83E\\\\uDDD9\\\\uD83C\\\\uDFFD\\u200d♀️✨\\\\n\\\\nhttps://t.co/H0kPWHg5dw\\\\n#intothefog #dbd #deadbydaylight #twitchstreamer\",\"created_at\":\"2021-10-18T15:00:46.000Z\",\"author_id\":\"1013025782162251776\",\"id\":\"1450114638805409798\"},{\"lang\":\"en\",\"public_metrics\":{\"retweet_count\":1,\"reply_count\":0,\"like_count\":0,\"quote_count\":0},\"text\":\"RT @LunarBuneary: I’m live on Twitch! Click below to join my stream. [18+] I\\'m getting rusty and i dont like it | Spooky Season is upon us!…\",\"created_at\":\"2021-10-18T15:00:42.000Z\",\"author_id\":\"1321076943027142658\",\"id\":\"1450114623789805568\"},{\"lang\":\"en\",\"public_metrics\":{\"retweet_count\":1,\"reply_count\":0,\"like_count\":0,\"quote_count\":0},\"text\":\"I’m live on Twitch! Click below to join my stream. [18+] I\\'m getting rusty and i dont like it | Spooky Season is upon us! Day 18/31 !commands #ENVtuber #Vtuber #VtuberEN #twitchstreaming #twitchstreamer #dbd #DeadbyDaylight  https://t.co/hMxR8bMuct\",\"created_at\":\"2021-10-18T15:00:41.000Z\",\"author_id\":\"728848756670631936\",\"id\":\"1450114618576314369\"},{\"lang\":\"en\",\"public_metrics\":{\"retweet_count\":0,\"reply_count\":0,\"like_count\":1,\"quote_count\":0},\"text\":\"This build on Pinhead is insane! | Dead by Daylight https://t.co/WRyIid5Y04 via @YouTube \\\\n\\\\nThis build is actually pretty insane on him &gt;:O\\\\n\\\\n#intothefog #deadbydaylight https://t.co/WkOaWkR3yF\",\"created_at\":\"2021-10-18T15:00:01.000Z\",\"author_id\":\"986300285231476736\",\"id\":\"1450114449025773583\"},{\"lang\":\"en\",\"public_metrics\":{\"retweet_count\":0,\"reply_count\":0,\"like_count\":0,\"quote_count\":0},\"text\":\"guys guys new tech new tech failing a skillcheck makes you invincible\\\\n\\\\nRes: 1440x1080\\\\n#DeadbyDaylight https://t.co/FFwvovl0GI\",\"created_at\":\"2021-10-18T15:00:00.000Z\",\"author_id\":\"1294617136120422400\",\"id\":\"1450114446463049732\"},{\"lang\":\"en\",\"public_metrics\":{\"retweet_count\":0,\"reply_count\":0,\"like_count\":0,\"quote_count\":0},\"text\":\"part 2\\\\n#DeadbyDaylight https://t.co/2JfF4bl478\",\"created_at\":\"2021-10-18T14:59:43.000Z\",\"author_id\":\"2383570802\",\"id\":\"1450114376287936512\"},{\"lang\":\"en\",\"public_metrics\":{\"retweet_count\":84,\"reply_count\":0,\"like_count\":0,\"quote_count\":0},\"text\":\"RT @LeaksDbd: David\\'s \\\\\"The Ruffian\\\\\" and Adam\\'s \\\\\"Jamaican Proud\\\\\" cosmetics will make their way to shop on 19 October.\\\\n\\\\nNemesis and Pyramid H…\",\"created_at\":\"2021-10-18T14:58:43.000Z\",\"author_id\":\"2502343650\",\"id\":\"1450114123195293697\"},{\"lang\":\"en\",\"public_metrics\":{\"retweet_count\":0,\"reply_count\":0,\"like_count\":0,\"quote_count\":0},\"text\":\"Island Destruction and then Some DBD After &lt;3\\\\nhttps://t.co/raKUNQpA3m\\\\n#Twitchstream #twitchstreaming #Twitchstreamer #twitchaffiliate #stream #streaming #streamer #affiliate #AnimalCrossingNewHorizons #DBD #DeadByDaylight\",\"created_at\":\"2021-10-18T14:58:09.000Z\",\"author_id\":\"1146447841478336512\",\"id\":\"1450113981608194050\"},{\"lang\":\"en\",\"public_metrics\":{\"retweet_count\":0,\"reply_count\":0,\"like_count\":0,\"quote_count\":0},\"text\":\"I need friends on gaming platforms. I play Xbox and ps4. #dbd #DeadbyDaylight #gamergirl\",\"created_at\":\"2021-10-18T14:57:29.000Z\",\"author_id\":\"1278761514837704714\",\"id\":\"1450113814045806594\"},{\"lang\":\"en\",\"public_metrics\":{\"retweet_count\":12,\"reply_count\":0,\"like_count\":0,\"quote_count\":0},\"text\":\"RT @dragen_gyrr: #DeadbyDaylight #Huntress\\\\n\\\\n“Come, child, I’ll get the high ones for you.”\\\\n\\\\nWild apples. https://t.co/nTcl1L9Kwc\",\"created_at\":\"2021-10-18T14:56:22.000Z\",\"author_id\":\"277522467\",\"id\":\"1450113530468962313\"},{\"lang\":\"en\",\"public_metrics\":{\"retweet_count\":0,\"reply_count\":0,\"like_count\":0,\"quote_count\":0},\"text\":\"Hi, I am live on https://t.co/0Fvlwq9pVw #DBD #DeadbyDaylight #LoL #LeagueofLegends #twitchstreamer #twitch #stream #CZ #SK\",\"created_at\":\"2021-10-18T14:56:13.000Z\",\"author_id\":\"1013023386\",\"id\":\"1450113493907214339\"},{\"lang\":\"en\",\"public_metrics\":{\"retweet_count\":84,\"reply_count\":0,\"like_count\":0,\"quote_count\":0},\"text\":\"RT @LeaksDbd: David\\'s \\\\\"The Ruffian\\\\\" and Adam\\'s \\\\\"Jamaican Proud\\\\\" cosmetics will make their way to shop on 19 October.\\\\n\\\\nNemesis and Pyramid H…\",\"created_at\":\"2021-10-18T14:55:56.000Z\",\"author_id\":\"277522467\",\"id\":\"1450113421274451973\"},{\"lang\":\"en\",\"public_metrics\":{\"retweet_count\":0,\"reply_count\":0,\"like_count\":0,\"quote_count\":0},\"text\":\"\\\\uD83D\\\\uDD34Directo de Dead by Daylight y mas tarde Fall Guys!\\\\nhttps://t.co/7eyL5lsXRC\\\\n#DeadbyDaylight #FallGuys #streaming #gameplay #twitch\",\"created_at\":\"2021-10-18T14:55:39.000Z\",\"author_id\":\"937423898173468672\",\"id\":\"1450113353158901760\"},{\"lang\":\"en\",\"public_metrics\":{\"retweet_count\":124,\"reply_count\":0,\"like_count\":0,\"quote_count\":0},\"text\":\"RT @mintcrowss: dimples and butterball arent skins ingame but they still cheer for pinny and chatty backstage\\\\n\\\\n#dbd #dbdfanart #deadbydayli…\",\"created_at\":\"2021-10-18T14:55:38.000Z\",\"author_id\":\"2276460810\",\"id\":\"1450113347920277504\"},{\"lang\":\"en\",\"public_metrics\":{\"retweet_count\":4,\"reply_count\":0,\"like_count\":0,\"quote_count\":0},\"text\":\"RT @Freyanuris: \\\\uD83D\\\\uDD6F “Does anyone else see that? Just me?” — @DeadByBHVR #DeadbyDaylight #MikaelaReid https://t.co/BDGuTRpSOf\",\"created_at\":\"2021-10-18T14:55:23.000Z\",\"author_id\":\"2531314892\",\"id\":\"1450113284393209858\"},{\"lang\":\"en\",\"public_metrics\":{\"retweet_count\":53,\"reply_count\":0,\"like_count\":0,\"quote_count\":0},\"text\":\"RT @DiHA_Artwork: \\\\\"Purgation.\\\\\" \\\\uD83E\\\\uDD2E\\\\n\\\\n#DeadbyDaylight #dbd #dbdfanart #artnouveau #art #plague #janeromero @DeadByBHVR https://t.co/HFjJqOyTW6\",\"created_at\":\"2021-10-18T14:55:22.000Z\",\"author_id\":\"1033916622803816448\",\"id\":\"1450113280383594501\"},{\"lang\":\"en\",\"public_metrics\":{\"retweet_count\":5,\"reply_count\":0,\"like_count\":0,\"quote_count\":0},\"text\":\"RT @AvogatoMr: \\\\uD83C\\\\uDF83Day 16 of the 31 Days of AvoWeen\\\\uD83E\\\\uDD51\\\\nGroovy #Avoween \\\\n@DVDesigns_Art @GroovyBruce #IntotheFog #DeadbyDaylight @DeadByBHVR #Sup…\",\"created_at\":\"2021-10-18T14:54:55.000Z\",\"author_id\":\"795037005369507844\",\"id\":\"1450113169024815112\"},{\"lang\":\"en\",\"public_metrics\":{\"retweet_count\":5,\"reply_count\":0,\"like_count\":0,\"quote_count\":0},\"text\":\"RT @Ghostfacecouk: Just had a call with @RJTorbert .. Jeez... its REALLY busy over there.. Lots happening...  Someone asked him recently if…\",\"created_at\":\"2021-10-18T14:53:56.000Z\",\"author_id\":\"717403149204635656\",\"id\":\"1450112919879012352\"},{\"lang\":\"en\",\"public_metrics\":{\"retweet_count\":0,\"reply_count\":0,\"like_count\":0,\"quote_count\":0},\"text\":\"#PS5Share, #DeadbyDaylight she screwed herself and her teammate lmao https://t.co/jhIYMGE7eL\",\"created_at\":\"2021-10-18T14:53:43.000Z\",\"author_id\":\"195110746\",\"id\":\"1450112863851384833\"},{\"lang\":\"en\",\"public_metrics\":{\"retweet_count\":39,\"reply_count\":0,\"like_count\":0,\"quote_count\":0},\"text\":\"RT @legobatjokesfan: tapp took the picture of everyone there and ace cropped them out and posted it to the gram #DeadbyDaylight https://t.c…\",\"created_at\":\"2021-10-18T14:50:25.000Z\",\"author_id\":\"1087141339035140096\",\"id\":\"1450112033815506946\"},{\"lang\":\"en\",\"public_metrics\":{\"retweet_count\":602,\"reply_count\":0,\"like_count\":0,\"quote_count\":0},\"text\":\"RT @DARTS160: The Legion\\\\n\\\\nJulie @coin_DBD \\\\nSusie @eeoe_51 \\\\nJoey @_Ropoly \\\\np.b @xavac1 \\\\n#DeadbyDaylight https://t.co/Z2aqkVTT6V\",\"created_at\":\"2021-10-18T14:49:21.000Z\",\"author_id\":\"1431845094399741959\",\"id\":\"1450111765316993028\"},{\"lang\":\"en\",\"public_metrics\":{\"retweet_count\":67,\"reply_count\":0,\"like_count\":0,\"quote_count\":0},\"text\":\"RT @legobatjokesfan: ace visconti god of wine redesign :) #DeadbyDaylight https://t.co/pzrTe5QWUP\",\"created_at\":\"2021-10-18T14:49:09.000Z\",\"author_id\":\"1087141339035140096\",\"id\":\"1450111714209550336\"},{\"lang\":\"en\",\"public_metrics\":{\"retweet_count\":0,\"reply_count\":0,\"like_count\":1,\"quote_count\":0},\"text\":\"Watch stixzadinia84 with me on Twitch! #DeadbyDaylight #Xbox https://t.co/FRnTO1tmWO\",\"created_at\":\"2021-10-18T14:48:55.000Z\",\"author_id\":\"1084957273955418112\",\"id\":\"1450111655250169856\"},{\"lang\":\"en\",\"public_metrics\":{\"retweet_count\":896,\"reply_count\":0,\"like_count\":0,\"quote_count\":0},\"text\":\"RT @ShiNguyen69: Ok. I\\'m fine\\\\n.\\\\n.\\\\n.\\\\n#DeadbyDaylightfanart #DeadbyDaylight https://t.co/c6nto37Euj\",\"created_at\":\"2021-10-18T14:48:24.000Z\",\"author_id\":\"1445390663772745736\",\"id\":\"1450111528049520647\"},{\"lang\":\"en\",\"public_metrics\":{\"retweet_count\":84,\"reply_count\":0,\"like_count\":0,\"quote_count\":0},\"text\":\"RT @LeaksDbd: David\\'s \\\\\"The Ruffian\\\\\" and Adam\\'s \\\\\"Jamaican Proud\\\\\" cosmetics will make their way to shop on 19 October.\\\\n\\\\nNemesis and Pyramid H…\",\"created_at\":\"2021-10-18T14:48:22.000Z\",\"author_id\":\"1148302617631703042\",\"id\":\"1450111519786680323\"},{\"lang\":\"en\",\"public_metrics\":{\"retweet_count\":84,\"reply_count\":0,\"like_count\":0,\"quote_count\":0},\"text\":\"RT @LeaksDbd: David\\'s \\\\\"The Ruffian\\\\\" and Adam\\'s \\\\\"Jamaican Proud\\\\\" cosmetics will make their way to shop on 19 October.\\\\n\\\\nNemesis and Pyramid H…\",\"created_at\":\"2021-10-18T14:48:18.000Z\",\"author_id\":\"3451123212\",\"id\":\"1450111501222780933\"},{\"lang\":\"en\",\"public_metrics\":{\"retweet_count\":0,\"reply_count\":0,\"like_count\":2,\"quote_count\":0},\"text\":\"Day 3 on the Pleasant Valley farm. #fs19 on https://t.co/R3cubONmnU Watch me trying to figure stuff out, hopefully before #fs22 comes out.\\\\nAlso hopefully before people show up and take me away to #Valheim or #DeadbyDaylight #twitch Also come check out my new emote thanks @AvaRc01\",\"created_at\":\"2021-10-18T14:48:07.000Z\",\"author_id\":\"829003413505445889\",\"id\":\"1450111455869616131\"},{\"lang\":\"en\",\"public_metrics\":{\"retweet_count\":0,\"reply_count\":0,\"like_count\":0,\"quote_count\":0},\"text\":\"#BiggBoss15 #DeadbyDaylight #BidenBorderCrisis #BBK8 #Days #MonicaLewinsky #BLM #COVID19 #DELTARUNE #VaccineMandate #BB23 #freedom #DWTS #FreedonFlu #BreakingNews #FuckBiden\\\\nBiden is making USA the next Cuba? Cultural #Marxist https://t.co/gpWkJK0wDd\",\"created_at\":\"2021-10-18T14:46:56.000Z\",\"author_id\":\"347225664\",\"id\":\"1450111159361757190\"},{\"lang\":\"en\",\"public_metrics\":{\"retweet_count\":0,\"reply_count\":0,\"like_count\":1,\"quote_count\":0},\"text\":\"Crossover Commission I did with negan (walking dead) and survivors (dbd). I drew this in ink and sharpie #dbd #fanart #dbdfanart #deadbydaylightfanart #deadbydaylight #WalkingDead #negan #drawing #sketching #artwork #patrickolsenartwork #games #shows #patrickolsenartwork https://t.co/GqN8pxEWSF\",\"created_at\":\"2021-10-18T14:45:38.000Z\",\"author_id\":\"1087400355447607298\",\"id\":\"1450110832961019908\"},{\"lang\":\"en\",\"public_metrics\":{\"retweet_count\":0,\"reply_count\":1,\"like_count\":1,\"quote_count\":0},\"text\":\"Well that was tense #DeadByDaylight\\\\n\\\\nhttps://t.co/ZBxX8Htiyo https://t.co/OzI8ecJd9N\",\"created_at\":\"2021-10-18T14:44:37.000Z\",\"author_id\":\"1604158910\",\"id\":\"1450110574600331270\"},{\"lang\":\"en\",\"public_metrics\":{\"retweet_count\":84,\"reply_count\":0,\"like_count\":0,\"quote_count\":0},\"text\":\"RT @LeaksDbd: David\\'s \\\\\"The Ruffian\\\\\" and Adam\\'s \\\\\"Jamaican Proud\\\\\" cosmetics will make their way to shop on 19 October.\\\\n\\\\nNemesis and Pyramid H…\",\"created_at\":\"2021-10-18T14:43:02.000Z\",\"author_id\":\"1447728695490273288\",\"id\":\"1450110176569212929\"},{\"lang\":\"en\",\"public_metrics\":{\"retweet_count\":116,\"reply_count\":0,\"like_count\":0,\"quote_count\":0},\"text\":\"RT @leaksbydaylight: Write the \\'DBDJAYJP2021\\' code in \\'redeem code\\' in the in-game store to get 202,100 bloodpoints! \\\\n\\\\n#DeadbyDaylight #lea…\",\"created_at\":\"2021-10-18T14:41:56.000Z\",\"author_id\":\"1388974990712844288\",\"id\":\"1450109901796257795\"},{\"lang\":\"en\",\"public_metrics\":{\"retweet_count\":33,\"reply_count\":0,\"like_count\":0,\"quote_count\":0},\"text\":\"RT @leaksbydaylight: Sorry for the typo, the correct code is DBDDAYJP2021.\\\\n\\\\nI remind you that tomorrow will be released the mid-chapter pat…\",\"created_at\":\"2021-10-18T14:41:32.000Z\",\"author_id\":\"939999368769351682\",\"id\":\"1450109798213726214\"},{\"lang\":\"en\",\"public_metrics\":{\"retweet_count\":0,\"reply_count\":0,\"like_count\":0,\"quote_count\":0},\"text\":\"Looping #trickster check it out. #DeadbyDaylight #dbd https://t.co/KgdTOdUBqX\",\"created_at\":\"2021-10-18T14:41:26.000Z\",\"author_id\":\"1438260031284260869\",\"id\":\"1450109772955635714\"},{\"lang\":\"en\",\"public_metrics\":{\"retweet_count\":84,\"reply_count\":0,\"like_count\":0,\"quote_count\":0},\"text\":\"RT @LeaksDbd: David\\'s \\\\\"The Ruffian\\\\\" and Adam\\'s \\\\\"Jamaican Proud\\\\\" cosmetics will make their way to shop on 19 October.\\\\n\\\\nNemesis and Pyramid H…\",\"created_at\":\"2021-10-18T14:40:22.000Z\",\"author_id\":\"752792930855710720\",\"id\":\"1450109507200290820\"},{\"lang\":\"en\",\"public_metrics\":{\"retweet_count\":12,\"reply_count\":0,\"like_count\":0,\"quote_count\":0},\"text\":\"RT @dragen_gyrr: #DeadbyDaylight #Huntress\\\\n\\\\n“Come, child, I’ll get the high ones for you.”\\\\n\\\\nWild apples. https://t.co/nTcl1L9Kwc\",\"created_at\":\"2021-10-18T14:39:42.000Z\",\"author_id\":\"1120653528144310272\",\"id\":\"1450109336445878275\"},{\"lang\":\"en\",\"public_metrics\":{\"retweet_count\":253,\"reply_count\":0,\"like_count\":0,\"quote_count\":0},\"text\":\"RT @dragen_gyrr: #DeadbyDaylight #dbdfanart #Trickster \\\\n\\\\n“You can hide in the shadows\\\\nAnd pretend I won’t find you\\\\nBut don’t you wish you’d…\",\"created_at\":\"2021-10-18T14:38:06.000Z\",\"author_id\":\"385962444\",\"id\":\"1450108935545913345\"},{\"lang\":\"en\",\"public_metrics\":{\"retweet_count\":1,\"reply_count\":0,\"like_count\":0,\"quote_count\":0},\"text\":\"RT @BigBoyOlly: \\'Freddy has the exact same lunge as every other killer\\' \\\\neat my arse you liar.\\\\n\\\\nRes: 1200x1440\\\\n#DeadbyDaylight https://t.co…\",\"created_at\":\"2021-10-18T14:37:22.000Z\",\"author_id\":\"1299446527664979970\",\"id\":\"1450108750740824070\"},{\"lang\":\"en\",\"public_metrics\":{\"retweet_count\":79,\"reply_count\":0,\"like_count\":0,\"quote_count\":0},\"text\":\"RT @dragen_gyrr: #DeadbyDaylight\\\\nWhen you’re kinda dark and twisted, but you still want to feel pretty. https://t.co/GnhF0QAdXc\",\"created_at\":\"2021-10-18T14:37:00.000Z\",\"author_id\":\"385962444\",\"id\":\"1450108660290523143\"},{\"lang\":\"en\",\"public_metrics\":{\"retweet_count\":11,\"reply_count\":0,\"like_count\":0,\"quote_count\":0},\"text\":\"RT @dragen_gyrr: #DeadbyDaylight #Trickster #JiWoonHak #Procreate \\\\n\\\\nFamily restaurant.\\\\n\\\\n\\\\\"Even as a child he found ways to draw crowds. (…)…\",\"created_at\":\"2021-10-18T14:36:49.000Z\",\"author_id\":\"385962444\",\"id\":\"1450108612647342081\"},{\"lang\":\"en\",\"public_metrics\":{\"retweet_count\":53,\"reply_count\":0,\"like_count\":0,\"quote_count\":0},\"text\":\"RT @DiHA_Artwork: \\\\\"Purgation.\\\\\" \\\\uD83E\\\\uDD2E\\\\n\\\\n#DeadbyDaylight #dbd #dbdfanart #artnouveau #art #plague #janeromero @DeadByBHVR https://t.co/HFjJqOyTW6\",\"created_at\":\"2021-10-18T14:36:31.000Z\",\"author_id\":\"1265086360827965441\",\"id\":\"1450108537431117830\"},{\"lang\":\"en\",\"public_metrics\":{\"retweet_count\":2,\"reply_count\":0,\"like_count\":0,\"quote_count\":0},\"text\":\"RT @ItsVirusXD: NEW Dead by daylight Video is up on my Channel! One Last Ride with Deathslinger before his big big nerf, Im not gonna lie..…\",\"created_at\":\"2021-10-18T14:35:56.000Z\",\"author_id\":\"1297491529934798849\",\"id\":\"1450108391075074052\"},{\"lang\":\"en\",\"public_metrics\":{\"retweet_count\":116,\"reply_count\":0,\"like_count\":0,\"quote_count\":0},\"text\":\"RT @leaksbydaylight: Write the \\'DBDJAYJP2021\\' code in \\'redeem code\\' in the in-game store to get 202,100 bloodpoints! \\\\n\\\\n#DeadbyDaylight #lea…\",\"created_at\":\"2021-10-18T14:35:52.000Z\",\"author_id\":\"1409029109942980608\",\"id\":\"1450108371353444357\"},{\"lang\":\"en\",\"public_metrics\":{\"retweet_count\":0,\"reply_count\":0,\"like_count\":0,\"quote_count\":0},\"text\":\"\\\\\"#DeadbyDaylight at 3 am be like...\\\\\"\\\\nAnother vid i whipped up. Hope you enjoy!\\\\n#dbd https://t.co/MIJV4OZK3l\",\"created_at\":\"2021-10-18T14:35:32.000Z\",\"author_id\":\"785661253783912448\",\"id\":\"1450108289061171206\"},{\"lang\":\"en\",\"public_metrics\":{\"retweet_count\":144,\"reply_count\":0,\"like_count\":0,\"quote_count\":0},\"text\":\"RT @dragen_gyrr: #DeadbyDaylight #JiWoonHak #Trickster #dbdfanart \\\\n\\\\n[GORE WARNING]\\\\n\\\\n\\\\\"Are you already falling asleep? Hush, hush. Be happy n…\",\"created_at\":\"2021-10-18T14:35:24.000Z\",\"author_id\":\"385962444\",\"id\":\"1450108253858189319\"},{\"lang\":\"en\",\"public_metrics\":{\"retweet_count\":4,\"reply_count\":0,\"like_count\":0,\"quote_count\":0},\"text\":\"RT @MKUltraLegend: #DeadbyDaylight MUST Change or Die\\\\uD83D\\\\uDC80\\\\n\\\\nPlease Watch/Share New Vid: https://t.co/szeH1l5oMv\\\\n\\\\n@wwwanpaus @StreamerWall @Stre…\",\"created_at\":\"2021-10-18T14:34:18.000Z\",\"author_id\":\"1286432316118753291\",\"id\":\"1450107979135700997\"},{\"lang\":\"en\",\"public_metrics\":{\"retweet_count\":12,\"reply_count\":0,\"like_count\":0,\"quote_count\":0},\"text\":\"RT @dragen_gyrr: #DeadbyDaylight #Huntress\\\\n\\\\n“Come, child, I’ll get the high ones for you.”\\\\n\\\\nWild apples. https://t.co/nTcl1L9Kwc\",\"created_at\":\"2021-10-18T14:34:16.000Z\",\"author_id\":\"385962444\",\"id\":\"1450107970612723728\"},{\"lang\":\"en\",\"public_metrics\":{\"retweet_count\":0,\"reply_count\":0,\"like_count\":0,\"quote_count\":0},\"text\":\"Felt bad for him #DeadbyDaylight #XboxShare https://t.co/2qUgKtT3iv\",\"created_at\":\"2021-10-18T14:34:07.000Z\",\"author_id\":\"1144253997139857408\",\"id\":\"1450107933996503040\"},{\"lang\":\"en\",\"public_metrics\":{\"retweet_count\":33,\"reply_count\":0,\"like_count\":0,\"quote_count\":0},\"text\":\"RT @leaksbydaylight: Sorry for the typo, the correct code is DBDDAYJP2021.\\\\n\\\\nI remind you that tomorrow will be released the mid-chapter pat…\",\"created_at\":\"2021-10-18T14:34:00.000Z\",\"author_id\":\"715821488767631360\",\"id\":\"1450107901780037637\"},{\"lang\":\"en\",\"public_metrics\":{\"retweet_count\":84,\"reply_count\":0,\"like_count\":0,\"quote_count\":0},\"text\":\"RT @LeaksDbd: David\\'s \\\\\"The Ruffian\\\\\" and Adam\\'s \\\\\"Jamaican Proud\\\\\" cosmetics will make their way to shop on 19 October.\\\\n\\\\nNemesis and Pyramid H…\",\"created_at\":\"2021-10-18T14:33:56.000Z\",\"author_id\":\"715821488767631360\",\"id\":\"1450107887427129345\"},{\"lang\":\"en\",\"public_metrics\":{\"retweet_count\":1,\"reply_count\":0,\"like_count\":0,\"quote_count\":0},\"text\":\"RT @DayumissJam: little stream in the morning playing #DeadbyDaylight and trying to fuckingggg survive \\\\nhttps://t.co/3E13Gwlucw\",\"created_at\":\"2021-10-18T14:33:29.000Z\",\"author_id\":\"2371294540\",\"id\":\"1450107774654992387\"},{\"lang\":\"en\",\"public_metrics\":{\"retweet_count\":116,\"reply_count\":0,\"like_count\":0,\"quote_count\":0},\"text\":\"RT @leaksbydaylight: Write the \\'DBDJAYJP2021\\' code in \\'redeem code\\' in the in-game store to get 202,100 bloodpoints! \\\\n\\\\n#DeadbyDaylight #lea…\",\"created_at\":\"2021-10-18T14:33:27.000Z\",\"author_id\":\"1164713000365895680\",\"id\":\"1450107766748626949\"},{\"lang\":\"en\",\"public_metrics\":{\"retweet_count\":38,\"reply_count\":0,\"like_count\":0,\"quote_count\":0},\"text\":\"RT @SpitfireMichina: \\\\\"Trust your bloodline. Feel the power of your rage and spread it against those who harm you. Be part of the Oni, Rin.\\\\\"…\",\"created_at\":\"2021-10-18T14:33:17.000Z\",\"author_id\":\"17730060\",\"id\":\"1450107721609584645\"},{\"lang\":\"en\",\"public_metrics\":{\"retweet_count\":2,\"reply_count\":0,\"like_count\":0,\"quote_count\":0},\"text\":\"RT @ItsVirusXD: NEW Dead by daylight Video is up on my Channel! One Last Ride with Deathslinger before his big big nerf, Im not gonna lie..…\",\"created_at\":\"2021-10-18T14:33:14.000Z\",\"author_id\":\"1158193215532609539\",\"id\":\"1450107708376559618\"},{\"lang\":\"en\",\"public_metrics\":{\"retweet_count\":2,\"reply_count\":0,\"like_count\":1,\"quote_count\":0},\"text\":\"NEW Dead by daylight Video is up on my Channel! One Last Ride with Deathslinger before his big big nerf, Im not gonna lie...I\\'m gonna miss Quickscoping\\\\uD83D\\\\uDE2D This game was super sick \\\\uD83D\\\\uDE4CLink to video will be here!\\\\uD83D\\\\uDC49https://t.co/KjTw066kaA #Deadbydaylight #Gaming #Youtubegaming #Killer https://t.co/V8K0HGbCzi\",\"created_at\":\"2021-10-18T14:33:10.000Z\",\"author_id\":\"1158193215532609539\",\"id\":\"1450107691578368003\"},{\"lang\":\"en\",\"public_metrics\":{\"retweet_count\":1,\"reply_count\":0,\"like_count\":0,\"quote_count\":0},\"text\":\"RT @SteamPoweredHRT: Recording Live for YouTube.. COme join the fun and make my Builds. DEAD BY DEADLIGHT!!! . https://t.co/PjSodQarUo #QWG…\",\"created_at\":\"2021-10-18T14:33:09.000Z\",\"author_id\":\"871959011893104640\",\"id\":\"1450107691330936833\"},{\"lang\":\"en\",\"public_metrics\":{\"retweet_count\":1,\"reply_count\":1,\"like_count\":0,\"quote_count\":0},\"text\":\"Recording Live for YouTube.. COme join the fun and make my Builds. DEAD BY DEADLIGHT!!! . https://t.co/PjSodQarUo #QWGstream #girlstreamers #twitch #lgbt #twitchgirls #girlgamer #twitchaffiliate #TransStreamer #LGBT+ #DoWhatIWant #Pride #DeadByDaylight\",\"created_at\":\"2021-10-18T14:33:02.000Z\",\"author_id\":\"2364164520\",\"id\":\"1450107658317570049\"},{\"lang\":\"en\",\"public_metrics\":{\"retweet_count\":86,\"reply_count\":0,\"like_count\":0,\"quote_count\":0},\"text\":\"RT @leaksbydaylight: #TheEvilWithin &amp; #Hellraiser could be the next two licenses on the way: https://t.co/9CIX5Je7E2\\\\n\\\\nWould you be interest…\",\"created_at\":\"2021-10-18T14:32:38.000Z\",\"author_id\":\"1447525836052209665\",\"id\":\"1450107559436816394\"},{\"lang\":\"en\",\"public_metrics\":{\"retweet_count\":116,\"reply_count\":0,\"like_count\":0,\"quote_count\":0},\"text\":\"RT @leaksbydaylight: Write the \\'DBDJAYJP2021\\' code in \\'redeem code\\' in the in-game store to get 202,100 bloodpoints! \\\\n\\\\n#DeadbyDaylight #lea…\",\"created_at\":\"2021-10-18T14:32:25.000Z\",\"author_id\":\"1447525836052209665\",\"id\":\"1450107505787523076\"},{\"lang\":\"en\",\"public_metrics\":{\"retweet_count\":33,\"reply_count\":0,\"like_count\":0,\"quote_count\":0},\"text\":\"RT @leaksbydaylight: Sorry for the typo, the correct code is DBDDAYJP2021.\\\\n\\\\nI remind you that tomorrow will be released the mid-chapter pat…\",\"created_at\":\"2021-10-18T14:31:57.000Z\",\"author_id\":\"979615708580536322\",\"id\":\"1450107385863933953\"},{\"lang\":\"en\",\"public_metrics\":{\"retweet_count\":0,\"reply_count\":0,\"like_count\":0,\"quote_count\":0},\"text\":\"Grab yourself a mug of coffee. We\\'re now live with some #DeadByDaylight games on Twitch! ☕️ https://t.co/DhjoeoqXhZ\",\"created_at\":\"2021-10-18T14:31:41.000Z\",\"author_id\":\"235665226\",\"id\":\"1450107319132508167\"},{\"lang\":\"en\",\"public_metrics\":{\"retweet_count\":3,\"reply_count\":0,\"like_count\":0,\"quote_count\":0},\"text\":\"RT @mcarnoldhat: Did a quick Nea render In blender hope you guys like it! #DeadbyDaylight #3dart https://t.co/XhCpMhfIzT\",\"created_at\":\"2021-10-18T14:30:44.000Z\",\"author_id\":\"1398787621711720448\",\"id\":\"1450107080325619717\"},{\"lang\":\"en\",\"public_metrics\":{\"retweet_count\":2,\"reply_count\":0,\"like_count\":0,\"quote_count\":0},\"text\":\"RT @CatsacueG: my dead hard has let me down so many times... I don\\'t use it anymore.  feelsbad for @T1elure #DeadbyDaylight #dbd #twitch #d…\",\"created_at\":\"2021-10-18T14:30:44.000Z\",\"author_id\":\"1351766865345961984\",\"id\":\"1450107080224874503\"},{\"lang\":\"en\",\"public_metrics\":{\"retweet_count\":0,\"reply_count\":0,\"like_count\":3,\"quote_count\":0},\"text\":\"\\\\uD83C\\\\uDF83LIVE \\\\uD83C\\\\uDF83\\\\nOver On #twitch With The Grind To Iri 1 In Gold 4 ATM!! \\\\uD83D\\\\uDD2A\\\\uD83D\\\\uDC7B\\\\nWe Be Playing Some #DeadbyDaylight \\\\nCome On Over Wiith That Positive Vibe ♥️\\\\uD83D\\\\uDE4F\\\\nhttps://t.co/jYwNKUmqPs\",\"created_at\":\"2021-10-18T14:29:57.000Z\",\"author_id\":\"1287412300526358529\",\"id\":\"1450106885458305030\"},{\"lang\":\"en\",\"public_metrics\":{\"retweet_count\":602,\"reply_count\":0,\"like_count\":0,\"quote_count\":0},\"text\":\"RT @DARTS160: The Legion\\\\n\\\\nJulie @coin_DBD \\\\nSusie @eeoe_51 \\\\nJoey @_Ropoly \\\\np.b @xavac1 \\\\n#DeadbyDaylight https://t.co/Z2aqkVTT6V\",\"created_at\":\"2021-10-18T14:29:22.000Z\",\"author_id\":\"1396945885590925314\",\"id\":\"1450106738414399491\"},{\"lang\":\"en\",\"public_metrics\":{\"retweet_count\":0,\"reply_count\":0,\"like_count\":0,\"quote_count\":0},\"text\":\"Speed hacking Myers                        #dbd #deadbydaylight #TikTok\\\\nhttps://t.co/tEr4QxqXot\",\"created_at\":\"2021-10-18T14:28:27.000Z\",\"author_id\":\"791020180109484032\",\"id\":\"1450106508461625349\"},{\"lang\":\"en\",\"public_metrics\":{\"retweet_count\":0,\"reply_count\":0,\"like_count\":1,\"quote_count\":0},\"text\":\"Come celebrate with me 10/20 on Twitch at 12pm EST\\\\uD83D\\\\uDC9C #LIVE #CancerAwareness #CancerFree #dbd #DeadbyDaylight #twitch #ttv #TTVGaming #twitchstreamer #dbdcosplay #deadbydaylightcosplay #twitchgirls https://t.co/VSR64wynhb\",\"created_at\":\"2021-10-18T14:28:14.000Z\",\"author_id\":\"767545702532648960\",\"id\":\"1450106450701848576\"},{\"lang\":\"en\",\"public_metrics\":{\"retweet_count\":1,\"reply_count\":0,\"like_count\":0,\"quote_count\":0},\"text\":\"RT @Basurita92: I really miss teaching anatomy to my students. And i really missed working with markers!\\\\nHave some DbD fanart with the most…\",\"created_at\":\"2021-10-18T14:27:18.000Z\",\"author_id\":\"1028479329964048384\",\"id\":\"1450106215237779457\"},{\"lang\":\"en\",\"public_metrics\":{\"retweet_count\":0,\"reply_count\":0,\"like_count\":1,\"quote_count\":0},\"text\":\"The madness for this week on https://t.co/VRecY3co7B includes #DeadbyDaylight , a Hatchet watch party, and an art stream where I\\'ll be turning myself into a Pokemon Trainer for @JazzaStudios\\'s #pokemonarttrainer challenge! All streams start at 7pm EST! See you there! https://t.co/pCaD0jereF\",\"created_at\":\"2021-10-18T14:26:17.000Z\",\"author_id\":\"1423482437766688770\",\"id\":\"1450105959813091330\"},{\"lang\":\"en\",\"public_metrics\":{\"retweet_count\":0,\"reply_count\":0,\"like_count\":0,\"quote_count\":0},\"text\":\"@DeadByBHVR SBMM has absolutely killed this game, camped and tunnelled every game by shite killers who are sucking the life out of it #DeadbyDaylight\",\"created_at\":\"2021-10-18T14:25:46.000Z\",\"author_id\":\"1352041653796794371\",\"id\":\"1450105832021106690\"},{\"lang\":\"en\",\"public_metrics\":{\"retweet_count\":654,\"reply_count\":0,\"like_count\":0,\"quote_count\":0},\"text\":\"RT @LeaksDbd: Tome IX - Crescendo Teaser.\\\\n\\\\nThanks to @PaulieEsther1 for sharing.\\\\n\\\\n#DeadbyDaylight #dbdleaks #leaksdbd #dbd https://t.co/tJl…\",\"created_at\":\"2021-10-18T14:24:42.000Z\",\"author_id\":\"942500570304262145\",\"id\":\"1450105560943190019\"},{\"lang\":\"en\",\"public_metrics\":{\"retweet_count\":4,\"reply_count\":0,\"like_count\":0,\"quote_count\":0},\"text\":\"RT @MKUltraLegend: #DeadbyDaylight MUST Change or Die\\\\uD83D\\\\uDC80\\\\n\\\\nPlease Watch/Share New Vid: https://t.co/szeH1l5oMv\\\\n\\\\n@wwwanpaus @StreamerWall @Stre…\",\"created_at\":\"2021-10-18T14:23:50.000Z\",\"author_id\":\"718867558485467136\",\"id\":\"1450105345397821442\"},{\"lang\":\"en\",\"public_metrics\":{\"retweet_count\":2,\"reply_count\":0,\"like_count\":0,\"quote_count\":0},\"text\":\"RT @firewitch74: Good morning cuties, I hope you all had a fantastic weekend. Let get on some DBD and boss some killers around. Missed your…\",\"created_at\":\"2021-10-18T14:23:42.000Z\",\"author_id\":\"1053790004990873601\",\"id\":\"1450105312514658308\"},{\"lang\":\"en\",\"public_metrics\":{\"retweet_count\":654,\"reply_count\":0,\"like_count\":0,\"quote_count\":0},\"text\":\"RT @LeaksDbd: Tome IX - Crescendo Teaser.\\\\n\\\\nThanks to @PaulieEsther1 for sharing.\\\\n\\\\n#DeadbyDaylight #dbdleaks #leaksdbd #dbd https://t.co/tJl…\",\"created_at\":\"2021-10-18T14:23:22.000Z\",\"author_id\":\"129089668\",\"id\":\"1450105228603260936\"},{\"lang\":\"en\",\"public_metrics\":{\"retweet_count\":12,\"reply_count\":0,\"like_count\":0,\"quote_count\":0},\"text\":\"RT @dragen_gyrr: #DeadbyDaylight #Huntress\\\\n\\\\n“Come, child, I’ll get the high ones for you.”\\\\n\\\\nWild apples. https://t.co/nTcl1L9Kwc\",\"created_at\":\"2021-10-18T14:22:48.000Z\",\"author_id\":\"1345660767412969472\",\"id\":\"1450105083845222402\"},{\"lang\":\"en\",\"public_metrics\":{\"retweet_count\":1,\"reply_count\":0,\"like_count\":0,\"quote_count\":0},\"text\":\"RT @cheryljeanleo: \\\\uD83D\\\\uDC9C Spooky season blog posts continue! \\\\uD83C\\\\uDF83\\\\uD83D\\\\uDE28 Explore the game design of fear in Dead by Daylight, through some clever techniq…\",\"created_at\":\"2021-10-18T14:22:43.000Z\",\"author_id\":\"976296019204780033\",\"id\":\"1450105064543199234\"},{\"lang\":\"en\",\"public_metrics\":{\"retweet_count\":1,\"reply_count\":0,\"like_count\":1,\"quote_count\":0},\"text\":\"\\\\uD83D\\\\uDC9C Spooky season blog posts continue! \\\\uD83C\\\\uDF83\\\\uD83D\\\\uDE28 Explore the game design of fear in Dead by Daylight, through some clever techniques to keep players on their toes. \\\\uD83D\\\\uDE31 #gamedesign #gamedev #deadbydaylight #dbd \\\\n@DeadByBHVR #indiegames #videogames https://t.co/Gfa68YwVKV\",\"created_at\":\"2021-10-18T14:22:00.000Z\",\"author_id\":\"284583781\",\"id\":\"1450104882300694539\"},{\"lang\":\"en\",\"public_metrics\":{\"retweet_count\":0,\"reply_count\":0,\"like_count\":1,\"quote_count\":0},\"text\":\"❤️LIVE\\\\n\\\\nI am the most wholesome.\\\\n\\\\nSwitching up this Monday with a little #DeadbyDaylight https://t.co/gbw1OT8Wnj\",\"created_at\":\"2021-10-18T14:21:42.000Z\",\"author_id\":\"1599625710\",\"id\":\"1450104807788789761\"},{\"lang\":\"en\",\"public_metrics\":{\"retweet_count\":2,\"reply_count\":0,\"like_count\":0,\"quote_count\":0},\"text\":\"RT @TTVOmankoVivi: Bill Shenanigans  LMAO Facade got REKT in games today, but that\\'s okay cuz he got some good W\\'s too~\\\\n\\\\n@TTVtheonifacade \\\\uD83D\\\\uDC9A…\",\"created_at\":\"2021-10-18T14:21:35.000Z\",\"author_id\":\"2406486909\",\"id\":\"1450104778827214850\"},{\"lang\":\"en\",\"public_metrics\":{\"retweet_count\":0,\"reply_count\":0,\"like_count\":0,\"quote_count\":0},\"text\":\"Good morning peeps. Hope you all have an amazing day. Tonight we going live @ https://t.co/3meyl5QeTF with some #DeadbyDaylight and #StreamRaiders hope to see you all there. #Console #PlayStation5\",\"created_at\":\"2021-10-18T14:21:23.000Z\",\"author_id\":\"2540528401\",\"id\":\"1450104727778308097\"},{\"lang\":\"en\",\"public_metrics\":{\"retweet_count\":0,\"reply_count\":0,\"like_count\":1,\"quote_count\":0},\"text\":\"Live with some #DeadbyDaylight. Come vibe ♥ \\\\nhttps://t.co/ZtvMQPCgD3\",\"created_at\":\"2021-10-18T14:21:08.000Z\",\"author_id\":\"1695442230\",\"id\":\"1450104666021322752\"},{\"lang\":\"en\",\"public_metrics\":{\"retweet_count\":84,\"reply_count\":0,\"like_count\":0,\"quote_count\":0},\"text\":\"RT @LeaksDbd: David\\'s \\\\\"The Ruffian\\\\\" and Adam\\'s \\\\\"Jamaican Proud\\\\\" cosmetics will make their way to shop on 19 October.\\\\n\\\\nNemesis and Pyramid H…\",\"created_at\":\"2021-10-18T14:20:45.000Z\",\"author_id\":\"1135033070\",\"id\":\"1450104566918221828\"},{\"lang\":\"en\",\"public_metrics\":{\"retweet_count\":1,\"reply_count\":0,\"like_count\":0,\"quote_count\":0},\"text\":\"RT @MaddieGaming4: Hey guys I’m live right now Check out The weather is getting a little cold My Followers Goal 284/300 | Support Me !donat…\",\"created_at\":\"2021-10-18T14:19:38.000Z\",\"author_id\":\"204728012\",\"id\":\"1450104288064282626\"},{\"lang\":\"en\",\"public_metrics\":{\"retweet_count\":116,\"reply_count\":0,\"like_count\":0,\"quote_count\":0},\"text\":\"RT @leaksbydaylight: Write the \\'DBDJAYJP2021\\' code in \\'redeem code\\' in the in-game store to get 202,100 bloodpoints! \\\\n\\\\n#DeadbyDaylight #lea…\",\"created_at\":\"2021-10-18T14:19:24.000Z\",\"author_id\":\"2531433864\",\"id\":\"1450104230136762377\"},{\"lang\":\"en\",\"public_metrics\":{\"retweet_count\":4,\"reply_count\":0,\"like_count\":0,\"quote_count\":0},\"text\":\"RT @MKUltraLegend: #DeadbyDaylight MUST Change or Die\\\\uD83D\\\\uDC80\\\\n\\\\nPlease Watch/Share New Vid: https://t.co/szeH1l5oMv\\\\n\\\\n@wwwanpaus @StreamerWall @Stre…\",\"created_at\":\"2021-10-18T14:19:02.000Z\",\"author_id\":\"1272580109820624896\",\"id\":\"1450104138356850691\"},{\"lang\":\"en\",\"public_metrics\":{\"retweet_count\":4,\"reply_count\":0,\"like_count\":0,\"quote_count\":0},\"text\":\"RT @MKUltraLegend: #DeadbyDaylight MUST Change or Die\\\\uD83D\\\\uDC80\\\\n\\\\nPlease Watch/Share New Vid: https://t.co/szeH1l5oMv\\\\n\\\\n@wwwanpaus @StreamerWall @Stre…\",\"created_at\":\"2021-10-18T14:18:09.000Z\",\"author_id\":\"1150729203563806720\",\"id\":\"1450103915186311170\"},{\"lang\":\"en\",\"public_metrics\":{\"retweet_count\":1,\"reply_count\":0,\"like_count\":1,\"quote_count\":0},\"text\":\"Hey guys I’m live right now Check out The weather is getting a little cold My Followers Goal 284/300 | Support Me !donate https://t.co/0tjjkmpiYv @Twitch @DeadByBHVR @PlayStation #deadbydaylight #playstation #Gammergirl\",\"created_at\":\"2021-10-18T14:17:50.000Z\",\"author_id\":\"1007293739428139008\",\"id\":\"1450103832780984323\"},{\"lang\":\"en\",\"public_metrics\":{\"retweet_count\":4,\"reply_count\":0,\"like_count\":1,\"quote_count\":0},\"text\":\"#DeadbyDaylight MUST Change or Die\\\\uD83D\\\\uDC80\\\\n\\\\nPlease Watch/Share New Vid: https://t.co/szeH1l5oMv\\\\n\\\\n@wwwanpaus @StreamerWall @StreamTweets4 @StreamersRtw @smallerstreams @RealDrCollision @sme_rt @Stream_Support_ @StreamersBoosts @ShoutGamers \\\\n@Retweet_Twitch\\\\n@TwitterGaming @rtsmallstreams\",\"created_at\":\"2021-10-18T14:17:45.000Z\",\"author_id\":\"1260541059718930433\",\"id\":\"1450103813042491394\"},{\"lang\":\"en\",\"public_metrics\":{\"retweet_count\":5,\"reply_count\":0,\"like_count\":0,\"quote_count\":0},\"text\":\"RT @Ghostfacecouk: Just had a call with @RJTorbert .. Jeez... its REALLY busy over there.. Lots happening...  Someone asked him recently if…\",\"created_at\":\"2021-10-18T14:16:14.000Z\",\"author_id\":\"780349518864932864\",\"id\":\"1450103430979244038\"},{\"lang\":\"en\",\"public_metrics\":{\"retweet_count\":84,\"reply_count\":0,\"like_count\":0,\"quote_count\":0},\"text\":\"RT @LeaksDbd: David\\'s \\\\\"The Ruffian\\\\\" and Adam\\'s \\\\\"Jamaican Proud\\\\\" cosmetics will make their way to shop on 19 October.\\\\n\\\\nNemesis and Pyramid H…\",\"created_at\":\"2021-10-18T14:16:08.000Z\",\"author_id\":\"1330139565961654276\",\"id\":\"1450103407184789504\"},{\"lang\":\"en\",\"public_metrics\":{\"retweet_count\":12,\"reply_count\":0,\"like_count\":0,\"quote_count\":0},\"text\":\"RT @dragen_gyrr: #DeadbyDaylight #Huntress\\\\n\\\\n“Come, child, I’ll get the high ones for you.”\\\\n\\\\nWild apples. https://t.co/nTcl1L9Kwc\",\"created_at\":\"2021-10-18T14:15:46.000Z\",\"author_id\":\"1123203809893740545\",\"id\":\"1450103313626587140\"},{\"lang\":\"en\",\"public_metrics\":{\"retweet_count\":0,\"reply_count\":0,\"like_count\":2,\"quote_count\":0},\"text\":\"Doge By Daylight \\\\n\\\\n#Doge #DeadbyDaylight https://t.co/E7gqft6VRt\",\"created_at\":\"2021-10-18T14:15:37.000Z\",\"author_id\":\"1277175589066047489\",\"id\":\"1450103276699992074\"},{\"lang\":\"en\",\"public_metrics\":{\"retweet_count\":12,\"reply_count\":0,\"like_count\":0,\"quote_count\":0},\"text\":\"RT @dragen_gyrr: #DeadbyDaylight #Huntress\\\\n\\\\n“Come, child, I’ll get the high ones for you.”\\\\n\\\\nWild apples. https://t.co/nTcl1L9Kwc\",\"created_at\":\"2021-10-18T14:15:36.000Z\",\"author_id\":\"963272059114610689\",\"id\":\"1450103274393124867\"},{\"lang\":\"en\",\"public_metrics\":{\"retweet_count\":5,\"reply_count\":0,\"like_count\":0,\"quote_count\":0},\"text\":\"RT @Ghostfacecouk: Just had a call with @RJTorbert .. Jeez... its REALLY busy over there.. Lots happening...  Someone asked him recently if…\",\"created_at\":\"2021-10-18T14:15:28.000Z\",\"author_id\":\"1214702765005557761\",\"id\":\"1450103239584718852\"},{\"lang\":\"en\",\"public_metrics\":{\"retweet_count\":12,\"reply_count\":0,\"like_count\":0,\"quote_count\":0},\"text\":\"RT @dragen_gyrr: #DeadbyDaylight #Huntress\\\\n\\\\n“Come, child, I’ll get the high ones for you.”\\\\n\\\\nWild apples. https://t.co/nTcl1L9Kwc\",\"created_at\":\"2021-10-18T14:13:56.000Z\",\"author_id\":\"1386143424714317825\",\"id\":\"1450102853574565891\"},{\"lang\":\"en\",\"public_metrics\":{\"retweet_count\":2,\"reply_count\":0,\"like_count\":0,\"quote_count\":0},\"text\":\"RT @SpeedyGentt: Random perk games #DeadbyDaylight \\\\n#trans #twitch #twitchtv #TwitchTVGaming #twitchaffiliate #twitchstreamer #smallstreame…\",\"created_at\":\"2021-10-18T14:13:28.000Z\",\"author_id\":\"1449041481499496451\",\"id\":\"1450102735483768832\"},{\"lang\":\"en\",\"public_metrics\":{\"retweet_count\":5,\"reply_count\":0,\"like_count\":0,\"quote_count\":0},\"text\":\"RT @Eraleas: Get ready for the Hour of the Witch! \\\\uD83C\\\\uDF83\\\\uD83C\\\\uDF83\\\\uD83C\\\\uDF83\\\\n\\\\nParticipate in the giveaway for a chance to win the new DBD DLC! \\\\n\\\\nTomorrow, Tuesday…\",\"created_at\":\"2021-10-18T14:12:59.000Z\",\"author_id\":\"1292161991973445632\",\"id\":\"1450102615182696462\"},{\"lang\":\"en\",\"public_metrics\":{\"retweet_count\":84,\"reply_count\":0,\"like_count\":0,\"quote_count\":0},\"text\":\"RT @LeaksDbd: David\\'s \\\\\"The Ruffian\\\\\" and Adam\\'s \\\\\"Jamaican Proud\\\\\" cosmetics will make their way to shop on 19 October.\\\\n\\\\nNemesis and Pyramid H…\",\"created_at\":\"2021-10-18T14:12:55.000Z\",\"author_id\":\"1018600273021980673\",\"id\":\"1450102596006555652\"},{\"lang\":\"en\",\"public_metrics\":{\"retweet_count\":116,\"reply_count\":0,\"like_count\":0,\"quote_count\":0},\"text\":\"RT @leaksbydaylight: Write the \\'DBDJAYJP2021\\' code in \\'redeem code\\' in the in-game store to get 202,100 bloodpoints! \\\\n\\\\n#DeadbyDaylight #lea…\",\"created_at\":\"2021-10-18T14:12:54.000Z\",\"author_id\":\"1015767825611415552\",\"id\":\"1450102595306106881\"}],\"includes\":{\"users\":[{\"id\":\"1070788108189347841\",\"name\":\"\\\\uD83C\\\\uDF82BDAY/3 DAYS \\\\uD83D\\\\uDD1E\\\\uD83C\\\\uDF83 Little Witch Girl \\\\uD83D\\\\uDC30\\\\uD83C\\\\uDFF3️\\u200d\\\\uD83C\\\\uDF08\",\"username\":\"rabbitcream_pie\"},{\"id\":\"1013025782162251776\",\"name\":\"\\\\uD83D\\\\uDD34 LIVE // SpookyHarryyy \\\\uD83D\\\\uDC7B // (he/him)\",\"username\":\"simplyharryyy\"},{\"id\":\"1321076943027142658\",\"name\":\"KitsuneLive\",\"username\":\"live_kitsune\"},{\"id\":\"728848756670631936\",\"name\":\"Lunarbb \\\\uD83C\\\\uDFDD\",\"username\":\"LunarBuneary\"},{\"id\":\"986300285231476736\",\"name\":\"PotatoLegion\",\"username\":\"PotatoLegionYT\"},{\"id\":\"1294617136120422400\",\"name\":\"BigBoyOlly\",\"username\":\"BigBoyOlly\"},{\"id\":\"2383570802\",\"name\":\"リッキー\",\"username\":\"r0419i\"},{\"id\":\"2502343650\",\"name\":\"Tiger Mom\",\"username\":\"TheAmazingMugi\"},{\"id\":\"1146447841478336512\",\"name\":\"✨ Alex ✨\",\"username\":\"Knda_Rad\"},{\"id\":\"1278761514837704714\",\"name\":\"Estrella\",\"username\":\"imaweirdo999\"},{\"id\":\"277522467\",\"name\":\"Dove\",\"username\":\"dove_darko\"},{\"id\":\"1013023386\",\"name\":\"Michael horak\",\"username\":\"Michaelhorak001\"},{\"id\":\"937423898173468672\",\"name\":\"jota_jota\",\"username\":\"twitch_jota\"},{\"id\":\"2276460810\",\"name\":\"\\\\uD83E\\\\uDE78indrid @ michael myer’s silly rabbit\\\\uD83E\\\\uDE78\",\"username\":\"faemothra\"},{\"id\":\"2531314892\",\"name\":\"Nick \\\\uD83E\\\\uDD81\",\"username\":\"SaintNack\"},{\"id\":\"1033916622803816448\",\"name\":\"никс\",\"username\":\"eeriuffi\"},{\"id\":\"795037005369507844\",\"name\":\"Dawson Cowart \\\\uD83D\\\\uDD2E\",\"username\":\"SightofAnubis\"},{\"id\":\"717403149204635656\",\"name\":\"ash face in mean ghost Williams\",\"username\":\"Mrforty2\"},{\"id\":\"195110746\",\"name\":\"Smoth\",\"username\":\"Inversewhisper1\"},{\"id\":\"1087141339035140096\",\"name\":\"☄ Mr. Society ☄\",\"username\":\"Quinnsteria\"},{\"id\":\"1431845094399741959\",\"name\":\"あべこ\",\"username\":\"Abe_slashers\"},{\"id\":\"1084957273955418112\",\"name\":\"Stixzadinia84\",\"username\":\"stixzadinia84\"},{\"id\":\"1445390663772745736\",\"name\":\"Zenkrov\",\"username\":\"Zenkrov_tv\"},{\"id\":\"1148302617631703042\",\"name\":\"Fabrício Beck ッ\",\"username\":\"fabricio_beck13\"},{\"id\":\"3451123212\",\"name\":\"Doot\",\"username\":\"DootQuinn\"},{\"id\":\"829003413505445889\",\"name\":\"Talgor\",\"username\":\"TalgorGames\"},{\"id\":\"347225664\",\"name\":\"blHuey\",\"username\":\"blHuey\"},{\"id\":\"1087400355447607298\",\"name\":\"Patrick olsen\",\"username\":\"Infernoworks\"},{\"id\":\"1604158910\",\"name\":\"Jess Fortune\",\"username\":\"_jessicafortune\"},{\"id\":\"1447728695490273288\",\"name\":\"Kveira\",\"username\":\"DaviKveira\"},{\"id\":\"1388974990712844288\",\"name\":\"ttv:csjx905\",\"username\":\"csjx905\"},{\"id\":\"939999368769351682\",\"name\":\"HaZaRdZ\",\"username\":\"HaZaRdZGaMeInG\"},{\"id\":\"1438260031284260869\",\"name\":\"ThebnizzleTTV\",\"username\":\"thebnizzleTTV\"},{\"id\":\"752792930855710720\",\"name\":\"QuinnPhoenix22\",\"username\":\"QuinnPhoenix22x\"},{\"id\":\"1120653528144310272\",\"name\":\"Rangsil\",\"username\":\"PRSrangsil\"},{\"id\":\"385962444\",\"name\":\"와플\",\"username\":\"waffle_youknow\"},{\"id\":\"1299446527664979970\",\"name\":\"Cote Driiip\",\"username\":\"DedicatedMain\"},{\"id\":\"1265086360827965441\",\"name\":\"Jung \\\\uD83C\\\\uDF83\",\"username\":\"PinheadsWaist\"},{\"id\":\"1297491529934798849\",\"name\":\"xaelserpent \\uea00\",\"username\":\"SerpentXael\"},{\"id\":\"1409029109942980608\",\"name\":\"WBTech\",\"username\":\"WBTech_TTV\"},{\"id\":\"785661253783912448\",\"name\":\"\\\\uD83E\\\\uDD54\\\\uD835\\\\uDD0Fօ\\\\uD835\\\\uDD28\\\\uD835\\\\uDD26-\\\\uD835\\\\uDD13\\\\uD835\\\\uDD2C\\\\uD835\\\\uDD31\\\\uD835\\\\uDD1E\\\\uD835\\\\uDD31\\\\uD835\\\\uDD2C\\\\uD83E\\\\uDD54\",\"username\":\"L0kiPotato\"},{\"id\":\"1286432316118753291\",\"name\":\"Perception\\'s Reciprocity\",\"username\":\"RagePacing\"},{\"id\":\"1144253997139857408\",\"name\":\"Lcgaming101518\",\"username\":\"lcgaming101518\"},{\"id\":\"715821488767631360\",\"name\":\"Silver\",\"username\":\"Vazrigo2424\"},{\"id\":\"2371294540\",\"name\":\"Avian Tettis\",\"username\":\"act603\"},{\"id\":\"1164713000365895680\",\"name\":\"Ghostza77\",\"username\":\"Crewza77\"},{\"id\":\"17730060\",\"name\":\"\\\\uD83D\\\\uDC79\\\\uD83D\\\\uDC7B✨demi✨\\\\uD83D\\\\uDC79\\\\uD83D\\\\uDC7B\",\"username\":\"demimenace\"},{\"id\":\"1158193215532609539\",\"name\":\"ItsVirusXD\",\"username\":\"ItsVirusXD\"},{\"id\":\"871959011893104640\",\"name\":\"Queer Women Game\",\"username\":\"QueerWomenGame\"},{\"id\":\"2364164520\",\"name\":\"SteamPowered_HRT\",\"username\":\"SteamPoweredHRT\"},{\"id\":\"1447525836052209665\",\"name\":\"Betty20302\",\"username\":\"betty20302\"},{\"id\":\"979615708580536322\",\"name\":\"nessa✨\\\\uD83C\\\\uDF38\",\"username\":\"nessquick102\"},{\"id\":\"235665226\",\"name\":\"Chapperz \\\\uD83C\\\\uDF31\",\"username\":\"ChapperzTV\"},{\"id\":\"1398787621711720448\",\"name\":\"Smightly\",\"username\":\"smightly\"},{\"id\":\"1351766865345961984\",\"name\":\"#voteallay\",\"username\":\"weabocore\"},{\"id\":\"1287412300526358529\",\"name\":\"\\\\uD83D\\\\uDC7BUkzMonster Twitch\\\\uD83D\\\\uDC7B\",\"username\":\"MonsterUkz\"},{\"id\":\"1396945885590925314\",\"name\":\"Killer Meg Thomas\",\"username\":\"Megmillanstan\"},{\"id\":\"791020180109484032\",\"name\":\"Leroy \\\\uD83C\\\\uDDE9\\\\uD83C\\\\uDDF4\",\"username\":\"ItsLeroyTTV\"},{\"id\":\"767545702532648960\",\"name\":\"Mombodsquadttv\",\"username\":\"mombodsquadttv\"},{\"id\":\"1028479329964048384\",\"name\":\"MarinaGloc\",\"username\":\"MarinaGloc\"},{\"id\":\"1423482437766688770\",\"name\":\"Crystal Calii\",\"username\":\"CrystalCalii\"},{\"id\":\"1352041653796794371\",\"name\":\"TUCK3R_tb7\",\"username\":\"TUCK3R_tb7\"},{\"id\":\"942500570304262145\",\"name\":\"\\\\uD83C\\\\uDFF3️\\u200d⚧️ lady alexis \\\\uD83C\\\\uDFF3️\\u200d⚧️\",\"username\":\"StebMcDreb\"},{\"id\":\"718867558485467136\",\"name\":\"Promote Smaller Streams!\",\"username\":\"smallerstreams\"},{\"id\":\"1053790004990873601\",\"name\":\"Platinum Squad\",\"username\":\"PlatSquad\"},{\"id\":\"129089668\",\"name\":\"Salty Paris\",\"username\":\"SaltyParis\"},{\"id\":\"1345660767412969472\",\"name\":\"사월 ʚ(ȉˬȉ⁎)ɞ˒˒\",\"username\":\"DBDapril\"},{\"id\":\"976296019204780033\",\"name\":\"Indie Game Sharer\",\"username\":\"IndieGameSharer\"},{\"id\":\"284583781\",\"name\":\"cheryl jean\",\"username\":\"cheryljeanleo\"},{\"id\":\"1599625710\",\"name\":\"\\\\uD835\\\\uDD7F\\\\uD835\\\\uDD8E\\\\uD835\\\\uDD92\\\\uD835\\\\uDD92\\\\uD835\\\\uDD9E \\\\uD835\\\\uDD6D\\\\uD835\\\\uDD9A\\\\uD835\\\\uDD97\\\\uD835\\\\uDD99\\\\uD835\\\\uDD94\\\\uD835\\\\uDD93\",\"username\":\"Timmy_t5tv\"},{\"id\":\"2406486909\",\"name\":\"Vivi’s Daddy\",\"username\":\"TheOniFacade\"},{\"id\":\"2540528401\",\"name\":\"Buggy_Mayor\",\"username\":\"BuggyMayor\"},{\"id\":\"1695442230\",\"name\":\"Faith Dementia\",\"username\":\"FaithDementia\"},{\"id\":\"1135033070\",\"name\":\"RYYU | BIG SHOT Panda\",\"username\":\"dooplespls\"},{\"id\":\"204728012\",\"name\":\"angelcakelala\",\"username\":\"angelcakelala\"},{\"id\":\"2531433864\",\"name\":\"⭐️ jonathan joestar ⭐️\",\"username\":\"legacy_smh\"},{\"id\":\"1272580109820624896\",\"name\":\"DrCollision | Streamer | YouTuber\",\"username\":\"RealDrCollision\"},{\"id\":\"1150729203563806720\",\"name\":\"streamachine retweets \\\\uD83C\\\\uDDEC\\\\uD83C\\\\uDDE7\",\"username\":\"sme_rt\"},{\"id\":\"1007293739428139008\",\"name\":\"Maddiemadisongaming \\\\uD83C\\\\uDFAE\\\\uD83C\\\\uDFA7\",\"username\":\"MaddieGaming4\"},{\"id\":\"1260541059718930433\",\"name\":\"Dr. Heath LEGEND\\\\uD83C\\\\uDF38 (sub to my YT)\",\"username\":\"MKUltraLegend\"},{\"id\":\"780349518864932864\",\"name\":\"\\\\uD83C\\\\uDF83 Fan of Halloween \\\\uD83C\\\\uDF83\",\"username\":\"Fan_of_Murder\"},{\"id\":\"1330139565961654276\",\"name\":\"\\\\uD83E\\\\uDD67\",\"username\":\"reyulah\"},{\"id\":\"1123203809893740545\",\"name\":\"\\\\uD83C\\\\uDF83Ropol\\\\uD83D\\\\uDD2A\",\"username\":\"_Ropoly\"},{\"id\":\"1277175589066047489\",\"name\":\"Scaring Karen\",\"username\":\"ScaringKaren\"},{\"id\":\"963272059114610689\",\"name\":\"호링 Horring\",\"username\":\"wldus7855\"},{\"id\":\"1214702765005557761\",\"name\":\"Post-Covid Parosmia Sucks Ass\",\"username\":\"DocShock1\"},{\"id\":\"1386143424714317825\",\"name\":\"squeetums\",\"username\":\"squeetumsss\"},{\"id\":\"1449041481499496451\",\"name\":\"Christopher Thomas\",\"username\":\"Sk0lgam3r\"},{\"id\":\"1292161991973445632\",\"name\":\"\\\\uD83D\\\\uDC2D VeriHiiri \\\\uD83D\\\\uDC2D\",\"username\":\"HiiriVeri\"},{\"id\":\"1018600273021980673\",\"name\":\"Iycee\",\"username\":\"Ax30n\"},{\"id\":\"1015767825611415552\",\"name\":\"NinjaVapor\\\\uD83D\\\\uDD31\\\\uD83D\\\\uDC99\\\\uD83E\\\\uDD88\\\\uD83D\\\\uDC14\\\\uD83D\\\\uDC19\\\\uD83D\\\\uDD0E\\\\uD83D\\\\uDC80\",\"username\":\"NinjaVapor\"}]},\"meta\":{\"newest_id\":\"1450114803830251520\",\"oldest_id\":\"1450102595306106881\",\"result_count\":100,\"next_token\":\"b26v89c19zqg8o3fpdv5sc12uo7zblxsg316wj7qa4arh\"}}'"
      ]
     },
     "execution_count": 42,
     "metadata": {},
     "output_type": "execute_result"
    }
   ],
   "source": [
    "response_1.text"
   ]
  },
  {
   "cell_type": "code",
   "execution_count": 21,
   "id": "00662b1d",
   "metadata": {},
   "outputs": [],
   "source": [
    "response_1_dict = json.loads(response_1.text)"
   ]
  },
  {
   "cell_type": "code",
   "execution_count": 22,
   "id": "4ecfded9",
   "metadata": {},
   "outputs": [
    {
     "data": {
      "text/plain": [
       "dict_keys(['data', 'includes', 'meta'])"
      ]
     },
     "execution_count": 22,
     "metadata": {},
     "output_type": "execute_result"
    }
   ],
   "source": [
    "response_1_dict.keys()"
   ]
  },
  {
   "cell_type": "code",
   "execution_count": 23,
   "id": "f66b8865",
   "metadata": {},
   "outputs": [],
   "source": [
    "my_df = pd.DataFrame(response_1_dict['data'])"
   ]
  },
  {
   "cell_type": "code",
   "execution_count": 24,
   "id": "59672970",
   "metadata": {},
   "outputs": [
    {
     "data": {
      "text/html": [
       "<div>\n",
       "<style scoped>\n",
       "    .dataframe tbody tr th:only-of-type {\n",
       "        vertical-align: middle;\n",
       "    }\n",
       "\n",
       "    .dataframe tbody tr th {\n",
       "        vertical-align: top;\n",
       "    }\n",
       "\n",
       "    .dataframe thead th {\n",
       "        text-align: right;\n",
       "    }\n",
       "</style>\n",
       "<table border=\"1\" class=\"dataframe\">\n",
       "  <thead>\n",
       "    <tr style=\"text-align: right;\">\n",
       "      <th></th>\n",
       "      <th>created_at</th>\n",
       "      <th>lang</th>\n",
       "      <th>text</th>\n",
       "      <th>id</th>\n",
       "      <th>public_metrics</th>\n",
       "      <th>author_id</th>\n",
       "    </tr>\n",
       "  </thead>\n",
       "  <tbody>\n",
       "    <tr>\n",
       "      <th>0</th>\n",
       "      <td>2021-10-18T14:55:56.000Z</td>\n",
       "      <td>en</td>\n",
       "      <td>RT @LeaksDbd: David's \"The Ruffian\" and Adam's...</td>\n",
       "      <td>1450113421274451973</td>\n",
       "      <td>{'retweet_count': 83, 'reply_count': 0, 'like_...</td>\n",
       "      <td>277522467</td>\n",
       "    </tr>\n",
       "    <tr>\n",
       "      <th>1</th>\n",
       "      <td>2021-10-18T14:55:39.000Z</td>\n",
       "      <td>en</td>\n",
       "      <td>🔴Directo de Dead by Daylight y mas tarde Fall ...</td>\n",
       "      <td>1450113353158901760</td>\n",
       "      <td>{'retweet_count': 0, 'reply_count': 0, 'like_c...</td>\n",
       "      <td>937423898173468672</td>\n",
       "    </tr>\n",
       "    <tr>\n",
       "      <th>2</th>\n",
       "      <td>2021-10-18T14:55:38.000Z</td>\n",
       "      <td>en</td>\n",
       "      <td>RT @mintcrowss: dimples and butterball arent s...</td>\n",
       "      <td>1450113347920277504</td>\n",
       "      <td>{'retweet_count': 124, 'reply_count': 0, 'like...</td>\n",
       "      <td>2276460810</td>\n",
       "    </tr>\n",
       "    <tr>\n",
       "      <th>3</th>\n",
       "      <td>2021-10-18T14:55:23.000Z</td>\n",
       "      <td>en</td>\n",
       "      <td>RT @Freyanuris: 🕯 “Does anyone else see that? ...</td>\n",
       "      <td>1450113284393209858</td>\n",
       "      <td>{'retweet_count': 4, 'reply_count': 0, 'like_c...</td>\n",
       "      <td>2531314892</td>\n",
       "    </tr>\n",
       "    <tr>\n",
       "      <th>4</th>\n",
       "      <td>2021-10-18T14:55:22.000Z</td>\n",
       "      <td>en</td>\n",
       "      <td>RT @DiHA_Artwork: \"Purgation.\" 🤮\\n\\n#DeadbyDay...</td>\n",
       "      <td>1450113280383594501</td>\n",
       "      <td>{'retweet_count': 53, 'reply_count': 0, 'like_...</td>\n",
       "      <td>1033916622803816448</td>\n",
       "    </tr>\n",
       "    <tr>\n",
       "      <th>...</th>\n",
       "      <td>...</td>\n",
       "      <td>...</td>\n",
       "      <td>...</td>\n",
       "      <td>...</td>\n",
       "      <td>...</td>\n",
       "      <td>...</td>\n",
       "    </tr>\n",
       "    <tr>\n",
       "      <th>95</th>\n",
       "      <td>2021-10-18T14:06:55.000Z</td>\n",
       "      <td>en</td>\n",
       "      <td>RT @DaneCelestia: And of course, Irys as her c...</td>\n",
       "      <td>1450101088066154501</td>\n",
       "      <td>{'retweet_count': 4, 'reply_count': 0, 'like_c...</td>\n",
       "      <td>1313596722870923265</td>\n",
       "    </tr>\n",
       "    <tr>\n",
       "      <th>96</th>\n",
       "      <td>2021-10-18T14:06:33.000Z</td>\n",
       "      <td>en</td>\n",
       "      <td>I've gotten SO into #DeadbyDaylight that I mig...</td>\n",
       "      <td>1450100996986871816</td>\n",
       "      <td>{'retweet_count': 0, 'reply_count': 0, 'like_c...</td>\n",
       "      <td>137026281</td>\n",
       "    </tr>\n",
       "    <tr>\n",
       "      <th>97</th>\n",
       "      <td>2021-10-18T14:05:23.000Z</td>\n",
       "      <td>en</td>\n",
       "      <td>RT @Slitherbop: The Doctor 👀 #DeadbyDaylight #...</td>\n",
       "      <td>1450100702102147075</td>\n",
       "      <td>{'retweet_count': 1415, 'reply_count': 0, 'lik...</td>\n",
       "      <td>822281569654030340</td>\n",
       "    </tr>\n",
       "    <tr>\n",
       "      <th>98</th>\n",
       "      <td>2021-10-18T14:03:46.000Z</td>\n",
       "      <td>en</td>\n",
       "      <td>RT @dragen_gyrr: #DeadbyDaylight #Huntress\\n\\n...</td>\n",
       "      <td>1450100294306525186</td>\n",
       "      <td>{'retweet_count': 11, 'reply_count': 0, 'like_...</td>\n",
       "      <td>1371769875568324611</td>\n",
       "    </tr>\n",
       "    <tr>\n",
       "      <th>99</th>\n",
       "      <td>2021-10-18T14:03:41.000Z</td>\n",
       "      <td>en</td>\n",
       "      <td>RT @Hexsplosions: More chilled #DBD: https://t...</td>\n",
       "      <td>1450100273637117953</td>\n",
       "      <td>{'retweet_count': 6, 'reply_count': 0, 'like_c...</td>\n",
       "      <td>1416084616813842433</td>\n",
       "    </tr>\n",
       "  </tbody>\n",
       "</table>\n",
       "<p>100 rows × 6 columns</p>\n",
       "</div>"
      ],
      "text/plain": [
       "                  created_at lang  \\\n",
       "0   2021-10-18T14:55:56.000Z   en   \n",
       "1   2021-10-18T14:55:39.000Z   en   \n",
       "2   2021-10-18T14:55:38.000Z   en   \n",
       "3   2021-10-18T14:55:23.000Z   en   \n",
       "4   2021-10-18T14:55:22.000Z   en   \n",
       "..                       ...  ...   \n",
       "95  2021-10-18T14:06:55.000Z   en   \n",
       "96  2021-10-18T14:06:33.000Z   en   \n",
       "97  2021-10-18T14:05:23.000Z   en   \n",
       "98  2021-10-18T14:03:46.000Z   en   \n",
       "99  2021-10-18T14:03:41.000Z   en   \n",
       "\n",
       "                                                 text                   id  \\\n",
       "0   RT @LeaksDbd: David's \"The Ruffian\" and Adam's...  1450113421274451973   \n",
       "1   🔴Directo de Dead by Daylight y mas tarde Fall ...  1450113353158901760   \n",
       "2   RT @mintcrowss: dimples and butterball arent s...  1450113347920277504   \n",
       "3   RT @Freyanuris: 🕯 “Does anyone else see that? ...  1450113284393209858   \n",
       "4   RT @DiHA_Artwork: \"Purgation.\" 🤮\\n\\n#DeadbyDay...  1450113280383594501   \n",
       "..                                                ...                  ...   \n",
       "95  RT @DaneCelestia: And of course, Irys as her c...  1450101088066154501   \n",
       "96  I've gotten SO into #DeadbyDaylight that I mig...  1450100996986871816   \n",
       "97  RT @Slitherbop: The Doctor 👀 #DeadbyDaylight #...  1450100702102147075   \n",
       "98  RT @dragen_gyrr: #DeadbyDaylight #Huntress\\n\\n...  1450100294306525186   \n",
       "99  RT @Hexsplosions: More chilled #DBD: https://t...  1450100273637117953   \n",
       "\n",
       "                                       public_metrics            author_id  \n",
       "0   {'retweet_count': 83, 'reply_count': 0, 'like_...            277522467  \n",
       "1   {'retweet_count': 0, 'reply_count': 0, 'like_c...   937423898173468672  \n",
       "2   {'retweet_count': 124, 'reply_count': 0, 'like...           2276460810  \n",
       "3   {'retweet_count': 4, 'reply_count': 0, 'like_c...           2531314892  \n",
       "4   {'retweet_count': 53, 'reply_count': 0, 'like_...  1033916622803816448  \n",
       "..                                                ...                  ...  \n",
       "95  {'retweet_count': 4, 'reply_count': 0, 'like_c...  1313596722870923265  \n",
       "96  {'retweet_count': 0, 'reply_count': 0, 'like_c...            137026281  \n",
       "97  {'retweet_count': 1415, 'reply_count': 0, 'lik...   822281569654030340  \n",
       "98  {'retweet_count': 11, 'reply_count': 0, 'like_...  1371769875568324611  \n",
       "99  {'retweet_count': 6, 'reply_count': 0, 'like_c...  1416084616813842433  \n",
       "\n",
       "[100 rows x 6 columns]"
      ]
     },
     "execution_count": 24,
     "metadata": {},
     "output_type": "execute_result"
    }
   ],
   "source": [
    "my_df.head(100)"
   ]
  },
  {
   "cell_type": "code",
   "execution_count": 25,
   "id": "2b317558",
   "metadata": {},
   "outputs": [
    {
     "data": {
      "text/plain": [
       "{'newest_id': '1450113421274451973',\n",
       " 'oldest_id': '1450100273637117953',\n",
       " 'result_count': 100,\n",
       " 'next_token': 'b26v89c19zqg8o3fpdv5sc12rmc1wiocuuohnidag1zst'}"
      ]
     },
     "execution_count": 25,
     "metadata": {},
     "output_type": "execute_result"
    }
   ],
   "source": [
    "response_1_dict['meta']"
   ]
  },
  {
   "cell_type": "code",
   "execution_count": 26,
   "id": "f880afc8",
   "metadata": {},
   "outputs": [],
   "source": [
    "expansions_api_url_2 = expansions_api_url + '&next_token={}'.format(response_1_dict['meta']['next_token'])"
   ]
  },
  {
   "cell_type": "code",
   "execution_count": 27,
   "id": "60170eff",
   "metadata": {
    "scrolled": false
   },
   "outputs": [
    {
     "data": {
      "text/plain": [
       "'https://api.twitter.com/2/tweets/search/recent?query=%28%23DeadbyDaylight%29%20lang%3Aen&max_results=100&tweet.fields=public_metrics,created_at,author_id,lang&expansions=author_id&user.fields=username&next_token=b26v89c19zqg8o3fpdv5sc12rmc1wiocuuohnidag1zst'"
      ]
     },
     "execution_count": 27,
     "metadata": {},
     "output_type": "execute_result"
    }
   ],
   "source": [
    "expansions_api_url_2"
   ]
  },
  {
   "cell_type": "code",
   "execution_count": 28,
   "id": "a8a15331",
   "metadata": {},
   "outputs": [],
   "source": [
    "response_2_dict = requests.request(\"GET\", expansions_api_url_2, headers = header)"
   ]
  },
  {
   "cell_type": "code",
   "execution_count": 29,
   "id": "53e95616",
   "metadata": {},
   "outputs": [
    {
     "data": {
      "text/plain": [
       "'{\"data\":[{\"public_metrics\":{\"retweet_count\":83,\"reply_count\":0,\"like_count\":0,\"quote_count\":0},\"lang\":\"en\",\"text\":\"RT @LeaksDbd: David\\'s \\\\\"The Ruffian\\\\\" and Adam\\'s \\\\\"Jamaican Proud\\\\\" cosmetics will make their way to shop on 19 October.\\\\n\\\\nNemesis and Pyramid H…\",\"author_id\":\"1162810510032756736\",\"id\":\"1450100226526695427\",\"created_at\":\"2021-10-18T14:03:30.000Z\"},{\"public_metrics\":{\"retweet_count\":1,\"reply_count\":0,\"like_count\":0,\"quote_count\":0},\"lang\":\"en\",\"text\":\"RT @MsGoddessLauren: Girls night &lt;3  \\\\n#Deadbydaylight #Dbd https://t.co/r3ik6gWrOk\",\"author_id\":\"1286180518178955266\",\"id\":\"1450100149443772418\",\"created_at\":\"2021-10-18T14:03:11.000Z\"},{\"public_metrics\":{\"retweet_count\":6,\"reply_count\":0,\"like_count\":0,\"quote_count\":0},\"lang\":\"en\",\"text\":\"RT @Gantsuki: The Huntress #deadbydaylight #dbd #deadbydaylightfanart #デッドバイデイライト https://t.co/unehO0Apmp https://t.co/xQWXZb1TVu\",\"author_id\":\"1263166000779976704\",\"id\":\"1450100139968929794\",\"created_at\":\"2021-10-18T14:03:09.000Z\"},{\"public_metrics\":{\"retweet_count\":2,\"reply_count\":0,\"like_count\":0,\"quote_count\":0},\"lang\":\"en\",\"text\":\"RT @SpeedyGentt: Random perk games #DeadbyDaylight \\\\n#trans #twitch #twitchtv #TwitchTVGaming #twitchaffiliate #twitchstreamer #smallstreame…\",\"author_id\":\"1150729203563806720\",\"id\":\"1450100107693760516\",\"created_at\":\"2021-10-18T14:03:01.000Z\"},{\"public_metrics\":{\"retweet_count\":2,\"reply_count\":1,\"like_count\":3,\"quote_count\":0},\"lang\":\"en\",\"text\":\"Random perk games #DeadbyDaylight \\\\n#trans #twitch #twitchtv #TwitchTVGaming #twitchaffiliate #twitchstreamer #smallstreamer #SmallStreamerCommunity #LGBTQ \\\\n@SupStreamers @Retweet_Twitch @TwitchSupport @SmallStreamersR @rtsmallstreams @sme_rt\\\\nhttps://t.co/Gzzxt9ppWz\",\"author_id\":\"1176974681938780163\",\"id\":\"1450100083459039237\",\"created_at\":\"2021-10-18T14:02:56.000Z\"},{\"public_metrics\":{\"retweet_count\":32,\"reply_count\":0,\"like_count\":0,\"quote_count\":0},\"lang\":\"en\",\"text\":\"RT @leaksbydaylight: Sorry for the typo, the correct code is DBDDAYJP2021.\\\\n\\\\nI remind you that tomorrow will be released the mid-chapter pat…\",\"author_id\":\"1090131138784444417\",\"id\":\"1450099546776817668\",\"created_at\":\"2021-10-18T14:00:48.000Z\"},{\"public_metrics\":{\"retweet_count\":4,\"reply_count\":0,\"like_count\":0,\"quote_count\":0},\"lang\":\"en\",\"text\":\"RT @Freyanuris: \\\\uD83D\\\\uDD6F “Does anyone else see that? Just me?” — @DeadByBHVR #DeadbyDaylight #MikaelaReid https://t.co/BDGuTRpSOf\",\"author_id\":\"1292350580573102080\",\"id\":\"1450099454892077062\",\"created_at\":\"2021-10-18T14:00:26.000Z\"},{\"public_metrics\":{\"retweet_count\":0,\"reply_count\":0,\"like_count\":0,\"quote_count\":0},\"lang\":\"en\",\"text\":\"I am genuinely shocked that there are people who are so entitled that they genuinely think saying the N word or telling people to kill themselves isn\\'t as bad as facecamping in #DeadbyDaylight\\\\nI hate this community so much and toxic people like this make me want to vomit.\",\"author_id\":\"894273605818822656\",\"id\":\"1450099351599132674\",\"created_at\":\"2021-10-18T14:00:01.000Z\"},{\"public_metrics\":{\"retweet_count\":0,\"reply_count\":0,\"like_count\":0,\"quote_count\":0},\"lang\":\"en\",\"text\":\"Recently got into Dead By Daylight, here\\'s the result\\\\n#Halloween  #DeadbyDaylight https://t.co/2S72CVDfHf\",\"author_id\":\"1334608156509564929\",\"id\":\"1450099348440768516\",\"created_at\":\"2021-10-18T14:00:00.000Z\"},{\"public_metrics\":{\"retweet_count\":0,\"reply_count\":0,\"like_count\":0,\"quote_count\":0},\"lang\":\"en\",\"text\":\"Maybe i should lay off the Jesus water\\\\n#DeadbyDaylight #twitch #twitchfails #Streamers #fail #twitchclips https://t.co/LSZUffZ6eC\",\"author_id\":\"1416554399011414025\",\"id\":\"1450099307890323468\",\"created_at\":\"2021-10-18T13:59:51.000Z\"},{\"public_metrics\":{\"retweet_count\":12,\"reply_count\":0,\"like_count\":0,\"quote_count\":0},\"lang\":\"en\",\"text\":\"RT @dragen_gyrr: #DeadbyDaylight #Huntress\\\\n\\\\n“Come, child, I’ll get the high ones for you.”\\\\n\\\\nWild apples. https://t.co/nTcl1L9Kwc\",\"author_id\":\"703914629743771648\",\"id\":\"1450099273308131328\",\"created_at\":\"2021-10-18T13:59:42.000Z\"},{\"public_metrics\":{\"retweet_count\":6,\"reply_count\":0,\"like_count\":0,\"quote_count\":0},\"lang\":\"en\",\"text\":\"RT @Hexsplosions: More chilled #DBD: https://t.co/pF8dYTvIi5\\\\n\\\\n200 follower goal!\\\\n\\\\n@Streamer_Boost @Twitch_RT @rtsmallstreams @stream_caster…\",\"author_id\":\"2834114661\",\"id\":\"1450099240605261833\",\"created_at\":\"2021-10-18T13:59:35.000Z\"},{\"public_metrics\":{\"retweet_count\":6,\"reply_count\":0,\"like_count\":0,\"quote_count\":0},\"lang\":\"en\",\"text\":\"RT @Hexsplosions: More chilled #DBD: https://t.co/pF8dYTvIi5\\\\n\\\\n200 follower goal!\\\\n\\\\n@Streamer_Boost @Twitch_RT @rtsmallstreams @stream_caster…\",\"author_id\":\"1272580109820624896\",\"id\":\"1450099233017761800\",\"created_at\":\"2021-10-18T13:59:33.000Z\"},{\"public_metrics\":{\"retweet_count\":6,\"reply_count\":0,\"like_count\":0,\"quote_count\":0},\"lang\":\"en\",\"text\":\"RT @Hexsplosions: More chilled #DBD: https://t.co/pF8dYTvIi5\\\\n\\\\n200 follower goal!\\\\n\\\\n@Streamer_Boost @Twitch_RT @rtsmallstreams @stream_caster…\",\"author_id\":\"1128878664572166144\",\"id\":\"1450099218933223429\",\"created_at\":\"2021-10-18T13:59:29.000Z\"},{\"public_metrics\":{\"retweet_count\":0,\"reply_count\":0,\"like_count\":0,\"quote_count\":0},\"lang\":\"en\",\"text\":\"When your teammates just dip on you! \\\\uD83D\\\\uDE2D #DeadbyDaylight #Intothefog https://t.co/rzKdCLJ9o8\",\"author_id\":\"1120936013583372289\",\"id\":\"1450099146149351428\",\"created_at\":\"2021-10-18T13:59:12.000Z\"},{\"public_metrics\":{\"retweet_count\":2,\"reply_count\":0,\"like_count\":0,\"quote_count\":0},\"lang\":\"en\",\"text\":\"RT @firewitch74: Good morning cuties, I hope you all had a fantastic weekend. Let get on some DBD and boss some killers around. Missed your…\",\"author_id\":\"399344805\",\"id\":\"1450098991203434500\",\"created_at\":\"2021-10-18T13:58:35.000Z\"},{\"public_metrics\":{\"retweet_count\":895,\"reply_count\":0,\"like_count\":0,\"quote_count\":0},\"lang\":\"en\",\"text\":\"RT @ShiNguyen69: Ok. I\\'m fine\\\\n.\\\\n.\\\\n.\\\\n#DeadbyDaylightfanart #DeadbyDaylight https://t.co/c6nto37Euj\",\"author_id\":\"1442225785692033028\",\"id\":\"1450098989118885896\",\"created_at\":\"2021-10-18T13:58:35.000Z\"},{\"public_metrics\":{\"retweet_count\":1415,\"reply_count\":0,\"like_count\":0,\"quote_count\":0},\"lang\":\"en\",\"text\":\"RT @Slitherbop: The Doctor \\\\uD83D\\\\uDC40 #DeadbyDaylight #dbdfanart https://t.co/vbkxtbHAAB\",\"author_id\":\"2293464290\",\"id\":\"1450098942528606209\",\"created_at\":\"2021-10-18T13:58:24.000Z\"},{\"public_metrics\":{\"retweet_count\":18,\"reply_count\":0,\"like_count\":0,\"quote_count\":0},\"lang\":\"en\",\"text\":\"RT @dbd_usernames: #Deadbydaylight username #320 https://t.co/L4GKBQuYA4\",\"author_id\":\"1258344023108050945\",\"id\":\"1450098912665157636\",\"created_at\":\"2021-10-18T13:58:16.000Z\"},{\"public_metrics\":{\"retweet_count\":12,\"reply_count\":0,\"like_count\":0,\"quote_count\":0},\"lang\":\"en\",\"text\":\"RT @dragen_gyrr: #DeadbyDaylight #Huntress\\\\n\\\\n“Come, child, I’ll get the high ones for you.”\\\\n\\\\nWild apples. https://t.co/nTcl1L9Kwc\",\"author_id\":\"1232576775986634753\",\"id\":\"1450098798445809671\",\"created_at\":\"2021-10-18T13:57:49.000Z\"},{\"public_metrics\":{\"retweet_count\":104,\"reply_count\":0,\"like_count\":0,\"quote_count\":0},\"lang\":\"en\",\"text\":\"RT @Ckang2021: Rough texture on the front and back, and the smell of lewd sweat in the air.\\\\n\\\\n#DeadbyDaylight #DavidKing #FelixRichter #NSFW…\",\"author_id\":\"820129674034429953\",\"id\":\"1450098744893059073\",\"created_at\":\"2021-10-18T13:57:36.000Z\"},{\"public_metrics\":{\"retweet_count\":0,\"reply_count\":0,\"like_count\":0,\"quote_count\":0},\"lang\":\"en\",\"text\":\"\\\\uD83D\\\\uDCE3 I\\'m starting \\\\uD83D\\\\uDD34 LIVE on #DeadbyDaylight !  https://t.co/xF77JBmorn #wizebot #twitch\",\"author_id\":\"1213462118327939072\",\"id\":\"1450098491666178054\",\"created_at\":\"2021-10-18T13:56:36.000Z\"},{\"public_metrics\":{\"retweet_count\":7,\"reply_count\":0,\"like_count\":0,\"quote_count\":0},\"lang\":\"en\",\"text\":\"RT @ToriToebeans: playing some #deadbydaylight on #twitch come say hi!\\\\n\\\\uD83C\\\\uDF38https://t.co/SmLpTy73lx\\\\uD83C\\\\uDF38\\\\n\\\\n#smallstreamer\\\\n#streamergirl\\\\n#gamergirl\\\\n#…\",\"author_id\":\"1449041481499496451\",\"id\":\"1450098262090739717\",\"created_at\":\"2021-10-18T13:55:41.000Z\"},{\"public_metrics\":{\"retweet_count\":0,\"reply_count\":0,\"like_count\":1,\"quote_count\":0},\"lang\":\"en\",\"text\":\"Tomorrow gameplay\\\\n#DeadbyDaylightfanart #DeadbyDaylight https://t.co/LDj7t2gy5H\",\"author_id\":\"1246975436598337536\",\"id\":\"1450098118465253381\",\"created_at\":\"2021-10-18T13:55:07.000Z\"},{\"public_metrics\":{\"retweet_count\":1,\"reply_count\":0,\"like_count\":0,\"quote_count\":0},\"lang\":\"en\",\"text\":\"RT @Hexsplosions: Everybody on #DBD has been wholesome. https://t.co/hFtsfhPjZv\\\\n\\\\n@Streamer_Boost @Twitch_RT @rtsmallstreams\\\\n@stream_caster…\",\"author_id\":\"1159260728894873602\",\"id\":\"1450097932615700483\",\"created_at\":\"2021-10-18T13:54:23.000Z\"},{\"public_metrics\":{\"retweet_count\":12,\"reply_count\":2,\"like_count\":22,\"quote_count\":0},\"lang\":\"en\",\"text\":\"#DeadbyDaylight #Huntress\\\\n\\\\n“Come, child, I’ll get the high ones for you.”\\\\n\\\\nWild apples. https://t.co/nTcl1L9Kwc\",\"author_id\":\"1284066771079757824\",\"id\":\"1450097924042641418\",\"created_at\":\"2021-10-18T13:54:21.000Z\"},{\"public_metrics\":{\"retweet_count\":1,\"reply_count\":0,\"like_count\":1,\"quote_count\":0},\"lang\":\"en\",\"text\":\"Everybody on #DBD has been wholesome. https://t.co/hFtsfhPjZv\\\\n\\\\n@Streamer_Boost @Twitch_RT @rtsmallstreams\\\\n@stream_caster #Streamcaster #smallstreamer #SmallStreamersConnect #SmallStreamerCommunity #twitch #twitchtv #twitchstreamer #BritishStreamer #pcmasterrace #DeadbyDaylight\",\"author_id\":\"1438467324307296259\",\"id\":\"1450097910050328581\",\"created_at\":\"2021-10-18T13:54:17.000Z\"},{\"public_metrics\":{\"retweet_count\":0,\"reply_count\":0,\"like_count\":0,\"quote_count\":0},\"lang\":\"en\",\"text\":\"(ﾉ◕ヮ◕)ﾉ*:･ﾟ✧ TILTED &amp; TOXIC PLAYERS PLANNING TO GRIEF THE MATCH FROM THE START\\\\n\\\\nAlways play fair and clean!\\\\n(i never \\\\\"tunnel\\\\\" (toxic Dbd term btw), body block, or troll)\\\\n\\\\nhttps://t.co/JbHqDg2oM6\\\\n\\\\n#DeadbyDaylight #dbd #twitch #twitchtv #stream #streaming #clips #gaming\",\"author_id\":\"3308902373\",\"id\":\"1450097499776110599\",\"created_at\":\"2021-10-18T13:52:40.000Z\"},{\"public_metrics\":{\"retweet_count\":654,\"reply_count\":0,\"like_count\":0,\"quote_count\":0},\"lang\":\"en\",\"text\":\"RT @LeaksDbd: Tome IX - Crescendo Teaser.\\\\n\\\\nThanks to @PaulieEsther1 for sharing.\\\\n\\\\n#DeadbyDaylight #dbdleaks #leaksdbd #dbd https://t.co/tJl…\",\"author_id\":\"920826290\",\"id\":\"1450097237401296896\",\"created_at\":\"2021-10-18T13:51:37.000Z\"},{\"public_metrics\":{\"retweet_count\":495,\"reply_count\":0,\"like_count\":0,\"quote_count\":0},\"lang\":\"en\",\"text\":\"RT @CORRUPTCREATURA: Kitty Cat Huntress #DeadbyDaylight https://t.co/DuMZ8WpkBS\",\"author_id\":\"2732533144\",\"id\":\"1450097227381215233\",\"created_at\":\"2021-10-18T13:51:35.000Z\"},{\"public_metrics\":{\"retweet_count\":7,\"reply_count\":0,\"like_count\":0,\"quote_count\":0},\"lang\":\"en\",\"text\":\"RT @ToriToebeans: playing some #deadbydaylight on #twitch come say hi!\\\\n\\\\uD83C\\\\uDF38https://t.co/SmLpTy73lx\\\\uD83C\\\\uDF38\\\\n\\\\n#smallstreamer\\\\n#streamergirl\\\\n#gamergirl\\\\n#…\",\"author_id\":\"1128878664572166144\",\"id\":\"1450097141385412608\",\"created_at\":\"2021-10-18T13:51:14.000Z\"},{\"public_metrics\":{\"retweet_count\":654,\"reply_count\":0,\"like_count\":0,\"quote_count\":0},\"lang\":\"en\",\"text\":\"RT @LeaksDbd: Tome IX - Crescendo Teaser.\\\\n\\\\nThanks to @PaulieEsther1 for sharing.\\\\n\\\\n#DeadbyDaylight #dbdleaks #leaksdbd #dbd https://t.co/tJl…\",\"author_id\":\"1934143724\",\"id\":\"1450097080869941249\",\"created_at\":\"2021-10-18T13:51:00.000Z\"},{\"public_metrics\":{\"retweet_count\":654,\"reply_count\":0,\"like_count\":0,\"quote_count\":0},\"lang\":\"en\",\"text\":\"RT @LeaksDbd: Tome IX - Crescendo Teaser.\\\\n\\\\nThanks to @PaulieEsther1 for sharing.\\\\n\\\\n#DeadbyDaylight #dbdleaks #leaksdbd #dbd https://t.co/tJl…\",\"author_id\":\"716676175708438528\",\"id\":\"1450096920039358471\",\"created_at\":\"2021-10-18T13:50:21.000Z\"},{\"public_metrics\":{\"retweet_count\":2,\"reply_count\":0,\"like_count\":0,\"quote_count\":0},\"lang\":\"en\",\"text\":\"RT @MKUltraLegend: ⚡️Please Watch/Share New Vid: Game MUST Adapt  #DeadbyDaylight \\\\n\\\\nhttps://t.co/szeH1l5oMv\\\\n\\\\n@wwwanpaus @StreamerWall @Stre…\",\"author_id\":\"718867558485467136\",\"id\":\"1450096885327269888\",\"created_at\":\"2021-10-18T13:50:13.000Z\"},{\"public_metrics\":{\"retweet_count\":0,\"reply_count\":0,\"like_count\":0,\"quote_count\":0},\"lang\":\"en\",\"text\":\"Just made a Nurse DC for the first time ever because I’ve become decent at looping\\\\uD83D\\\\uDE06\\\\uD83D\\\\uDD25\\\\uD83D\\\\uDC51 #DeadbyDaylight\",\"author_id\":\"797597838792269824\",\"id\":\"1450096861793030158\",\"created_at\":\"2021-10-18T13:50:08.000Z\"},{\"public_metrics\":{\"retweet_count\":116,\"reply_count\":0,\"like_count\":0,\"quote_count\":0},\"lang\":\"en\",\"text\":\"RT @leaksbydaylight: Write the \\'DBDJAYJP2021\\' code in \\'redeem code\\' in the in-game store to get 202,100 bloodpoints! \\\\n\\\\n#DeadbyDaylight #lea…\",\"author_id\":\"1269438582873296898\",\"id\":\"1450096741970325513\",\"created_at\":\"2021-10-18T13:49:39.000Z\"},{\"public_metrics\":{\"retweet_count\":0,\"reply_count\":0,\"like_count\":2,\"quote_count\":0},\"lang\":\"en\",\"text\":\"#Spooktober demo troll build activated https://t.co/He49QHqmK2 #DeadByDaylight #TwitchAffiliate\",\"author_id\":\"167965635\",\"id\":\"1450096637725007878\",\"created_at\":\"2021-10-18T13:49:14.000Z\"},{\"public_metrics\":{\"retweet_count\":7,\"reply_count\":0,\"like_count\":0,\"quote_count\":0},\"lang\":\"en\",\"text\":\"RT @SpookyLilGrimbo: Turns out Nea and Julie are in love\\\\n\\\\n#DeadbyDaylight #DeadbyDaylightfanart #dbd #dbdfanart #thelegion https://t.co/rW7…\",\"author_id\":\"1114009027359531009\",\"id\":\"1450096582351851526\",\"created_at\":\"2021-10-18T13:49:01.000Z\"},{\"public_metrics\":{\"retweet_count\":83,\"reply_count\":0,\"like_count\":0,\"quote_count\":0},\"lang\":\"en\",\"text\":\"RT @LeaksDbd: David\\'s \\\\\"The Ruffian\\\\\" and Adam\\'s \\\\\"Jamaican Proud\\\\\" cosmetics will make their way to shop on 19 October.\\\\n\\\\nNemesis and Pyramid H…\",\"author_id\":\"1255309660984311809\",\"id\":\"1450096498163609605\",\"created_at\":\"2021-10-18T13:48:41.000Z\"},{\"public_metrics\":{\"retweet_count\":223,\"reply_count\":0,\"like_count\":0,\"quote_count\":0},\"lang\":\"en\",\"text\":\"RT @yasuyukisat: Caleb Quinn #DeadbyDaylight #DBD #TheDeathslinger https://t.co/skPjpn4CzX\",\"author_id\":\"256239667\",\"id\":\"1450096482825248770\",\"created_at\":\"2021-10-18T13:48:37.000Z\"},{\"public_metrics\":{\"retweet_count\":32,\"reply_count\":0,\"like_count\":0,\"quote_count\":0},\"lang\":\"en\",\"text\":\"RT @leaksbydaylight: Sorry for the typo, the correct code is DBDDAYJP2021.\\\\n\\\\nI remind you that tomorrow will be released the mid-chapter pat…\",\"author_id\":\"1175618285460701184\",\"id\":\"1450096476420550658\",\"created_at\":\"2021-10-18T13:48:36.000Z\"},{\"public_metrics\":{\"retweet_count\":35,\"reply_count\":0,\"like_count\":0,\"quote_count\":0},\"lang\":\"en\",\"text\":\"RT @cryinglittleart: had 5 \\\\\"Merciless Killer\\\\\" matches back-to-back as Julie in her day of the dead skin. Felt like I had to thank her someh…\",\"author_id\":\"1114009027359531009\",\"id\":\"1450096276096393219\",\"created_at\":\"2021-10-18T13:47:48.000Z\"},{\"public_metrics\":{\"retweet_count\":4,\"reply_count\":0,\"like_count\":0,\"quote_count\":0},\"lang\":\"en\",\"text\":\"RT @Freyanuris: \\\\uD83D\\\\uDD6F “Does anyone else see that? Just me?” — @DeadByBHVR #DeadbyDaylight #MikaelaReid https://t.co/BDGuTRpSOf\",\"author_id\":\"585941987\",\"id\":\"1450096217724162056\",\"created_at\":\"2021-10-18T13:47:34.000Z\"},{\"public_metrics\":{\"retweet_count\":61,\"reply_count\":0,\"like_count\":0,\"quote_count\":0},\"lang\":\"en\",\"text\":\"RT @kimcando95: Dbd killers - ONI, TRAPPER, PIG, DEMOGORGON #dbdfanart #DbDアート #DeadbyDaylight #dbd #데바데 https://t.co/LxT7CMJUoE\",\"author_id\":\"935309775436500993\",\"id\":\"1450096191744643077\",\"created_at\":\"2021-10-18T13:47:28.000Z\"},{\"public_metrics\":{\"retweet_count\":19,\"reply_count\":0,\"like_count\":0,\"quote_count\":0},\"lang\":\"en\",\"text\":\"RT @JayJesterArt: Julie angry\\\\n#DeadbyDaylight #DBD https://t.co/njRXK7H5yb\",\"author_id\":\"1114009027359531009\",\"id\":\"1450096147578736640\",\"created_at\":\"2021-10-18T13:47:17.000Z\"},{\"public_metrics\":{\"retweet_count\":895,\"reply_count\":0,\"like_count\":0,\"quote_count\":0},\"lang\":\"en\",\"text\":\"RT @ShiNguyen69: Ok. I\\'m fine\\\\n.\\\\n.\\\\n.\\\\n#DeadbyDaylightfanart #DeadbyDaylight https://t.co/c6nto37Euj\",\"author_id\":\"861959545614192640\",\"id\":\"1450096112669450246\",\"created_at\":\"2021-10-18T13:47:09.000Z\"},{\"public_metrics\":{\"retweet_count\":5,\"reply_count\":0,\"like_count\":0,\"quote_count\":0},\"lang\":\"en\",\"text\":\"RT @Ghostfacecouk: Just had a call with @RJTorbert .. Jeez... its REALLY busy over there.. Lots happening...  Someone asked him recently if…\",\"author_id\":\"404619352\",\"id\":\"1450095924244619271\",\"created_at\":\"2021-10-18T13:46:24.000Z\"},{\"public_metrics\":{\"retweet_count\":0,\"reply_count\":0,\"like_count\":4,\"quote_count\":0},\"lang\":\"en\",\"text\":\"Not my finest moment...\\\\n\\\\n#DeadbyDaylight\\\\n\\\\nhttps://t.co/Xq90ffdgX1 https://t.co/TG6GKFw81M\",\"author_id\":\"3192203531\",\"id\":\"1450095867512426497\",\"created_at\":\"2021-10-18T13:46:10.000Z\"},{\"public_metrics\":{\"retweet_count\":0,\"reply_count\":0,\"like_count\":0,\"quote_count\":0},\"lang\":\"en\",\"text\":\"@gawrgura You had me at #DeadbyDaylight. Any chance we can see you Mori someone as Clown?\",\"author_id\":\"180797929\",\"id\":\"1450095827469352964\",\"created_at\":\"2021-10-18T13:46:01.000Z\"},{\"public_metrics\":{\"retweet_count\":99,\"reply_count\":0,\"like_count\":0,\"quote_count\":0},\"lang\":\"en\",\"text\":\"RT @StarstruckShine: Dead by Uno #DeadbyDaylight #dbdfanart #Trickster\\\\n#Clown #Deathslinger #DwightFairfield #AdamFrancis (everyone is chea…\",\"author_id\":\"1313255492953804800\",\"id\":\"1450095719055073287\",\"created_at\":\"2021-10-18T13:45:35.000Z\"},{\"public_metrics\":{\"retweet_count\":654,\"reply_count\":0,\"like_count\":0,\"quote_count\":0},\"lang\":\"en\",\"text\":\"RT @LeaksDbd: Tome IX - Crescendo Teaser.\\\\n\\\\nThanks to @PaulieEsther1 for sharing.\\\\n\\\\n#DeadbyDaylight #dbdleaks #leaksdbd #dbd https://t.co/tJl…\",\"author_id\":\"23149229\",\"id\":\"1450095436329521163\",\"created_at\":\"2021-10-18T13:44:28.000Z\"},{\"public_metrics\":{\"retweet_count\":4,\"reply_count\":3,\"like_count\":29,\"quote_count\":0},\"lang\":\"en\",\"text\":\"\\\\uD83D\\\\uDD6F “Does anyone else see that? Just me?” — @DeadByBHVR #DeadbyDaylight #MikaelaReid https://t.co/BDGuTRpSOf\",\"author_id\":\"976967473277759488\",\"id\":\"1450095409443921927\",\"created_at\":\"2021-10-18T13:44:21.000Z\"},{\"public_metrics\":{\"retweet_count\":602,\"reply_count\":0,\"like_count\":0,\"quote_count\":0},\"lang\":\"en\",\"text\":\"RT @DARTS160: The Legion\\\\n\\\\nJulie @coin_DBD \\\\nSusie @eeoe_51 \\\\nJoey @_Ropoly \\\\np.b @xavac1 \\\\n#DeadbyDaylight https://t.co/Z2aqkVTT6V\",\"author_id\":\"17730060\",\"id\":\"1450095308386537475\",\"created_at\":\"2021-10-18T13:43:57.000Z\"},{\"public_metrics\":{\"retweet_count\":2,\"reply_count\":0,\"like_count\":4,\"quote_count\":0},\"lang\":\"en\",\"text\":\"Good morning cuties, I hope you all had a fantastic weekend. Let get on some DBD and boss some killers around. Missed your faces &lt;3 #deadbydaylight #intothefog #followtheroots #thefuturecrew #platinumsquad https://t.co/NGYC0giMhU\",\"author_id\":\"26249815\",\"id\":\"1450095293664579587\",\"created_at\":\"2021-10-18T13:43:54.000Z\"},{\"public_metrics\":{\"retweet_count\":2,\"reply_count\":0,\"like_count\":0,\"quote_count\":0},\"lang\":\"en\",\"text\":\"RT @MKUltraLegend: ⚡️Please Watch/Share New Vid: Game MUST Adapt  #DeadbyDaylight \\\\n\\\\nhttps://t.co/szeH1l5oMv\\\\n\\\\n@wwwanpaus @StreamerWall @Stre…\",\"author_id\":\"1150729203563806720\",\"id\":\"1450095239092490241\",\"created_at\":\"2021-10-18T13:43:41.000Z\"},{\"public_metrics\":{\"retweet_count\":2,\"reply_count\":0,\"like_count\":0,\"quote_count\":0},\"lang\":\"en\",\"text\":\"⚡️Please Watch/Share New Vid: Game MUST Adapt  #DeadbyDaylight \\\\n\\\\nhttps://t.co/szeH1l5oMv\\\\n\\\\n@wwwanpaus @StreamerWall @StreamTweets4 @StreamersRtw @smallerstreams @RealDrCollision @sme_rt @Stream_Support_ @StreamersBoosts @ShoutGamers \\\\n@Retweet_Twitch\\\\n@TwitterGaming @rtsmallstreams\",\"author_id\":\"1260541059718930433\",\"id\":\"1450095216933982212\",\"created_at\":\"2021-10-18T13:43:35.000Z\"},{\"public_metrics\":{\"retweet_count\":1416,\"reply_count\":0,\"like_count\":0,\"quote_count\":0},\"lang\":\"en\",\"text\":\"RT @MarkoRaassina: All 25 Dead by Daylight killers #DeadbyDaylight #dbd #dbdfanart https://t.co/0ANbSj5rhI\",\"author_id\":\"1313255492953804800\",\"id\":\"1450095207756742660\",\"created_at\":\"2021-10-18T13:43:33.000Z\"},{\"public_metrics\":{\"retweet_count\":0,\"reply_count\":0,\"like_count\":2,\"quote_count\":0},\"lang\":\"en\",\"text\":\"I\\'m live on Twitch, in 15min. #TheRoomThree &amp; then #DeadbyDaylight , come hang out, We are the weirdos!  https://t.co/nwHosgeZAZ\\\\n\\\\n#TwitchStreamers #LGBTQIA #LGBTQ #LIVE #HorrorCommunity #Dbd #twitchaffiliate\",\"author_id\":\"971774781841395712\",\"id\":\"1450095198202122247\",\"created_at\":\"2021-10-18T13:43:31.000Z\"},{\"public_metrics\":{\"retweet_count\":895,\"reply_count\":0,\"like_count\":0,\"quote_count\":0},\"lang\":\"en\",\"text\":\"RT @ShiNguyen69: Ok. I\\'m fine\\\\n.\\\\n.\\\\n.\\\\n#DeadbyDaylightfanart #DeadbyDaylight https://t.co/c6nto37Euj\",\"author_id\":\"722136338770870273\",\"id\":\"1450095149472747524\",\"created_at\":\"2021-10-18T13:43:19.000Z\"},{\"public_metrics\":{\"retweet_count\":0,\"reply_count\":0,\"like_count\":0,\"quote_count\":0},\"lang\":\"en\",\"text\":\"Worst place to heal in DBD https://t.co/wcNiK3DS9g via @YouTube #DeadbyDaylight #HalloweenMovie\",\"author_id\":\"1416585210632757251\",\"id\":\"1450095072679059458\",\"created_at\":\"2021-10-18T13:43:01.000Z\"},{\"public_metrics\":{\"retweet_count\":83,\"reply_count\":0,\"like_count\":0,\"quote_count\":0},\"lang\":\"en\",\"text\":\"RT @LeaksDbd: David\\'s \\\\\"The Ruffian\\\\\" and Adam\\'s \\\\\"Jamaican Proud\\\\\" cosmetics will make their way to shop on 19 October.\\\\n\\\\nNemesis and Pyramid H…\",\"author_id\":\"1324166386915123200\",\"id\":\"1450095038554333184\",\"created_at\":\"2021-10-18T13:42:53.000Z\"},{\"public_metrics\":{\"retweet_count\":53,\"reply_count\":0,\"like_count\":0,\"quote_count\":0},\"lang\":\"en\",\"text\":\"RT @DiHA_Artwork: \\\\\"Purgation.\\\\\" \\\\uD83E\\\\uDD2E\\\\n\\\\n#DeadbyDaylight #dbd #dbdfanart #artnouveau #art #plague #janeromero @DeadByBHVR https://t.co/HFjJqOyTW6\",\"author_id\":\"1041928281422016512\",\"id\":\"1450094238142763008\",\"created_at\":\"2021-10-18T13:39:42.000Z\"},{\"public_metrics\":{\"retweet_count\":895,\"reply_count\":0,\"like_count\":0,\"quote_count\":0},\"lang\":\"en\",\"text\":\"RT @ShiNguyen69: Ok. I\\'m fine\\\\n.\\\\n.\\\\n.\\\\n#DeadbyDaylightfanart #DeadbyDaylight https://t.co/c6nto37Euj\",\"author_id\":\"185726594\",\"id\":\"1450094128864403458\",\"created_at\":\"2021-10-18T13:39:16.000Z\"},{\"public_metrics\":{\"retweet_count\":0,\"reply_count\":0,\"like_count\":0,\"quote_count\":0},\"lang\":\"en\",\"text\":\"As the weather cools, leaves turn yellow and slowly fall.\\\\nI wonder why, why I couldn’t just have it all?\\\\n\\\\nAs I drift away listening to our song\\\\nMy Concentration deepens hitting this bong\\\\n\\\\nA Relaxed state\\\\nJust to fuck it all by playing DBD\\\\nDeath is not an escape \\\\n#DeadbyDaylight https://t.co/XFk0uPLGI7\",\"author_id\":\"1354435650183966721\",\"id\":\"1450093520195309578\",\"created_at\":\"2021-10-18T13:36:51.000Z\"},{\"public_metrics\":{\"retweet_count\":18,\"reply_count\":0,\"like_count\":0,\"quote_count\":0},\"lang\":\"en\",\"text\":\"RT @dbd_usernames: #Deadbydaylight username #320 https://t.co/L4GKBQuYA4\",\"author_id\":\"1162725326033735680\",\"id\":\"1450093210123087877\",\"created_at\":\"2021-10-18T13:35:37.000Z\"},{\"public_metrics\":{\"retweet_count\":1,\"reply_count\":0,\"like_count\":0,\"quote_count\":0},\"lang\":\"en\",\"text\":\"RT @queens_cup_: Went to con the last day as claudette! It\\'s been a very dbd weekend lol. #DeadbyDaylight #dbd #deadbydaylightcosplay #dbdc…\",\"author_id\":\"1274430459187998721\",\"id\":\"1450093179009699844\",\"created_at\":\"2021-10-18T13:35:29.000Z\"},{\"public_metrics\":{\"retweet_count\":4,\"reply_count\":0,\"like_count\":0,\"quote_count\":0},\"lang\":\"en\",\"text\":\"RT @DaneCelestia: And of course, Irys as her chosen DBD killer, Ghostface!\\\\n\\\\nReady to take a pic of mumei dying(again)\\\\n\\\\nhttps://t.co/dsiaEHq…\",\"author_id\":\"1427316197347889152\",\"id\":\"1450093034553544706\",\"created_at\":\"2021-10-18T13:34:55.000Z\"},{\"public_metrics\":{\"retweet_count\":513,\"reply_count\":0,\"like_count\":0,\"quote_count\":0},\"lang\":\"en\",\"text\":\"RT @LeaksDbd: Mikaela cosmetic renders.\\\\n\\\\nThanks to @xZombieAlix for rendering.\\\\n\\\\n#DeadbyDaylight #dbdleaks #leaksdbd #dbd https://t.co/y69Wq…\",\"author_id\":\"1171189265251917825\",\"id\":\"1450092805485912068\",\"created_at\":\"2021-10-18T13:34:00.000Z\"},{\"public_metrics\":{\"retweet_count\":83,\"reply_count\":0,\"like_count\":0,\"quote_count\":0},\"lang\":\"en\",\"text\":\"RT @LeaksDbd: David\\'s \\\\\"The Ruffian\\\\\" and Adam\\'s \\\\\"Jamaican Proud\\\\\" cosmetics will make their way to shop on 19 October.\\\\n\\\\nNemesis and Pyramid H…\",\"author_id\":\"870188735899500544\",\"id\":\"1450092769796558855\",\"created_at\":\"2021-10-18T13:33:52.000Z\"},{\"public_metrics\":{\"retweet_count\":2,\"reply_count\":0,\"like_count\":0,\"quote_count\":0},\"lang\":\"en\",\"text\":\"RT @Hexsplosions: Nobody has raged at me yet. https://t.co/YRRDBOWoiw\\\\n\\\\n@Streamer_Boost @Twitch_RT @rtsmallstreams @stream_caster #Streamcas…\",\"author_id\":\"704583568316633088\",\"id\":\"1450092596626444296\",\"created_at\":\"2021-10-18T13:33:11.000Z\"},{\"public_metrics\":{\"retweet_count\":1415,\"reply_count\":0,\"like_count\":0,\"quote_count\":0},\"lang\":\"en\",\"text\":\"RT @Slitherbop: The Doctor \\\\uD83D\\\\uDC40 #DeadbyDaylight #dbdfanart https://t.co/vbkxtbHAAB\",\"author_id\":\"824400343354241028\",\"id\":\"1450092512543137799\",\"created_at\":\"2021-10-18T13:32:51.000Z\"},{\"public_metrics\":{\"retweet_count\":2,\"reply_count\":0,\"like_count\":0,\"quote_count\":0},\"lang\":\"en\",\"text\":\"RT @Hexsplosions: Nobody has raged at me yet. https://t.co/YRRDBOWoiw\\\\n\\\\n@Streamer_Boost @Twitch_RT @rtsmallstreams @stream_caster #Streamcas…\",\"author_id\":\"1159260728894873602\",\"id\":\"1450092505802977280\",\"created_at\":\"2021-10-18T13:32:49.000Z\"},{\"public_metrics\":{\"retweet_count\":2,\"reply_count\":0,\"like_count\":0,\"quote_count\":0},\"lang\":\"en\",\"text\":\"Nobody has raged at me yet. https://t.co/YRRDBOWoiw\\\\n\\\\n@Streamer_Boost @Twitch_RT @rtsmallstreams @stream_caster #Streamcaster #smallstreamer #SmallStreamersConnect #SmallStreamerCommunity #twitch #twitchtv #twitchstreamer #BritishStreamer #pcmasterrace #DBD #DeadbyDaylight #noice\",\"author_id\":\"1438467324307296259\",\"id\":\"1450092483166232581\",\"created_at\":\"2021-10-18T13:32:44.000Z\"},{\"public_metrics\":{\"retweet_count\":32,\"reply_count\":0,\"like_count\":0,\"quote_count\":0},\"lang\":\"en\",\"text\":\"RT @leaksbydaylight: Sorry for the typo, the correct code is DBDDAYJP2021.\\\\n\\\\nI remind you that tomorrow will be released the mid-chapter pat…\",\"author_id\":\"1131721004366127104\",\"id\":\"1450092334746673155\",\"created_at\":\"2021-10-18T13:32:08.000Z\"},{\"public_metrics\":{\"retweet_count\":83,\"reply_count\":0,\"like_count\":0,\"quote_count\":0},\"lang\":\"en\",\"text\":\"RT @LeaksDbd: David\\'s \\\\\"The Ruffian\\\\\" and Adam\\'s \\\\\"Jamaican Proud\\\\\" cosmetics will make their way to shop on 19 October.\\\\n\\\\nNemesis and Pyramid H…\",\"author_id\":\"1422936304208072708\",\"id\":\"1450092055909208067\",\"created_at\":\"2021-10-18T13:31:02.000Z\"},{\"public_metrics\":{\"retweet_count\":83,\"reply_count\":0,\"like_count\":0,\"quote_count\":0},\"lang\":\"en\",\"text\":\"RT @LeaksDbd: David\\'s \\\\\"The Ruffian\\\\\" and Adam\\'s \\\\\"Jamaican Proud\\\\\" cosmetics will make their way to shop on 19 October.\\\\n\\\\nNemesis and Pyramid H…\",\"author_id\":\"956765577745334272\",\"id\":\"1450091901474934788\",\"created_at\":\"2021-10-18T13:30:25.000Z\"},{\"public_metrics\":{\"retweet_count\":116,\"reply_count\":0,\"like_count\":0,\"quote_count\":0},\"lang\":\"en\",\"text\":\"RT @leaksbydaylight: Write the \\'DBDJAYJP2021\\' code in \\'redeem code\\' in the in-game store to get 202,100 bloodpoints! \\\\n\\\\n#DeadbyDaylight #lea…\",\"author_id\":\"947313374748184576\",\"id\":\"1450091891635245069\",\"created_at\":\"2021-10-18T13:30:23.000Z\"},{\"public_metrics\":{\"retweet_count\":83,\"reply_count\":0,\"like_count\":0,\"quote_count\":0},\"lang\":\"en\",\"text\":\"RT @LeaksDbd: David\\'s \\\\\"The Ruffian\\\\\" and Adam\\'s \\\\\"Jamaican Proud\\\\\" cosmetics will make their way to shop on 19 October.\\\\n\\\\nNemesis and Pyramid H…\",\"author_id\":\"873539657543294976\",\"id\":\"1450091804011859969\",\"created_at\":\"2021-10-18T13:30:02.000Z\"},{\"public_metrics\":{\"retweet_count\":5,\"reply_count\":0,\"like_count\":0,\"quote_count\":0},\"lang\":\"en\",\"text\":\"RT @Eraleas: Get ready for the Hour of the Witch! \\\\uD83C\\\\uDF83\\\\uD83C\\\\uDF83\\\\uD83C\\\\uDF83\\\\n\\\\nParticipate in the giveaway for a chance to win the new DBD DLC! \\\\n\\\\nTomorrow, Tuesday…\",\"author_id\":\"1395179935258619909\",\"id\":\"1450091762572271624\",\"created_at\":\"2021-10-18T13:29:52.000Z\"},{\"public_metrics\":{\"retweet_count\":10,\"reply_count\":0,\"like_count\":0,\"quote_count\":0},\"lang\":\"en\",\"text\":\"RT @Vabuchoochoo: pov: u cleansed haunted bc ur rank 20\\\\n[drawtober day 17 - haunted]\\\\n#nawntober #drawtober2021 #DeadbyDaylight https://t.co…\",\"author_id\":\"961005404284219392\",\"id\":\"1450091572197007361\",\"created_at\":\"2021-10-18T13:29:06.000Z\"},{\"public_metrics\":{\"retweet_count\":0,\"reply_count\":1,\"like_count\":1,\"quote_count\":0},\"lang\":\"en\",\"text\":\"Probably an unpopular take:\\\\n\\\\nHacking has ALWAYS been this big a problem in #DeadbyDaylight \\\\n\\\\nIt hasn\\'t gotten any \\\\\"worse\\\\\"\\\\n\\\\nCreators saying they are worried about hackers in DBD is cap for clicks\\\\n\\\\nThey are just worried about hackers in THEIR games because it finally affects them\",\"author_id\":\"295458780\",\"id\":\"1450090802458279936\",\"created_at\":\"2021-10-18T13:26:03.000Z\"},{\"public_metrics\":{\"retweet_count\":83,\"reply_count\":0,\"like_count\":0,\"quote_count\":0},\"lang\":\"en\",\"text\":\"RT @LeaksDbd: David\\'s \\\\\"The Ruffian\\\\\" and Adam\\'s \\\\\"Jamaican Proud\\\\\" cosmetics will make their way to shop on 19 October.\\\\n\\\\nNemesis and Pyramid H…\",\"author_id\":\"1362198900455706625\",\"id\":\"1450090622552059907\",\"created_at\":\"2021-10-18T13:25:20.000Z\"},{\"public_metrics\":{\"retweet_count\":0,\"reply_count\":0,\"like_count\":1,\"quote_count\":0},\"lang\":\"en\",\"text\":\"Dead by Daylight\\\\nAdept Deathslinger (BRONZE)\\\\n#PlayStationTrophy #PS5Share, #DeadbyDaylight https://t.co/hVZJJyDzYb\",\"author_id\":\"282913388\",\"id\":\"1450090599583977476\",\"created_at\":\"2021-10-18T13:25:14.000Z\"},{\"public_metrics\":{\"retweet_count\":0,\"reply_count\":0,\"like_count\":1,\"quote_count\":0},\"lang\":\"en\",\"text\":\"Dead by Daylight\\\\nAdept Executioner\\xa0 (BRONZE)\\\\n#PlayStationTrophy #PS5Share, #DeadbyDaylight https://t.co/Gspw7MQu3c\",\"author_id\":\"282913388\",\"id\":\"1450090536745021441\",\"created_at\":\"2021-10-18T13:24:59.000Z\"},{\"public_metrics\":{\"retweet_count\":0,\"reply_count\":0,\"like_count\":3,\"quote_count\":0},\"lang\":\"en\",\"text\":\"This is why you should look out for traps \\\\uD83D\\\\uDE02\\\\uD83D\\\\uDE02 #DeadbyDaylight #XboxShare https://t.co/twqCtCtCsk\",\"author_id\":\"1281734494823813120\",\"id\":\"1450090422160736257\",\"created_at\":\"2021-10-18T13:24:32.000Z\"},{\"public_metrics\":{\"retweet_count\":0,\"reply_count\":0,\"like_count\":1,\"quote_count\":0},\"lang\":\"en\",\"text\":\"Last minute BP grinding for the upcoming update for #deadbydaylight #Intothefog ,Maybe some ghost hunting later in #phasmophobia ? https://t.co/NsMxPcGo5K https://t.co/AeUelLCCvL\",\"author_id\":\"45408727\",\"id\":\"1450090354498211846\",\"created_at\":\"2021-10-18T13:24:16.000Z\"},{\"public_metrics\":{\"retweet_count\":1,\"reply_count\":0,\"like_count\":0,\"quote_count\":0},\"lang\":\"en\",\"text\":\"RT @yQuisi: Halloween specialty\\\\n\\\\nStickers, Prints, T-shirts? \\\\uD83D\\\\uDC47\\\\n\\\\uD83C\\\\uDF83Visit my store\\\\uD83C\\\\uDF83\\\\nhttps://t.co/AxFB44sdIG\\\\n\\\\n#Halloween #tshirt #commissionsope…\",\"author_id\":\"1434537977888362501\",\"id\":\"1450089961202593801\",\"created_at\":\"2021-10-18T13:22:42.000Z\"},{\"public_metrics\":{\"retweet_count\":1,\"reply_count\":0,\"like_count\":0,\"quote_count\":0},\"lang\":\"en\",\"text\":\"RT @Ryxas: OMG DEAD BY DAYLIGHT HERE WE GO LETS GO \\\\n\\\\n... C.. Come on lets go watch.. watch the stream, yeah?\\\\n\\\\nI said COME WATCH THE F-\\\\n\\\\nhtt…\",\"author_id\":\"950080863403900929\",\"id\":\"1450089953258508289\",\"created_at\":\"2021-10-18T13:22:40.000Z\"},{\"public_metrics\":{\"retweet_count\":4,\"reply_count\":0,\"like_count\":0,\"quote_count\":0},\"lang\":\"en\",\"text\":\"RT @DaneCelestia: And of course, Irys as her chosen DBD killer, Ghostface!\\\\n\\\\nReady to take a pic of mumei dying(again)\\\\n\\\\nhttps://t.co/dsiaEHq…\",\"author_id\":\"1430474935269564416\",\"id\":\"1450089826754125829\",\"created_at\":\"2021-10-18T13:22:10.000Z\"},{\"public_metrics\":{\"retweet_count\":0,\"reply_count\":0,\"like_count\":0,\"quote_count\":0},\"lang\":\"en\",\"text\":\"I made sure to grab the #StrangerThings DLC in #DeadByDaylight before its gone so today I learned how to play the Demogorgon in #DBD: https://t.co/VxrmlElt4q https://t.co/gmqcbQjvM5\",\"author_id\":\"758164914884272128\",\"id\":\"1450089688346374149\",\"created_at\":\"2021-10-18T13:21:37.000Z\"},{\"public_metrics\":{\"retweet_count\":74,\"reply_count\":0,\"like_count\":0,\"quote_count\":0},\"lang\":\"en\",\"text\":\"RT @crit_afterdark: This asshole just showed up under my pen✨\\\\n\\\\nFOR @velociwrangler SINCE SHE\\'S AMAZING AND HER FICS GIVE ME LIFE\\\\n\\\\n#deadbyda…\",\"author_id\":\"1436644069829054470\",\"id\":\"1450089659321622532\",\"created_at\":\"2021-10-18T13:21:30.000Z\"},{\"public_metrics\":{\"retweet_count\":895,\"reply_count\":0,\"like_count\":0,\"quote_count\":0},\"lang\":\"en\",\"text\":\"RT @ShiNguyen69: Ok. I\\'m fine\\\\n.\\\\n.\\\\n.\\\\n#DeadbyDaylightfanart #DeadbyDaylight https://t.co/c6nto37Euj\",\"author_id\":\"4084676482\",\"id\":\"1450089607467606020\",\"created_at\":\"2021-10-18T13:21:18.000Z\"},{\"public_metrics\":{\"retweet_count\":32,\"reply_count\":0,\"like_count\":0,\"quote_count\":0},\"lang\":\"en\",\"text\":\"RT @leaksbydaylight: Sorry for the typo, the correct code is DBDDAYJP2021.\\\\n\\\\nI remind you that tomorrow will be released the mid-chapter pat…\",\"author_id\":\"1130598491108073473\",\"id\":\"1450089504589729800\",\"created_at\":\"2021-10-18T13:20:53.000Z\"},{\"public_metrics\":{\"retweet_count\":0,\"reply_count\":0,\"like_count\":0,\"quote_count\":0},\"lang\":\"en\",\"text\":\"YouTube &amp; Twitch【GodPlayerQoo】 #identityV #zelda #smashBro #DeadByDaylight #DBD #第五人格 #デドバ https://t.co/RvvnDRyDVP\",\"author_id\":\"1088677514782765057\",\"id\":\"1450089489783607303\",\"created_at\":\"2021-10-18T13:20:50.000Z\"},{\"public_metrics\":{\"retweet_count\":9,\"reply_count\":0,\"like_count\":0,\"quote_count\":0},\"lang\":\"en\",\"text\":\"RT @GavlynEss: My own Ji woon Hak embroidery brooch! \\\\nI\\'m too obsessed with this killer, send help.\\\\n\\\\n#dbd #DeadbyDaylight #JiWoonHak #TheTr…\",\"author_id\":\"1436644069829054470\",\"id\":\"1450089427812814857\",\"created_at\":\"2021-10-18T13:20:35.000Z\"},{\"public_metrics\":{\"retweet_count\":0,\"reply_count\":0,\"like_count\":1,\"quote_count\":0},\"lang\":\"en\",\"text\":\"YOULLL FLOAT TOOO!!! JOIN THE STREAMM!! @DeadByBHVR #intothefog #DeadbyDaylight #deadbydaylightcosplay https://t.co/UAIrkF0yil\",\"author_id\":\"1349571418250489857\",\"id\":\"1450089377070256138\",\"created_at\":\"2021-10-18T13:20:23.000Z\"},{\"public_metrics\":{\"retweet_count\":23,\"reply_count\":0,\"like_count\":0,\"quote_count\":0},\"lang\":\"en\",\"text\":\"RT @vizzeyxyz: Trickster Cut Thru U Performance \\\\n\\\\n@DeadByBHVR #DeadByDaylight #JiWoonHak #dbdcosplay #deadbydaylightcosplay https://t.co/XN…\",\"author_id\":\"1259375316507807744\",\"id\":\"1450089272820879364\",\"created_at\":\"2021-10-18T13:19:58.000Z\"},{\"public_metrics\":{\"retweet_count\":0,\"reply_count\":0,\"like_count\":0,\"quote_count\":0},\"lang\":\"en\",\"text\":\"Dead by the wayside rank up experience ft sweaty teams and my killers !dixper #IntotheFog \\\\n#Roadtopartner #DeadbyDaylight #DeadByBHVR #twitchtv @rtsmallstreams @streamshare4 #PC #dbd #killer #dbd \\\\nhttps://t.co/fTpdg9oDZf\",\"author_id\":\"822150665061404675\",\"id\":\"1450088988065386500\",\"created_at\":\"2021-10-18T13:18:50.000Z\"},{\"public_metrics\":{\"retweet_count\":895,\"reply_count\":0,\"like_count\":0,\"quote_count\":0},\"lang\":\"en\",\"text\":\"RT @ShiNguyen69: Ok. I\\'m fine\\\\n.\\\\n.\\\\n.\\\\n#DeadbyDaylightfanart #DeadbyDaylight https://t.co/c6nto37Euj\",\"author_id\":\"3384830921\",\"id\":\"1450088842829119497\",\"created_at\":\"2021-10-18T13:18:16.000Z\"},{\"public_metrics\":{\"retweet_count\":0,\"reply_count\":0,\"like_count\":0,\"quote_count\":0},\"lang\":\"en\",\"text\":\"Hope the people at the Halloween party knows how to repair generators... #Legion #DeadbyDaylight #Frenzy https://t.co/2CzYgCW2jl\",\"author_id\":\"176317539\",\"id\":\"1450088605054013445\",\"created_at\":\"2021-10-18T13:17:19.000Z\"}],\"includes\":{\"users\":[{\"id\":\"1162810510032756736\",\"name\":\"\\\\uD83C\\\\uDFF3️\\u200d\\\\uD83C\\\\uDF08TheMidnightCorvus\\\\uD83C\\\\uDFF3️\\u200d\\\\uD83C\\\\uDF08\",\"username\":\"MidnightCorvus9\"},{\"id\":\"1286180518178955266\",\"name\":\"\\\\uD835\\\\uDE14\\\\uD835\\\\uDE22\\\\uD835\\\\uDE2E\\\\uD835\\\\uDE2A\\\\uD835\\\\uDE1B\\\\uD835\\\\uDE34\\\\uD835\\\\uDE36\\\\uD835\\\\uDE2F\\\\uD835\\\\uDE22\\\\uD835\\\\uDE2E\\\\uD835\\\\uDE2A -I AM THE PUMPKIN QUEEN\\\\uD83C\\\\uDF83\",\"username\":\"MamiTsunami4\"},{\"id\":\"1263166000779976704\",\"name\":\"Bottom of the Foodchain\",\"username\":\"foodchainbottom\"},{\"id\":\"1150729203563806720\",\"name\":\"streamachine retweets \\\\uD83C\\\\uDDEC\\\\uD83C\\\\uDDE7\",\"username\":\"sme_rt\"},{\"id\":\"1176974681938780163\",\"name\":\"SpeedyGent\",\"username\":\"SpeedyGentt\"},{\"id\":\"1090131138784444417\",\"name\":\"\\\\uD83C\\\\uDF83 Cam \\\\uD83D\\\\uDC9B\\\\uD83D\\\\uDC9C\\\\uD83D\\\\uDC99\",\"username\":\"TLoCam\"},{\"id\":\"1292350580573102080\",\"name\":\"abie\",\"username\":\"abeillemh\"},{\"id\":\"894273605818822656\",\"name\":\"ITSA SPOOKY CAT MONTH!\",\"username\":\"TigerKirby215\"},{\"id\":\"1334608156509564929\",\"name\":\"BluBoi (0/3)\",\"username\":\"BAbominations\"},{\"id\":\"1416554399011414025\",\"name\":\"Foolyzz\",\"username\":\"F00LYZZ\"},{\"id\":\"703914629743771648\",\"name\":\"resolute dreamwalker\",\"username\":\"culdesacsmash\"},{\"id\":\"2834114661\",\"name\":\"ANPAUS | The Dinosaur Hunter | Streamer | YouTuber\",\"username\":\"wwwanpaus\"},{\"id\":\"1272580109820624896\",\"name\":\"DrCollision | Streamer | YouTuber\",\"username\":\"RealDrCollision\"},{\"id\":\"1128878664572166144\",\"name\":\"RT Small Streams\",\"username\":\"rtsmallstreams\"},{\"id\":\"1120936013583372289\",\"name\":\"RighteousVoyage\",\"username\":\"RighteousVoyage\"},{\"id\":\"399344805\",\"name\":\"The4thProphet\",\"username\":\"the4thprophet\"},{\"id\":\"1442225785692033028\",\"name\":\"some weeb\",\"username\":\"Somehuman_1464\"},{\"id\":\"2293464290\",\"name\":\"\\\\uD83C\\\\uDF83 beep \\\\uD83D\\\\uDD78️\",\"username\":\"flowerbots\"},{\"id\":\"1258344023108050945\",\"name\":\"gerg\\\\uD83D\\\\uDD2A\\\\uD83C\\\\uDF83\\\\uD83D\\\\uDDA4\",\"username\":\"gerg_da_boi\"},{\"id\":\"1232576775986634753\",\"name\":\"견고\",\"username\":\"___DogGo\"},{\"id\":\"820129674034429953\",\"name\":\"Amalnsfw\",\"username\":\"Amalthemir_\"},{\"id\":\"1213462118327939072\",\"name\":\"Live SupermanGalen13:)\",\"username\":\"SupermanGalen13\"},{\"id\":\"1449041481499496451\",\"name\":\"Christopher Thomas\",\"username\":\"Sk0lgam3r\"},{\"id\":\"1246975436598337536\",\"name\":\"C3 - COMMISSION OPEN\",\"username\":\"C3_Tooth\"},{\"id\":\"1159260728894873602\",\"name\":\"Stream Caster\",\"username\":\"stream_caster\"},{\"id\":\"1284066771079757824\",\"name\":\"DragenGyrr\",\"username\":\"dragen_gyrr\"},{\"id\":\"1438467324307296259\",\"name\":\"Hexsplosions\",\"username\":\"Hexsplosions\"},{\"id\":\"3308902373\",\"name\":\"\\\\uD83C\\\\uDF75UghDragonNinja\\\\uD83C\\\\uDF75\",\"username\":\"UghDragonNinja\"},{\"id\":\"920826290\",\"name\":\"카스토르\",\"username\":\"XCastorX\"},{\"id\":\"2732533144\",\"name\":\"sage\",\"username\":\"girlybirdxo\"},{\"id\":\"1934143724\",\"name\":\"본색\",\"username\":\"prepbon\"},{\"id\":\"716676175708438528\",\"name\":\"Blitz \\\\uD83C\\\\uDDF2\\\\uD83C\\\\uDDFD♦️\\\\uD83E\\\\uDD6E\",\"username\":\"moldyart\"},{\"id\":\"718867558485467136\",\"name\":\"Promote Smaller Streams!\",\"username\":\"smallerstreams\"},{\"id\":\"797597838792269824\",\"name\":\"Jeremy Cappa\",\"username\":\"JeremyCappa\"},{\"id\":\"1269438582873296898\",\"name\":\"fries\",\"username\":\"FransiscoFigue4\"},{\"id\":\"167965635\",\"name\":\"wikiwing\",\"username\":\"wikiwing_ttv\"},{\"id\":\"1114009027359531009\",\"name\":\"Dottie\\\\uD83D\\\\uDC80\",\"username\":\"DottieTheNinth\"},{\"id\":\"1255309660984311809\",\"name\":\"Molgulvort\",\"username\":\"leointhedesert\"},{\"id\":\"256239667\",\"name\":\"Cocoa\",\"username\":\"togamaeda\"},{\"id\":\"1175618285460701184\",\"name\":\"Keeperly\",\"username\":\"Keeperly1\"},{\"id\":\"585941987\",\"name\":\"John Holmes\",\"username\":\"TheParlourPoet\"},{\"id\":\"935309775436500993\",\"name\":\"\\\\uD83D\\\\uDD1ETrappers booooooo~ \\\\uD83D\\\\uDC7B\",\"username\":\"Zombbean\"},{\"id\":\"861959545614192640\",\"name\":\"Cem Tutar\",\"username\":\"CemTutar21\"},{\"id\":\"404619352\",\"name\":\"NOTRATED \\\\uD83C\\\\uDF83\",\"username\":\"NOTRATEDRRR\"},{\"id\":\"3192203531\",\"name\":\"clare | \\\\uD83C\\\\uDF83\\\\uD83D\\\\uDC7B\",\"username\":\"xclarelouise\"},{\"id\":\"180797929\",\"name\":\"Paul Pike\",\"username\":\"HR12345SA\"},{\"id\":\"1313255492953804800\",\"name\":\"allylla\",\"username\":\"dasweetestbean\"},{\"id\":\"23149229\",\"name\":\"Spooky V in Chainsawman hell\",\"username\":\"spookyespeon\"},{\"id\":\"976967473277759488\",\"name\":\"˗ˏˋ spooky fae ˎˊ˗ is busy! \\\\uD83C\\\\uDF83\",\"username\":\"Freyanuris\"},{\"id\":\"17730060\",\"name\":\"\\\\uD83D\\\\uDC79\\\\uD83D\\\\uDC7B✨demi✨\\\\uD83D\\\\uDC79\\\\uD83D\\\\uDC7B\",\"username\":\"demimenace\"},{\"id\":\"26249815\",\"name\":\"firewitch74\",\"username\":\"firewitch74\"},{\"id\":\"1260541059718930433\",\"name\":\"Dr. Heath LEGEND\\\\uD83C\\\\uDF38 (sub to my YT)\",\"username\":\"MKUltraLegend\"},{\"id\":\"971774781841395712\",\"name\":\"leo bottineau(\\\\uD83D\\\\uDC80\\\\uD83C\\\\uDF83\\\\uD83C\\\\uDFAE☠️\\\\uD83D\\\\uDC80)\",\"username\":\"fallenbottineau\"},{\"id\":\"722136338770870273\",\"name\":\"Bob McDuck\",\"username\":\"Bob_McDuck\"},{\"id\":\"1416585210632757251\",\"name\":\"whit3noiz\",\"username\":\"whit3noiz1\"},{\"id\":\"1324166386915123200\",\"name\":\"Michael Sofia\",\"username\":\"Micsrtu\"},{\"id\":\"1041928281422016512\",\"name\":\"F33LZ_\",\"username\":\"F33LZ__\"},{\"id\":\"185726594\",\"name\":\"Alex \\\\uD83D\\\\uDD77\",\"username\":\"AlexsFortuna\"},{\"id\":\"1354435650183966721\",\"name\":\"Alvaj0tA \\\\uD83C\\\\uDFAE\",\"username\":\"alvaj0ta\"},{\"id\":\"1162725326033735680\",\"name\":\"▪︎Exists▪︎\",\"username\":\"AStillExists\"},{\"id\":\"1274430459187998721\",\"name\":\"Sistas of the Fog\",\"username\":\"sistasofthefog\"},{\"id\":\"1427316197347889152\",\"name\":\"Asakura好葉\",\"username\":\"Gvw883oNRM5Y17g\"},{\"id\":\"1171189265251917825\",\"name\":\"Mathias \\\\uD83E\\\\uDE90\",\"username\":\"dojaelite\"},{\"id\":\"870188735899500544\",\"name\":\"Pm?tlex\",\"username\":\"Psycotoz\"},{\"id\":\"704583568316633088\",\"name\":\"YouTube & Twitch RT ✪\",\"username\":\"Retweelgend\"},{\"id\":\"824400343354241028\",\"name\":\"gideon \\\\uD83E\\\\uDE90\",\"username\":\"hierogIyphix\"},{\"id\":\"1131721004366127104\",\"name\":\"NiGHTS\",\"username\":\"SansKnights\"},{\"id\":\"1422936304208072708\",\"name\":\"몬\",\"username\":\"game___ggu\"},{\"id\":\"956765577745334272\",\"name\":\"지지\",\"username\":\"GGincampfire\"},{\"id\":\"947313374748184576\",\"name\":\"PukingGlitter\",\"username\":\"ImPukingGlitter\"},{\"id\":\"873539657543294976\",\"name\":\"\\\\uD83D\\\\uDE09\\\\uD83D\\\\uDC4C\\\\uD83C\\\\uDFFB\",\"username\":\"_9ONGA\"},{\"id\":\"1395179935258619909\",\"name\":\"Allyster66\",\"username\":\"allyster66\"},{\"id\":\"961005404284219392\",\"name\":\"JakeyBoy\",\"username\":\"JakeyBoyOvO\"},{\"id\":\"295458780\",\"name\":\"Cue\",\"username\":\"YoBoyCue\"},{\"id\":\"1362198900455706625\",\"name\":\"Kop Orsolya\",\"username\":\"bloody_erotic\"},{\"id\":\"282913388\",\"name\":\"Dan Weisse\",\"username\":\"Iced_Chi\"},{\"id\":\"1281734494823813120\",\"name\":\"d barney b\",\"username\":\"dbarneyb1\"},{\"id\":\"45408727\",\"name\":\"BigBadWolf4life \\\\uD83C\\\\uDFF3️\\u200d\\\\uD83C\\\\uDF08 (Wear your mask!)\",\"username\":\"BigBadW0lf4Life\"},{\"id\":\"1434537977888362501\",\"name\":\"neblosinha\",\"username\":\"neblosinha\"},{\"id\":\"950080863403900929\",\"name\":\"madi3strike \\uea00\",\"username\":\"madi3strike\"},{\"id\":\"1430474935269564416\",\"name\":\"Dat_Wan\",\"username\":\"DatWanSalt\"},{\"id\":\"758164914884272128\",\"name\":\"Kneeckoh\",\"username\":\"Kneeckoh_Gaming\"},{\"id\":\"1436644069829054470\",\"name\":\"Yagmi\",\"username\":\"eelyagmi\"},{\"id\":\"4084676482\",\"name\":\"gemini\\\\uD80C\\\\uDD99гиена\",\"username\":\"cappitan_morgan\"},{\"id\":\"1130598491108073473\",\"name\":\"Baby_dwete\",\"username\":\"nobleb00m\"},{\"id\":\"1088677514782765057\",\"name\":\"【公式】神ぷれぃやぁクウ(GodPlayerQoo)\",\"username\":\"GodPlayerQoo\"},{\"id\":\"1349571418250489857\",\"name\":\"Angi\",\"username\":\"angelicaiscc\"},{\"id\":\"1259375316507807744\",\"name\":\"mx. zan\",\"username\":\"mx_zan\"},{\"id\":\"822150665061404675\",\"name\":\"Joleyth3barbarian\",\"username\":\"animestorytime\"},{\"id\":\"3384830921\",\"name\":\"spooky lucas\",\"username\":\"1ucas_Andr3\"},{\"id\":\"176317539\",\"name\":\"Jimmy Coronavirus\",\"username\":\"TheBigManJimmyT\"}]},\"meta\":{\"newest_id\":\"1450100226526695427\",\"oldest_id\":\"1450088605054013445\",\"result_count\":100,\"next_token\":\"b26v89c19zqg8o3fpdv5s9yr9v786nabfdte45dpa3zp9\"}}'"
      ]
     },
     "execution_count": 29,
     "metadata": {},
     "output_type": "execute_result"
    }
   ],
   "source": [
    "response_2_dict.text"
   ]
  },
  {
   "cell_type": "code",
   "execution_count": 31,
   "id": "49bdb1be",
   "metadata": {},
   "outputs": [],
   "source": [
    "my_df = my_df.append(pd.DataFrame(json.loads(response_2_dict.text)['data']), ignore_index= True)"
   ]
  },
  {
   "cell_type": "code",
   "execution_count": 32,
   "id": "6dba3817",
   "metadata": {
    "scrolled": true
   },
   "outputs": [
    {
     "data": {
      "text/html": [
       "<div>\n",
       "<style scoped>\n",
       "    .dataframe tbody tr th:only-of-type {\n",
       "        vertical-align: middle;\n",
       "    }\n",
       "\n",
       "    .dataframe tbody tr th {\n",
       "        vertical-align: top;\n",
       "    }\n",
       "\n",
       "    .dataframe thead th {\n",
       "        text-align: right;\n",
       "    }\n",
       "</style>\n",
       "<table border=\"1\" class=\"dataframe\">\n",
       "  <thead>\n",
       "    <tr style=\"text-align: right;\">\n",
       "      <th></th>\n",
       "      <th>created_at</th>\n",
       "      <th>lang</th>\n",
       "      <th>text</th>\n",
       "      <th>id</th>\n",
       "      <th>public_metrics</th>\n",
       "      <th>author_id</th>\n",
       "    </tr>\n",
       "  </thead>\n",
       "  <tbody>\n",
       "    <tr>\n",
       "      <th>100</th>\n",
       "      <td>2021-10-18T14:03:30.000Z</td>\n",
       "      <td>en</td>\n",
       "      <td>RT @LeaksDbd: David's \"The Ruffian\" and Adam's...</td>\n",
       "      <td>1450100226526695427</td>\n",
       "      <td>{'retweet_count': 83, 'reply_count': 0, 'like_...</td>\n",
       "      <td>1162810510032756736</td>\n",
       "    </tr>\n",
       "    <tr>\n",
       "      <th>101</th>\n",
       "      <td>2021-10-18T14:03:11.000Z</td>\n",
       "      <td>en</td>\n",
       "      <td>RT @MsGoddessLauren: Girls night &amp;lt;3  \\n#Dea...</td>\n",
       "      <td>1450100149443772418</td>\n",
       "      <td>{'retweet_count': 1, 'reply_count': 0, 'like_c...</td>\n",
       "      <td>1286180518178955266</td>\n",
       "    </tr>\n",
       "    <tr>\n",
       "      <th>102</th>\n",
       "      <td>2021-10-18T14:03:09.000Z</td>\n",
       "      <td>en</td>\n",
       "      <td>RT @Gantsuki: The Huntress #deadbydaylight #db...</td>\n",
       "      <td>1450100139968929794</td>\n",
       "      <td>{'retweet_count': 6, 'reply_count': 0, 'like_c...</td>\n",
       "      <td>1263166000779976704</td>\n",
       "    </tr>\n",
       "    <tr>\n",
       "      <th>103</th>\n",
       "      <td>2021-10-18T14:03:01.000Z</td>\n",
       "      <td>en</td>\n",
       "      <td>RT @SpeedyGentt: Random perk games #DeadbyDayl...</td>\n",
       "      <td>1450100107693760516</td>\n",
       "      <td>{'retweet_count': 2, 'reply_count': 0, 'like_c...</td>\n",
       "      <td>1150729203563806720</td>\n",
       "    </tr>\n",
       "    <tr>\n",
       "      <th>104</th>\n",
       "      <td>2021-10-18T14:02:56.000Z</td>\n",
       "      <td>en</td>\n",
       "      <td>Random perk games #DeadbyDaylight \\n#trans #tw...</td>\n",
       "      <td>1450100083459039237</td>\n",
       "      <td>{'retweet_count': 2, 'reply_count': 1, 'like_c...</td>\n",
       "      <td>1176974681938780163</td>\n",
       "    </tr>\n",
       "    <tr>\n",
       "      <th>...</th>\n",
       "      <td>...</td>\n",
       "      <td>...</td>\n",
       "      <td>...</td>\n",
       "      <td>...</td>\n",
       "      <td>...</td>\n",
       "      <td>...</td>\n",
       "    </tr>\n",
       "    <tr>\n",
       "      <th>195</th>\n",
       "      <td>2021-10-18T13:20:23.000Z</td>\n",
       "      <td>en</td>\n",
       "      <td>YOULLL FLOAT TOOO!!! JOIN THE STREAMM!! @DeadB...</td>\n",
       "      <td>1450089377070256138</td>\n",
       "      <td>{'retweet_count': 0, 'reply_count': 0, 'like_c...</td>\n",
       "      <td>1349571418250489857</td>\n",
       "    </tr>\n",
       "    <tr>\n",
       "      <th>196</th>\n",
       "      <td>2021-10-18T13:19:58.000Z</td>\n",
       "      <td>en</td>\n",
       "      <td>RT @vizzeyxyz: Trickster Cut Thru U Performanc...</td>\n",
       "      <td>1450089272820879364</td>\n",
       "      <td>{'retweet_count': 23, 'reply_count': 0, 'like_...</td>\n",
       "      <td>1259375316507807744</td>\n",
       "    </tr>\n",
       "    <tr>\n",
       "      <th>197</th>\n",
       "      <td>2021-10-18T13:18:50.000Z</td>\n",
       "      <td>en</td>\n",
       "      <td>Dead by the wayside rank up experience ft swea...</td>\n",
       "      <td>1450088988065386500</td>\n",
       "      <td>{'retweet_count': 0, 'reply_count': 0, 'like_c...</td>\n",
       "      <td>822150665061404675</td>\n",
       "    </tr>\n",
       "    <tr>\n",
       "      <th>198</th>\n",
       "      <td>2021-10-18T13:18:16.000Z</td>\n",
       "      <td>en</td>\n",
       "      <td>RT @ShiNguyen69: Ok. I'm fine\\n.\\n.\\n.\\n#Deadb...</td>\n",
       "      <td>1450088842829119497</td>\n",
       "      <td>{'retweet_count': 895, 'reply_count': 0, 'like...</td>\n",
       "      <td>3384830921</td>\n",
       "    </tr>\n",
       "    <tr>\n",
       "      <th>199</th>\n",
       "      <td>2021-10-18T13:17:19.000Z</td>\n",
       "      <td>en</td>\n",
       "      <td>Hope the people at the Halloween party knows h...</td>\n",
       "      <td>1450088605054013445</td>\n",
       "      <td>{'retweet_count': 0, 'reply_count': 0, 'like_c...</td>\n",
       "      <td>176317539</td>\n",
       "    </tr>\n",
       "  </tbody>\n",
       "</table>\n",
       "<p>100 rows × 6 columns</p>\n",
       "</div>"
      ],
      "text/plain": [
       "                   created_at lang  \\\n",
       "100  2021-10-18T14:03:30.000Z   en   \n",
       "101  2021-10-18T14:03:11.000Z   en   \n",
       "102  2021-10-18T14:03:09.000Z   en   \n",
       "103  2021-10-18T14:03:01.000Z   en   \n",
       "104  2021-10-18T14:02:56.000Z   en   \n",
       "..                        ...  ...   \n",
       "195  2021-10-18T13:20:23.000Z   en   \n",
       "196  2021-10-18T13:19:58.000Z   en   \n",
       "197  2021-10-18T13:18:50.000Z   en   \n",
       "198  2021-10-18T13:18:16.000Z   en   \n",
       "199  2021-10-18T13:17:19.000Z   en   \n",
       "\n",
       "                                                  text                   id  \\\n",
       "100  RT @LeaksDbd: David's \"The Ruffian\" and Adam's...  1450100226526695427   \n",
       "101  RT @MsGoddessLauren: Girls night &lt;3  \\n#Dea...  1450100149443772418   \n",
       "102  RT @Gantsuki: The Huntress #deadbydaylight #db...  1450100139968929794   \n",
       "103  RT @SpeedyGentt: Random perk games #DeadbyDayl...  1450100107693760516   \n",
       "104  Random perk games #DeadbyDaylight \\n#trans #tw...  1450100083459039237   \n",
       "..                                                 ...                  ...   \n",
       "195  YOULLL FLOAT TOOO!!! JOIN THE STREAMM!! @DeadB...  1450089377070256138   \n",
       "196  RT @vizzeyxyz: Trickster Cut Thru U Performanc...  1450089272820879364   \n",
       "197  Dead by the wayside rank up experience ft swea...  1450088988065386500   \n",
       "198  RT @ShiNguyen69: Ok. I'm fine\\n.\\n.\\n.\\n#Deadb...  1450088842829119497   \n",
       "199  Hope the people at the Halloween party knows h...  1450088605054013445   \n",
       "\n",
       "                                        public_metrics            author_id  \n",
       "100  {'retweet_count': 83, 'reply_count': 0, 'like_...  1162810510032756736  \n",
       "101  {'retweet_count': 1, 'reply_count': 0, 'like_c...  1286180518178955266  \n",
       "102  {'retweet_count': 6, 'reply_count': 0, 'like_c...  1263166000779976704  \n",
       "103  {'retweet_count': 2, 'reply_count': 0, 'like_c...  1150729203563806720  \n",
       "104  {'retweet_count': 2, 'reply_count': 1, 'like_c...  1176974681938780163  \n",
       "..                                                 ...                  ...  \n",
       "195  {'retweet_count': 0, 'reply_count': 0, 'like_c...  1349571418250489857  \n",
       "196  {'retweet_count': 23, 'reply_count': 0, 'like_...  1259375316507807744  \n",
       "197  {'retweet_count': 0, 'reply_count': 0, 'like_c...   822150665061404675  \n",
       "198  {'retweet_count': 895, 'reply_count': 0, 'like...           3384830921  \n",
       "199  {'retweet_count': 0, 'reply_count': 0, 'like_c...            176317539  \n",
       "\n",
       "[100 rows x 6 columns]"
      ]
     },
     "execution_count": 32,
     "metadata": {},
     "output_type": "execute_result"
    }
   ],
   "source": [
    "my_df.tail(100)"
   ]
  },
  {
   "cell_type": "code",
   "execution_count": 45,
   "id": "7cd79ace",
   "metadata": {},
   "outputs": [
    {
     "data": {
      "text/plain": [
       "200"
      ]
     },
     "execution_count": 45,
     "metadata": {},
     "output_type": "execute_result"
    }
   ],
   "source": [
    "len(my_df.index)"
   ]
  },
  {
   "cell_type": "code",
   "execution_count": 47,
   "id": "ce628047",
   "metadata": {},
   "outputs": [
    {
     "ename": "TypeError",
     "evalue": "'Response' object is not subscriptable",
     "output_type": "error",
     "traceback": [
      "\u001b[1;31m---------------------------------------------------------------------------\u001b[0m",
      "\u001b[1;31mTypeError\u001b[0m                                 Traceback (most recent call last)",
      "\u001b[1;32m~\\AppData\\Local\\Temp/ipykernel_8628/3633857183.py\u001b[0m in \u001b[0;36m<module>\u001b[1;34m\u001b[0m\n\u001b[1;32m----> 1\u001b[1;33m \u001b[0mexpansions_api_url_3\u001b[0m \u001b[1;33m=\u001b[0m \u001b[0mexpansions_api_url\u001b[0m \u001b[1;33m+\u001b[0m \u001b[1;34m'&next_token={}'\u001b[0m\u001b[1;33m.\u001b[0m\u001b[0mformat\u001b[0m\u001b[1;33m(\u001b[0m\u001b[0mresponse_2_dict\u001b[0m\u001b[1;33m[\u001b[0m\u001b[1;34m'meta'\u001b[0m\u001b[1;33m]\u001b[0m\u001b[1;33m[\u001b[0m\u001b[1;34m'next_token'\u001b[0m\u001b[1;33m]\u001b[0m\u001b[1;33m)\u001b[0m\u001b[1;33m\u001b[0m\u001b[1;33m\u001b[0m\u001b[0m\n\u001b[0m",
      "\u001b[1;31mTypeError\u001b[0m: 'Response' object is not subscriptable"
     ]
    }
   ],
   "source": [
    "expansions_api_url_3 = expansions_api_url + '&next_token={}'.format(response_2_dict['meta']['next_token'])"
   ]
  },
  {
   "cell_type": "code",
   "execution_count": 48,
   "id": "e2df5326",
   "metadata": {
    "scrolled": true
   },
   "outputs": [
    {
     "data": {
      "text/plain": [
       "'https://api.twitter.com/2/tweets/search/recent?query=%28%23DeadbyDaylight%29%20lang%3Aen&max_results=100&tweet.fields=public_metrics,created_at,author_id,lang&expansions=author_id&user.fields=username&next_token=b26v89c19zqg8o3fpdv5sc12rmc1wiocuuohnidag1zst'"
      ]
     },
     "execution_count": 48,
     "metadata": {},
     "output_type": "execute_result"
    }
   ],
   "source": [
    "expansions_api_url_3"
   ]
  },
  {
   "cell_type": "code",
   "execution_count": 49,
   "id": "a7893b92",
   "metadata": {},
   "outputs": [],
   "source": [
    "response_3 = requests.request(\"GET\", expansions_api_url_3, headers = header)"
   ]
  },
  {
   "cell_type": "code",
   "execution_count": 50,
   "id": "fa2ef82c",
   "metadata": {},
   "outputs": [
    {
     "data": {
      "text/plain": [
       "'{\"data\":[{\"public_metrics\":{\"retweet_count\":106,\"reply_count\":0,\"like_count\":0,\"quote_count\":0},\"text\":\"RT @LeaksDbd: David\\'s \\\\\"The Ruffian\\\\\" and Adam\\'s \\\\\"Jamaican Proud\\\\\" cosmetics will make their way to shop on 19 October.\\\\n\\\\nNemesis and Pyramid H…\",\"lang\":\"en\",\"author_id\":\"1162810510032756736\",\"id\":\"1450100226526695427\",\"created_at\":\"2021-10-18T14:03:30.000Z\"},{\"public_metrics\":{\"retweet_count\":1,\"reply_count\":0,\"like_count\":0,\"quote_count\":0},\"text\":\"RT @MsGoddessLauren: Girls night &lt;3  \\\\n#Deadbydaylight #Dbd https://t.co/r3ik6gWrOk\",\"lang\":\"en\",\"author_id\":\"1286180518178955266\",\"id\":\"1450100149443772418\",\"created_at\":\"2021-10-18T14:03:11.000Z\"},{\"public_metrics\":{\"retweet_count\":6,\"reply_count\":0,\"like_count\":0,\"quote_count\":0},\"text\":\"RT @Gantsuki: The Huntress #deadbydaylight #dbd #deadbydaylightfanart #デッドバイデイライト https://t.co/unehO0Apmp https://t.co/xQWXZb1TVu\",\"lang\":\"en\",\"author_id\":\"1263166000779976704\",\"id\":\"1450100139968929794\",\"created_at\":\"2021-10-18T14:03:09.000Z\"},{\"public_metrics\":{\"retweet_count\":3,\"reply_count\":0,\"like_count\":0,\"quote_count\":0},\"text\":\"RT @SpeedyGentt: Random perk games #DeadbyDaylight \\\\n#trans #twitch #twitchtv #TwitchTVGaming #twitchaffiliate #twitchstreamer #smallstreame…\",\"lang\":\"en\",\"author_id\":\"1150729203563806720\",\"id\":\"1450100107693760516\",\"created_at\":\"2021-10-18T14:03:01.000Z\"},{\"public_metrics\":{\"retweet_count\":3,\"reply_count\":1,\"like_count\":6,\"quote_count\":0},\"text\":\"Random perk games #DeadbyDaylight \\\\n#trans #twitch #twitchtv #TwitchTVGaming #twitchaffiliate #twitchstreamer #smallstreamer #SmallStreamerCommunity #LGBTQ \\\\n@SupStreamers @Retweet_Twitch @TwitchSupport @SmallStreamersR @rtsmallstreams @sme_rt\\\\nhttps://t.co/Gzzxt9ppWz\",\"lang\":\"en\",\"author_id\":\"1176974681938780163\",\"id\":\"1450100083459039237\",\"created_at\":\"2021-10-18T14:02:56.000Z\"},{\"public_metrics\":{\"retweet_count\":42,\"reply_count\":0,\"like_count\":0,\"quote_count\":0},\"text\":\"RT @leaksbydaylight: Sorry for the typo, the correct code is DBDDAYJP2021.\\\\n\\\\nI remind you that tomorrow will be released the mid-chapter pat…\",\"lang\":\"en\",\"author_id\":\"1090131138784444417\",\"id\":\"1450099546776817668\",\"created_at\":\"2021-10-18T14:00:48.000Z\"},{\"public_metrics\":{\"retweet_count\":10,\"reply_count\":0,\"like_count\":0,\"quote_count\":0},\"text\":\"RT @Freyanuris: \\\\uD83D\\\\uDD6F “Does anyone else see that? Just me?” — @DeadByBHVR #DeadbyDaylight #MikaelaReid https://t.co/BDGuTRpSOf\",\"lang\":\"en\",\"author_id\":\"1292350580573102080\",\"id\":\"1450099454892077062\",\"created_at\":\"2021-10-18T14:00:26.000Z\"},{\"public_metrics\":{\"retweet_count\":0,\"reply_count\":0,\"like_count\":1,\"quote_count\":1},\"text\":\"I am genuinely shocked that there are people who are so entitled that they genuinely think saying the N word or telling people to kill themselves isn\\'t as bad as facecamping in #DeadbyDaylight\\\\nI hate this community so much and toxic people like this make me want to vomit.\",\"lang\":\"en\",\"author_id\":\"894273605818822656\",\"id\":\"1450099351599132674\",\"created_at\":\"2021-10-18T14:00:01.000Z\"},{\"public_metrics\":{\"retweet_count\":0,\"reply_count\":0,\"like_count\":0,\"quote_count\":0},\"text\":\"Recently got into Dead By Daylight, here\\'s the result\\\\n#Halloween  #DeadbyDaylight https://t.co/2S72CVDfHf\",\"lang\":\"en\",\"author_id\":\"1334608156509564929\",\"id\":\"1450099348440768516\",\"created_at\":\"2021-10-18T14:00:00.000Z\"},{\"public_metrics\":{\"retweet_count\":0,\"reply_count\":0,\"like_count\":0,\"quote_count\":0},\"text\":\"Maybe i should lay off the Jesus water\\\\n#DeadbyDaylight #twitch #twitchfails #Streamers #fail #twitchclips https://t.co/LSZUffZ6eC\",\"lang\":\"en\",\"author_id\":\"1416554399011414025\",\"id\":\"1450099307890323468\",\"created_at\":\"2021-10-18T13:59:51.000Z\"},{\"public_metrics\":{\"retweet_count\":41,\"reply_count\":0,\"like_count\":0,\"quote_count\":0},\"text\":\"RT @dragen_gyrr: #DeadbyDaylight #Huntress\\\\n\\\\n“Come, child, I’ll get the high ones for you.”\\\\n\\\\nWild apples. https://t.co/nTcl1L9Kwc\",\"lang\":\"en\",\"author_id\":\"703914629743771648\",\"id\":\"1450099273308131328\",\"created_at\":\"2021-10-18T13:59:42.000Z\"},{\"public_metrics\":{\"retweet_count\":6,\"reply_count\":0,\"like_count\":0,\"quote_count\":0},\"text\":\"RT @Hexsplosions: More chilled #DBD: https://t.co/pF8dYTvIi5\\\\n\\\\n200 follower goal!\\\\n\\\\n@Streamer_Boost @Twitch_RT @rtsmallstreams @stream_caster…\",\"lang\":\"en\",\"author_id\":\"2834114661\",\"id\":\"1450099240605261833\",\"created_at\":\"2021-10-18T13:59:35.000Z\"},{\"public_metrics\":{\"retweet_count\":6,\"reply_count\":0,\"like_count\":0,\"quote_count\":0},\"text\":\"RT @Hexsplosions: More chilled #DBD: https://t.co/pF8dYTvIi5\\\\n\\\\n200 follower goal!\\\\n\\\\n@Streamer_Boost @Twitch_RT @rtsmallstreams @stream_caster…\",\"lang\":\"en\",\"author_id\":\"1272580109820624896\",\"id\":\"1450099233017761800\",\"created_at\":\"2021-10-18T13:59:33.000Z\"},{\"public_metrics\":{\"retweet_count\":6,\"reply_count\":0,\"like_count\":0,\"quote_count\":0},\"text\":\"RT @Hexsplosions: More chilled #DBD: https://t.co/pF8dYTvIi5\\\\n\\\\n200 follower goal!\\\\n\\\\n@Streamer_Boost @Twitch_RT @rtsmallstreams @stream_caster…\",\"lang\":\"en\",\"author_id\":\"1128878664572166144\",\"id\":\"1450099218933223429\",\"created_at\":\"2021-10-18T13:59:29.000Z\"},{\"public_metrics\":{\"retweet_count\":0,\"reply_count\":0,\"like_count\":1,\"quote_count\":0},\"text\":\"When your teammates just dip on you! \\\\uD83D\\\\uDE2D #DeadbyDaylight #Intothefog https://t.co/rzKdCLJ9o8\",\"lang\":\"en\",\"author_id\":\"1120936013583372289\",\"id\":\"1450099146149351428\",\"created_at\":\"2021-10-18T13:59:12.000Z\"},{\"public_metrics\":{\"retweet_count\":2,\"reply_count\":0,\"like_count\":0,\"quote_count\":0},\"text\":\"RT @firewitch74: Good morning cuties, I hope you all had a fantastic weekend. Let get on some DBD and boss some killers around. Missed your…\",\"lang\":\"en\",\"author_id\":\"399344805\",\"id\":\"1450098991203434500\",\"created_at\":\"2021-10-18T13:58:35.000Z\"},{\"public_metrics\":{\"retweet_count\":910,\"reply_count\":0,\"like_count\":0,\"quote_count\":0},\"text\":\"RT @ShiNguyen69: Ok. I\\'m fine\\\\n.\\\\n.\\\\n.\\\\n#DeadbyDaylightfanart #DeadbyDaylight https://t.co/c6nto37Euj\",\"lang\":\"en\",\"author_id\":\"1442225785692033028\",\"id\":\"1450098989118885896\",\"created_at\":\"2021-10-18T13:58:35.000Z\"},{\"public_metrics\":{\"retweet_count\":1416,\"reply_count\":0,\"like_count\":0,\"quote_count\":0},\"text\":\"RT @Slitherbop: The Doctor \\\\uD83D\\\\uDC40 #DeadbyDaylight #dbdfanart https://t.co/vbkxtbHAAB\",\"lang\":\"en\",\"author_id\":\"2293464290\",\"id\":\"1450098942528606209\",\"created_at\":\"2021-10-18T13:58:24.000Z\"},{\"public_metrics\":{\"retweet_count\":20,\"reply_count\":0,\"like_count\":0,\"quote_count\":0},\"text\":\"RT @dbd_usernames: #Deadbydaylight username #320 https://t.co/L4GKBQuYA4\",\"lang\":\"en\",\"author_id\":\"1258344023108050945\",\"id\":\"1450098912665157636\",\"created_at\":\"2021-10-18T13:58:16.000Z\"},{\"public_metrics\":{\"retweet_count\":41,\"reply_count\":0,\"like_count\":0,\"quote_count\":0},\"text\":\"RT @dragen_gyrr: #DeadbyDaylight #Huntress\\\\n\\\\n“Come, child, I’ll get the high ones for you.”\\\\n\\\\nWild apples. https://t.co/nTcl1L9Kwc\",\"lang\":\"en\",\"author_id\":\"1232576775986634753\",\"id\":\"1450098798445809671\",\"created_at\":\"2021-10-18T13:57:49.000Z\"},{\"public_metrics\":{\"retweet_count\":104,\"reply_count\":0,\"like_count\":0,\"quote_count\":0},\"text\":\"RT @Ckang2021: Rough texture on the front and back, and the smell of lewd sweat in the air.\\\\n\\\\n#DeadbyDaylight #DavidKing #FelixRichter #NSFW…\",\"lang\":\"en\",\"author_id\":\"820129674034429953\",\"id\":\"1450098744893059073\",\"created_at\":\"2021-10-18T13:57:36.000Z\"},{\"public_metrics\":{\"retweet_count\":7,\"reply_count\":0,\"like_count\":0,\"quote_count\":0},\"text\":\"RT @ToriToebeans: playing some #deadbydaylight on #twitch come say hi!\\\\n\\\\uD83C\\\\uDF38https://t.co/SmLpTy73lx\\\\uD83C\\\\uDF38\\\\n\\\\n#smallstreamer\\\\n#streamergirl\\\\n#gamergirl\\\\n#…\",\"lang\":\"en\",\"author_id\":\"1449041481499496451\",\"id\":\"1450098262090739717\",\"created_at\":\"2021-10-18T13:55:41.000Z\"},{\"public_metrics\":{\"retweet_count\":0,\"reply_count\":0,\"like_count\":1,\"quote_count\":0},\"text\":\"Tomorrow gameplay\\\\n#DeadbyDaylightfanart #DeadbyDaylight https://t.co/LDj7t2gy5H\",\"lang\":\"en\",\"author_id\":\"1246975436598337536\",\"id\":\"1450098118465253381\",\"created_at\":\"2021-10-18T13:55:07.000Z\"},{\"public_metrics\":{\"retweet_count\":2,\"reply_count\":0,\"like_count\":0,\"quote_count\":0},\"text\":\"RT @Hexsplosions: Everybody on #DBD has been wholesome. https://t.co/hFtsfhPjZv\\\\n\\\\n@Streamer_Boost @Twitch_RT @rtsmallstreams\\\\n@stream_caster…\",\"lang\":\"en\",\"author_id\":\"1159260728894873602\",\"id\":\"1450097932615700483\",\"created_at\":\"2021-10-18T13:54:23.000Z\"},{\"public_metrics\":{\"retweet_count\":41,\"reply_count\":4,\"like_count\":113,\"quote_count\":0},\"text\":\"#DeadbyDaylight #Huntress\\\\n\\\\n“Come, child, I’ll get the high ones for you.”\\\\n\\\\nWild apples. https://t.co/nTcl1L9Kwc\",\"lang\":\"en\",\"author_id\":\"1284066771079757824\",\"id\":\"1450097924042641418\",\"created_at\":\"2021-10-18T13:54:21.000Z\"},{\"public_metrics\":{\"retweet_count\":2,\"reply_count\":0,\"like_count\":4,\"quote_count\":0},\"text\":\"Everybody on #DBD has been wholesome. https://t.co/hFtsfhPjZv\\\\n\\\\n@Streamer_Boost @Twitch_RT @rtsmallstreams\\\\n@stream_caster #Streamcaster #smallstreamer #SmallStreamersConnect #SmallStreamerCommunity #twitch #twitchtv #twitchstreamer #BritishStreamer #pcmasterrace #DeadbyDaylight\",\"lang\":\"en\",\"author_id\":\"1438467324307296259\",\"id\":\"1450097910050328581\",\"created_at\":\"2021-10-18T13:54:17.000Z\"},{\"public_metrics\":{\"retweet_count\":0,\"reply_count\":0,\"like_count\":0,\"quote_count\":0},\"text\":\"(ﾉ◕ヮ◕)ﾉ*:･ﾟ✧ TILTED &amp; TOXIC PLAYERS PLANNING TO GRIEF THE MATCH FROM THE START\\\\n\\\\nAlways play fair and clean!\\\\n(i never \\\\\"tunnel\\\\\" (toxic Dbd term btw), body block, or troll)\\\\n\\\\nhttps://t.co/JbHqDg2oM6\\\\n\\\\n#DeadbyDaylight #dbd #twitch #twitchtv #stream #streaming #clips #gaming\",\"lang\":\"en\",\"author_id\":\"3308902373\",\"id\":\"1450097499776110599\",\"created_at\":\"2021-10-18T13:52:40.000Z\"},{\"public_metrics\":{\"retweet_count\":653,\"reply_count\":0,\"like_count\":0,\"quote_count\":0},\"text\":\"RT @LeaksDbd: Tome IX - Crescendo Teaser.\\\\n\\\\nThanks to @PaulieEsther1 for sharing.\\\\n\\\\n#DeadbyDaylight #dbdleaks #leaksdbd #dbd https://t.co/tJl…\",\"lang\":\"en\",\"author_id\":\"920826290\",\"id\":\"1450097237401296896\",\"created_at\":\"2021-10-18T13:51:37.000Z\"},{\"public_metrics\":{\"retweet_count\":499,\"reply_count\":0,\"like_count\":0,\"quote_count\":0},\"text\":\"RT @CORRUPTCREATURA: Kitty Cat Huntress #DeadbyDaylight https://t.co/DuMZ8WpkBS\",\"lang\":\"en\",\"author_id\":\"2732533144\",\"id\":\"1450097227381215233\",\"created_at\":\"2021-10-18T13:51:35.000Z\"},{\"public_metrics\":{\"retweet_count\":7,\"reply_count\":0,\"like_count\":0,\"quote_count\":0},\"text\":\"RT @ToriToebeans: playing some #deadbydaylight on #twitch come say hi!\\\\n\\\\uD83C\\\\uDF38https://t.co/SmLpTy73lx\\\\uD83C\\\\uDF38\\\\n\\\\n#smallstreamer\\\\n#streamergirl\\\\n#gamergirl\\\\n#…\",\"lang\":\"en\",\"author_id\":\"1128878664572166144\",\"id\":\"1450097141385412608\",\"created_at\":\"2021-10-18T13:51:14.000Z\"},{\"public_metrics\":{\"retweet_count\":653,\"reply_count\":0,\"like_count\":0,\"quote_count\":0},\"text\":\"RT @LeaksDbd: Tome IX - Crescendo Teaser.\\\\n\\\\nThanks to @PaulieEsther1 for sharing.\\\\n\\\\n#DeadbyDaylight #dbdleaks #leaksdbd #dbd https://t.co/tJl…\",\"lang\":\"en\",\"author_id\":\"1934143724\",\"id\":\"1450097080869941249\",\"created_at\":\"2021-10-18T13:51:00.000Z\"},{\"public_metrics\":{\"retweet_count\":653,\"reply_count\":0,\"like_count\":0,\"quote_count\":0},\"text\":\"RT @LeaksDbd: Tome IX - Crescendo Teaser.\\\\n\\\\nThanks to @PaulieEsther1 for sharing.\\\\n\\\\n#DeadbyDaylight #dbdleaks #leaksdbd #dbd https://t.co/tJl…\",\"lang\":\"en\",\"author_id\":\"716676175708438528\",\"id\":\"1450096920039358471\",\"created_at\":\"2021-10-18T13:50:21.000Z\"},{\"public_metrics\":{\"retweet_count\":2,\"reply_count\":0,\"like_count\":0,\"quote_count\":0},\"text\":\"RT @MKUltraLegend: ⚡️Please Watch/Share New Vid: Game MUST Adapt  #DeadbyDaylight \\\\n\\\\nhttps://t.co/szeH1l5oMv\\\\n\\\\n@wwwanpaus @StreamerWall @Stre…\",\"lang\":\"en\",\"author_id\":\"718867558485467136\",\"id\":\"1450096885327269888\",\"created_at\":\"2021-10-18T13:50:13.000Z\"},{\"public_metrics\":{\"retweet_count\":0,\"reply_count\":0,\"like_count\":0,\"quote_count\":0},\"text\":\"Just made a Nurse DC for the first time ever because I’ve become decent at looping\\\\uD83D\\\\uDE06\\\\uD83D\\\\uDD25\\\\uD83D\\\\uDC51 #DeadbyDaylight\",\"lang\":\"en\",\"author_id\":\"797597838792269824\",\"id\":\"1450096861793030158\",\"created_at\":\"2021-10-18T13:50:08.000Z\"},{\"public_metrics\":{\"retweet_count\":133,\"reply_count\":0,\"like_count\":0,\"quote_count\":0},\"text\":\"RT @leaksbydaylight: Write the \\'DBDJAYJP2021\\' code in \\'redeem code\\' in the in-game store to get 202,100 bloodpoints! \\\\n\\\\n#DeadbyDaylight #lea…\",\"lang\":\"en\",\"author_id\":\"1269438582873296898\",\"id\":\"1450096741970325513\",\"created_at\":\"2021-10-18T13:49:39.000Z\"},{\"public_metrics\":{\"retweet_count\":0,\"reply_count\":0,\"like_count\":2,\"quote_count\":0},\"text\":\"#Spooktober demo troll build activated https://t.co/He49QHqmK2 #DeadByDaylight #TwitchAffiliate\",\"lang\":\"en\",\"author_id\":\"167965635\",\"id\":\"1450096637725007878\",\"created_at\":\"2021-10-18T13:49:14.000Z\"},{\"public_metrics\":{\"retweet_count\":7,\"reply_count\":0,\"like_count\":0,\"quote_count\":0},\"text\":\"RT @SpookyLilGrimbo: Turns out Nea and Julie are in love\\\\n\\\\n#DeadbyDaylight #DeadbyDaylightfanart #dbd #dbdfanart #thelegion https://t.co/rW7…\",\"lang\":\"en\",\"author_id\":\"1114009027359531009\",\"id\":\"1450096582351851526\",\"created_at\":\"2021-10-18T13:49:01.000Z\"},{\"public_metrics\":{\"retweet_count\":106,\"reply_count\":0,\"like_count\":0,\"quote_count\":0},\"text\":\"RT @LeaksDbd: David\\'s \\\\\"The Ruffian\\\\\" and Adam\\'s \\\\\"Jamaican Proud\\\\\" cosmetics will make their way to shop on 19 October.\\\\n\\\\nNemesis and Pyramid H…\",\"lang\":\"en\",\"author_id\":\"1255309660984311809\",\"id\":\"1450096498163609605\",\"created_at\":\"2021-10-18T13:48:41.000Z\"},{\"public_metrics\":{\"retweet_count\":224,\"reply_count\":0,\"like_count\":0,\"quote_count\":0},\"text\":\"RT @yasuyukisat: Caleb Quinn #DeadbyDaylight #DBD #TheDeathslinger https://t.co/skPjpn4CzX\",\"lang\":\"en\",\"author_id\":\"256239667\",\"id\":\"1450096482825248770\",\"created_at\":\"2021-10-18T13:48:37.000Z\"},{\"public_metrics\":{\"retweet_count\":42,\"reply_count\":0,\"like_count\":0,\"quote_count\":0},\"text\":\"RT @leaksbydaylight: Sorry for the typo, the correct code is DBDDAYJP2021.\\\\n\\\\nI remind you that tomorrow will be released the mid-chapter pat…\",\"lang\":\"en\",\"author_id\":\"1175618285460701184\",\"id\":\"1450096476420550658\",\"created_at\":\"2021-10-18T13:48:36.000Z\"},{\"public_metrics\":{\"retweet_count\":35,\"reply_count\":0,\"like_count\":0,\"quote_count\":0},\"text\":\"RT @cryinglittleart: had 5 \\\\\"Merciless Killer\\\\\" matches back-to-back as Julie in her day of the dead skin. Felt like I had to thank her someh…\",\"lang\":\"en\",\"author_id\":\"1114009027359531009\",\"id\":\"1450096276096393219\",\"created_at\":\"2021-10-18T13:47:48.000Z\"},{\"public_metrics\":{\"retweet_count\":10,\"reply_count\":0,\"like_count\":0,\"quote_count\":0},\"text\":\"RT @Freyanuris: \\\\uD83D\\\\uDD6F “Does anyone else see that? Just me?” — @DeadByBHVR #DeadbyDaylight #MikaelaReid https://t.co/BDGuTRpSOf\",\"lang\":\"en\",\"author_id\":\"585941987\",\"id\":\"1450096217724162056\",\"created_at\":\"2021-10-18T13:47:34.000Z\"},{\"public_metrics\":{\"retweet_count\":63,\"reply_count\":0,\"like_count\":0,\"quote_count\":0},\"text\":\"RT @kimcando95: Dbd killers - ONI, TRAPPER, PIG, DEMOGORGON #dbdfanart #DbDアート #DeadbyDaylight #dbd #데바데 https://t.co/LxT7CMJUoE\",\"lang\":\"en\",\"author_id\":\"935309775436500993\",\"id\":\"1450096191744643077\",\"created_at\":\"2021-10-18T13:47:28.000Z\"},{\"public_metrics\":{\"retweet_count\":19,\"reply_count\":0,\"like_count\":0,\"quote_count\":0},\"text\":\"RT @JayJesterArt: Julie angry\\\\n#DeadbyDaylight #DBD https://t.co/njRXK7H5yb\",\"lang\":\"en\",\"author_id\":\"1114009027359531009\",\"id\":\"1450096147578736640\",\"created_at\":\"2021-10-18T13:47:17.000Z\"},{\"public_metrics\":{\"retweet_count\":910,\"reply_count\":0,\"like_count\":0,\"quote_count\":0},\"text\":\"RT @ShiNguyen69: Ok. I\\'m fine\\\\n.\\\\n.\\\\n.\\\\n#DeadbyDaylightfanart #DeadbyDaylight https://t.co/c6nto37Euj\",\"lang\":\"en\",\"author_id\":\"861959545614192640\",\"id\":\"1450096112669450246\",\"created_at\":\"2021-10-18T13:47:09.000Z\"},{\"public_metrics\":{\"retweet_count\":5,\"reply_count\":0,\"like_count\":0,\"quote_count\":0},\"text\":\"RT @Ghostfacecouk: Just had a call with @RJTorbert .. Jeez... its REALLY busy over there.. Lots happening...  Someone asked him recently if…\",\"lang\":\"en\",\"author_id\":\"404619352\",\"id\":\"1450095924244619271\",\"created_at\":\"2021-10-18T13:46:24.000Z\"},{\"public_metrics\":{\"retweet_count\":0,\"reply_count\":0,\"like_count\":0,\"quote_count\":0},\"text\":\"@gawrgura You had me at #DeadbyDaylight. Any chance we can see you Mori someone as Clown?\",\"lang\":\"en\",\"author_id\":\"180797929\",\"id\":\"1450095827469352964\",\"created_at\":\"2021-10-18T13:46:01.000Z\"},{\"public_metrics\":{\"retweet_count\":99,\"reply_count\":0,\"like_count\":0,\"quote_count\":0},\"text\":\"RT @StarstruckShine: Dead by Uno #DeadbyDaylight #dbdfanart #Trickster\\\\n#Clown #Deathslinger #DwightFairfield #AdamFrancis (everyone is chea…\",\"lang\":\"en\",\"author_id\":\"1313255492953804800\",\"id\":\"1450095719055073287\",\"created_at\":\"2021-10-18T13:45:35.000Z\"},{\"public_metrics\":{\"retweet_count\":653,\"reply_count\":0,\"like_count\":0,\"quote_count\":0},\"text\":\"RT @LeaksDbd: Tome IX - Crescendo Teaser.\\\\n\\\\nThanks to @PaulieEsther1 for sharing.\\\\n\\\\n#DeadbyDaylight #dbdleaks #leaksdbd #dbd https://t.co/tJl…\",\"lang\":\"en\",\"author_id\":\"23149229\",\"id\":\"1450095436329521163\",\"created_at\":\"2021-10-18T13:44:28.000Z\"},{\"public_metrics\":{\"retweet_count\":10,\"reply_count\":4,\"like_count\":48,\"quote_count\":0},\"text\":\"\\\\uD83D\\\\uDD6F “Does anyone else see that? Just me?” — @DeadByBHVR #DeadbyDaylight #MikaelaReid https://t.co/BDGuTRpSOf\",\"lang\":\"en\",\"author_id\":\"976967473277759488\",\"id\":\"1450095409443921927\",\"created_at\":\"2021-10-18T13:44:21.000Z\"},{\"public_metrics\":{\"retweet_count\":601,\"reply_count\":0,\"like_count\":0,\"quote_count\":0},\"text\":\"RT @DARTS160: The Legion\\\\n\\\\nJulie @coin_DBD \\\\nSusie @eeoe_51 \\\\nJoey @_Ropoly \\\\np.b @xavac1 \\\\n#DeadbyDaylight https://t.co/Z2aqkVTT6V\",\"lang\":\"en\",\"author_id\":\"17730060\",\"id\":\"1450095308386537475\",\"created_at\":\"2021-10-18T13:43:57.000Z\"},{\"public_metrics\":{\"retweet_count\":2,\"reply_count\":0,\"like_count\":8,\"quote_count\":0},\"text\":\"Good morning cuties, I hope you all had a fantastic weekend. Let get on some DBD and boss some killers around. Missed your faces &lt;3 #deadbydaylight #intothefog #followtheroots #thefuturecrew #platinumsquad https://t.co/NGYC0giMhU\",\"lang\":\"en\",\"author_id\":\"26249815\",\"id\":\"1450095293664579587\",\"created_at\":\"2021-10-18T13:43:54.000Z\"},{\"public_metrics\":{\"retweet_count\":2,\"reply_count\":0,\"like_count\":0,\"quote_count\":0},\"text\":\"RT @MKUltraLegend: ⚡️Please Watch/Share New Vid: Game MUST Adapt  #DeadbyDaylight \\\\n\\\\nhttps://t.co/szeH1l5oMv\\\\n\\\\n@wwwanpaus @StreamerWall @Stre…\",\"lang\":\"en\",\"author_id\":\"1150729203563806720\",\"id\":\"1450095239092490241\",\"created_at\":\"2021-10-18T13:43:41.000Z\"},{\"public_metrics\":{\"retweet_count\":2,\"reply_count\":0,\"like_count\":0,\"quote_count\":0},\"text\":\"⚡️Please Watch/Share New Vid: Game MUST Adapt  #DeadbyDaylight \\\\n\\\\nhttps://t.co/szeH1l5oMv\\\\n\\\\n@wwwanpaus @StreamerWall @StreamTweets4 @StreamersRtw @smallerstreams @RealDrCollision @sme_rt @Stream_Support_ @StreamersBoosts @ShoutGamers \\\\n@Retweet_Twitch\\\\n@TwitterGaming @rtsmallstreams\",\"lang\":\"en\",\"author_id\":\"1260541059718930433\",\"id\":\"1450095216933982212\",\"created_at\":\"2021-10-18T13:43:35.000Z\"},{\"public_metrics\":{\"retweet_count\":1417,\"reply_count\":0,\"like_count\":0,\"quote_count\":0},\"text\":\"RT @MarkoRaassina: All 25 Dead by Daylight killers #DeadbyDaylight #dbd #dbdfanart https://t.co/0ANbSj5rhI\",\"lang\":\"en\",\"author_id\":\"1313255492953804800\",\"id\":\"1450095207756742660\",\"created_at\":\"2021-10-18T13:43:33.000Z\"},{\"public_metrics\":{\"retweet_count\":1,\"reply_count\":0,\"like_count\":3,\"quote_count\":0},\"text\":\"I\\'m live on Twitch, in 15min. #TheRoomThree &amp; then #DeadbyDaylight , come hang out, We are the weirdos!  https://t.co/nwHosgeZAZ\\\\n\\\\n#TwitchStreamers #LGBTQIA #LGBTQ #LIVE #HorrorCommunity #Dbd #twitchaffiliate\",\"lang\":\"en\",\"author_id\":\"971774781841395712\",\"id\":\"1450095198202122247\",\"created_at\":\"2021-10-18T13:43:31.000Z\"},{\"public_metrics\":{\"retweet_count\":910,\"reply_count\":0,\"like_count\":0,\"quote_count\":0},\"text\":\"RT @ShiNguyen69: Ok. I\\'m fine\\\\n.\\\\n.\\\\n.\\\\n#DeadbyDaylightfanart #DeadbyDaylight https://t.co/c6nto37Euj\",\"lang\":\"en\",\"author_id\":\"722136338770870273\",\"id\":\"1450095149472747524\",\"created_at\":\"2021-10-18T13:43:19.000Z\"},{\"public_metrics\":{\"retweet_count\":0,\"reply_count\":0,\"like_count\":0,\"quote_count\":0},\"text\":\"Worst place to heal in DBD https://t.co/wcNiK3DS9g via @YouTube #DeadbyDaylight #HalloweenMovie\",\"lang\":\"en\",\"author_id\":\"1416585210632757251\",\"id\":\"1450095072679059458\",\"created_at\":\"2021-10-18T13:43:01.000Z\"},{\"public_metrics\":{\"retweet_count\":106,\"reply_count\":0,\"like_count\":0,\"quote_count\":0},\"text\":\"RT @LeaksDbd: David\\'s \\\\\"The Ruffian\\\\\" and Adam\\'s \\\\\"Jamaican Proud\\\\\" cosmetics will make their way to shop on 19 October.\\\\n\\\\nNemesis and Pyramid H…\",\"lang\":\"en\",\"author_id\":\"1324166386915123200\",\"id\":\"1450095038554333184\",\"created_at\":\"2021-10-18T13:42:53.000Z\"},{\"public_metrics\":{\"retweet_count\":59,\"reply_count\":0,\"like_count\":0,\"quote_count\":0},\"text\":\"RT @DiHA_Artwork: \\\\\"Purgation.\\\\\" \\\\uD83E\\\\uDD2E\\\\n\\\\n#DeadbyDaylight #dbd #dbdfanart #artnouveau #art #plague #janeromero @DeadByBHVR https://t.co/HFjJqOyTW6\",\"lang\":\"en\",\"author_id\":\"1041928281422016512\",\"id\":\"1450094238142763008\",\"created_at\":\"2021-10-18T13:39:42.000Z\"},{\"public_metrics\":{\"retweet_count\":910,\"reply_count\":0,\"like_count\":0,\"quote_count\":0},\"text\":\"RT @ShiNguyen69: Ok. I\\'m fine\\\\n.\\\\n.\\\\n.\\\\n#DeadbyDaylightfanart #DeadbyDaylight https://t.co/c6nto37Euj\",\"lang\":\"en\",\"author_id\":\"185726594\",\"id\":\"1450094128864403458\",\"created_at\":\"2021-10-18T13:39:16.000Z\"},{\"public_metrics\":{\"retweet_count\":0,\"reply_count\":0,\"like_count\":0,\"quote_count\":0},\"text\":\"As the weather cools, leaves turn yellow and slowly fall.\\\\nI wonder why, why I couldn’t just have it all?\\\\n\\\\nAs I drift away listening to our song\\\\nMy Concentration deepens hitting this bong\\\\n\\\\nA Relaxed state\\\\nJust to fuck it all by playing DBD\\\\nDeath is not an escape \\\\n#DeadbyDaylight https://t.co/XFk0uPLGI7\",\"lang\":\"en\",\"author_id\":\"1354435650183966721\",\"id\":\"1450093520195309578\",\"created_at\":\"2021-10-18T13:36:51.000Z\"},{\"public_metrics\":{\"retweet_count\":20,\"reply_count\":0,\"like_count\":0,\"quote_count\":0},\"text\":\"RT @dbd_usernames: #Deadbydaylight username #320 https://t.co/L4GKBQuYA4\",\"lang\":\"en\",\"author_id\":\"1162725326033735680\",\"id\":\"1450093210123087877\",\"created_at\":\"2021-10-18T13:35:37.000Z\"},{\"public_metrics\":{\"retweet_count\":2,\"reply_count\":0,\"like_count\":0,\"quote_count\":0},\"text\":\"RT @queens_cup_: Went to con the last day as claudette! It\\'s been a very dbd weekend lol. #DeadbyDaylight #dbd #deadbydaylightcosplay #dbdc…\",\"lang\":\"en\",\"author_id\":\"1274430459187998721\",\"id\":\"1450093179009699844\",\"created_at\":\"2021-10-18T13:35:29.000Z\"},{\"public_metrics\":{\"retweet_count\":5,\"reply_count\":0,\"like_count\":0,\"quote_count\":0},\"text\":\"RT @DaneCelestia: And of course, Irys as her chosen DBD killer, Ghostface!\\\\n\\\\nReady to take a pic of mumei dying(again)\\\\n\\\\nhttps://t.co/dsiaEHq…\",\"lang\":\"en\",\"author_id\":\"1427316197347889152\",\"id\":\"1450093034553544706\",\"created_at\":\"2021-10-18T13:34:55.000Z\"},{\"public_metrics\":{\"retweet_count\":514,\"reply_count\":0,\"like_count\":0,\"quote_count\":0},\"text\":\"RT @LeaksDbd: Mikaela cosmetic renders.\\\\n\\\\nThanks to @xZombieAlix for rendering.\\\\n\\\\n#DeadbyDaylight #dbdleaks #leaksdbd #dbd https://t.co/y69Wq…\",\"lang\":\"en\",\"author_id\":\"1171189265251917825\",\"id\":\"1450092805485912068\",\"created_at\":\"2021-10-18T13:34:00.000Z\"},{\"public_metrics\":{\"retweet_count\":106,\"reply_count\":0,\"like_count\":0,\"quote_count\":0},\"text\":\"RT @LeaksDbd: David\\'s \\\\\"The Ruffian\\\\\" and Adam\\'s \\\\\"Jamaican Proud\\\\\" cosmetics will make their way to shop on 19 October.\\\\n\\\\nNemesis and Pyramid H…\",\"lang\":\"en\",\"author_id\":\"870188735899500544\",\"id\":\"1450092769796558855\",\"created_at\":\"2021-10-18T13:33:52.000Z\"},{\"public_metrics\":{\"retweet_count\":6,\"reply_count\":0,\"like_count\":0,\"quote_count\":0},\"text\":\"RT @Hexsplosions: Nobody has raged at me yet. https://t.co/YRRDBOWoiw\\\\n\\\\n@Streamer_Boost @Twitch_RT @rtsmallstreams @stream_caster #Streamcas…\",\"lang\":\"en\",\"author_id\":\"704583568316633088\",\"id\":\"1450092596626444296\",\"created_at\":\"2021-10-18T13:33:11.000Z\"},{\"public_metrics\":{\"retweet_count\":1416,\"reply_count\":0,\"like_count\":0,\"quote_count\":0},\"text\":\"RT @Slitherbop: The Doctor \\\\uD83D\\\\uDC40 #DeadbyDaylight #dbdfanart https://t.co/vbkxtbHAAB\",\"lang\":\"en\",\"author_id\":\"824400343354241028\",\"id\":\"1450092512543137799\",\"created_at\":\"2021-10-18T13:32:51.000Z\"},{\"public_metrics\":{\"retweet_count\":6,\"reply_count\":0,\"like_count\":0,\"quote_count\":0},\"text\":\"RT @Hexsplosions: Nobody has raged at me yet. https://t.co/YRRDBOWoiw\\\\n\\\\n@Streamer_Boost @Twitch_RT @rtsmallstreams @stream_caster #Streamcas…\",\"lang\":\"en\",\"author_id\":\"1159260728894873602\",\"id\":\"1450092505802977280\",\"created_at\":\"2021-10-18T13:32:49.000Z\"},{\"public_metrics\":{\"retweet_count\":6,\"reply_count\":0,\"like_count\":0,\"quote_count\":0},\"text\":\"Nobody has raged at me yet. https://t.co/YRRDBOWoiw\\\\n\\\\n@Streamer_Boost @Twitch_RT @rtsmallstreams @stream_caster #Streamcaster #smallstreamer #SmallStreamersConnect #SmallStreamerCommunity #twitch #twitchtv #twitchstreamer #BritishStreamer #pcmasterrace #DBD #DeadbyDaylight #noice\",\"lang\":\"en\",\"author_id\":\"1438467324307296259\",\"id\":\"1450092483166232581\",\"created_at\":\"2021-10-18T13:32:44.000Z\"},{\"public_metrics\":{\"retweet_count\":42,\"reply_count\":0,\"like_count\":0,\"quote_count\":0},\"text\":\"RT @leaksbydaylight: Sorry for the typo, the correct code is DBDDAYJP2021.\\\\n\\\\nI remind you that tomorrow will be released the mid-chapter pat…\",\"lang\":\"en\",\"author_id\":\"1131721004366127104\",\"id\":\"1450092334746673155\",\"created_at\":\"2021-10-18T13:32:08.000Z\"},{\"public_metrics\":{\"retweet_count\":106,\"reply_count\":0,\"like_count\":0,\"quote_count\":0},\"text\":\"RT @LeaksDbd: David\\'s \\\\\"The Ruffian\\\\\" and Adam\\'s \\\\\"Jamaican Proud\\\\\" cosmetics will make their way to shop on 19 October.\\\\n\\\\nNemesis and Pyramid H…\",\"lang\":\"en\",\"author_id\":\"1422936304208072708\",\"id\":\"1450092055909208067\",\"created_at\":\"2021-10-18T13:31:02.000Z\"},{\"public_metrics\":{\"retweet_count\":106,\"reply_count\":0,\"like_count\":0,\"quote_count\":0},\"text\":\"RT @LeaksDbd: David\\'s \\\\\"The Ruffian\\\\\" and Adam\\'s \\\\\"Jamaican Proud\\\\\" cosmetics will make their way to shop on 19 October.\\\\n\\\\nNemesis and Pyramid H…\",\"lang\":\"en\",\"author_id\":\"956765577745334272\",\"id\":\"1450091901474934788\",\"created_at\":\"2021-10-18T13:30:25.000Z\"},{\"public_metrics\":{\"retweet_count\":133,\"reply_count\":0,\"like_count\":0,\"quote_count\":0},\"text\":\"RT @leaksbydaylight: Write the \\'DBDJAYJP2021\\' code in \\'redeem code\\' in the in-game store to get 202,100 bloodpoints! \\\\n\\\\n#DeadbyDaylight #lea…\",\"lang\":\"en\",\"author_id\":\"947313374748184576\",\"id\":\"1450091891635245069\",\"created_at\":\"2021-10-18T13:30:23.000Z\"},{\"public_metrics\":{\"retweet_count\":106,\"reply_count\":0,\"like_count\":0,\"quote_count\":0},\"text\":\"RT @LeaksDbd: David\\'s \\\\\"The Ruffian\\\\\" and Adam\\'s \\\\\"Jamaican Proud\\\\\" cosmetics will make their way to shop on 19 October.\\\\n\\\\nNemesis and Pyramid H…\",\"lang\":\"en\",\"author_id\":\"873539657543294976\",\"id\":\"1450091804011859969\",\"created_at\":\"2021-10-18T13:30:02.000Z\"},{\"public_metrics\":{\"retweet_count\":6,\"reply_count\":0,\"like_count\":0,\"quote_count\":0},\"text\":\"RT @Eraleas: Get ready for the Hour of the Witch! \\\\uD83C\\\\uDF83\\\\uD83C\\\\uDF83\\\\uD83C\\\\uDF83\\\\n\\\\nParticipate in the giveaway for a chance to win the new DBD DLC! \\\\n\\\\nTomorrow, Tuesday…\",\"lang\":\"en\",\"author_id\":\"1395179935258619909\",\"id\":\"1450091762572271624\",\"created_at\":\"2021-10-18T13:29:52.000Z\"},{\"public_metrics\":{\"retweet_count\":10,\"reply_count\":0,\"like_count\":0,\"quote_count\":0},\"text\":\"RT @Vabuchoochoo: pov: u cleansed haunted bc ur rank 20\\\\n[drawtober day 17 - haunted]\\\\n#nawntober #drawtober2021 #DeadbyDaylight https://t.co…\",\"lang\":\"en\",\"author_id\":\"961005404284219392\",\"id\":\"1450091572197007361\",\"created_at\":\"2021-10-18T13:29:06.000Z\"},{\"public_metrics\":{\"retweet_count\":0,\"reply_count\":1,\"like_count\":2,\"quote_count\":0},\"text\":\"Probably an unpopular take:\\\\n\\\\nHacking has ALWAYS been this big a problem in #DeadbyDaylight \\\\n\\\\nIt hasn\\'t gotten any \\\\\"worse\\\\\"\\\\n\\\\nCreators saying they are worried about hackers in DBD is cap for clicks\\\\n\\\\nThey are just worried about hackers in THEIR games because it finally affects them\",\"lang\":\"en\",\"author_id\":\"295458780\",\"id\":\"1450090802458279936\",\"created_at\":\"2021-10-18T13:26:03.000Z\"},{\"public_metrics\":{\"retweet_count\":106,\"reply_count\":0,\"like_count\":0,\"quote_count\":0},\"text\":\"RT @LeaksDbd: David\\'s \\\\\"The Ruffian\\\\\" and Adam\\'s \\\\\"Jamaican Proud\\\\\" cosmetics will make their way to shop on 19 October.\\\\n\\\\nNemesis and Pyramid H…\",\"lang\":\"en\",\"author_id\":\"1362198900455706625\",\"id\":\"1450090622552059907\",\"created_at\":\"2021-10-18T13:25:20.000Z\"},{\"public_metrics\":{\"retweet_count\":0,\"reply_count\":0,\"like_count\":1,\"quote_count\":0},\"text\":\"Dead by Daylight\\\\nAdept Deathslinger (BRONZE)\\\\n#PlayStationTrophy #PS5Share, #DeadbyDaylight https://t.co/hVZJJyDzYb\",\"lang\":\"en\",\"author_id\":\"282913388\",\"id\":\"1450090599583977476\",\"created_at\":\"2021-10-18T13:25:14.000Z\"},{\"public_metrics\":{\"retweet_count\":0,\"reply_count\":0,\"like_count\":1,\"quote_count\":0},\"text\":\"Dead by Daylight\\\\nAdept Executioner\\xa0 (BRONZE)\\\\n#PlayStationTrophy #PS5Share, #DeadbyDaylight https://t.co/Gspw7MQu3c\",\"lang\":\"en\",\"author_id\":\"282913388\",\"id\":\"1450090536745021441\",\"created_at\":\"2021-10-18T13:24:59.000Z\"},{\"public_metrics\":{\"retweet_count\":0,\"reply_count\":0,\"like_count\":4,\"quote_count\":0},\"text\":\"This is why you should look out for traps \\\\uD83D\\\\uDE02\\\\uD83D\\\\uDE02 #DeadbyDaylight #XboxShare https://t.co/twqCtCtCsk\",\"lang\":\"en\",\"author_id\":\"1281734494823813120\",\"id\":\"1450090422160736257\",\"created_at\":\"2021-10-18T13:24:32.000Z\"},{\"public_metrics\":{\"retweet_count\":0,\"reply_count\":0,\"like_count\":1,\"quote_count\":0},\"text\":\"Last minute BP grinding for the upcoming update for #deadbydaylight #Intothefog ,Maybe some ghost hunting later in #phasmophobia ? https://t.co/NsMxPcGo5K https://t.co/AeUelLCCvL\",\"lang\":\"en\",\"author_id\":\"45408727\",\"id\":\"1450090354498211846\",\"created_at\":\"2021-10-18T13:24:16.000Z\"},{\"public_metrics\":{\"retweet_count\":1,\"reply_count\":0,\"like_count\":0,\"quote_count\":0},\"text\":\"RT @yQuisi: Halloween specialty\\\\n\\\\nStickers, Prints, T-shirts? \\\\uD83D\\\\uDC47\\\\n\\\\uD83C\\\\uDF83Visit my store\\\\uD83C\\\\uDF83\\\\nhttps://t.co/AxFB44sdIG\\\\n\\\\n#Halloween #tshirt #commissionsope…\",\"lang\":\"en\",\"author_id\":\"1434537977888362501\",\"id\":\"1450089961202593801\",\"created_at\":\"2021-10-18T13:22:42.000Z\"},{\"public_metrics\":{\"retweet_count\":1,\"reply_count\":0,\"like_count\":0,\"quote_count\":0},\"text\":\"RT @Ryxas: OMG DEAD BY DAYLIGHT HERE WE GO LETS GO \\\\n\\\\n... C.. Come on lets go watch.. watch the stream, yeah?\\\\n\\\\nI said COME WATCH THE F-\\\\n\\\\nhtt…\",\"lang\":\"en\",\"author_id\":\"950080863403900929\",\"id\":\"1450089953258508289\",\"created_at\":\"2021-10-18T13:22:40.000Z\"},{\"public_metrics\":{\"retweet_count\":5,\"reply_count\":0,\"like_count\":0,\"quote_count\":0},\"text\":\"RT @DaneCelestia: And of course, Irys as her chosen DBD killer, Ghostface!\\\\n\\\\nReady to take a pic of mumei dying(again)\\\\n\\\\nhttps://t.co/dsiaEHq…\",\"lang\":\"en\",\"author_id\":\"1430474935269564416\",\"id\":\"1450089826754125829\",\"created_at\":\"2021-10-18T13:22:10.000Z\"},{\"public_metrics\":{\"retweet_count\":0,\"reply_count\":0,\"like_count\":0,\"quote_count\":0},\"text\":\"I made sure to grab the #StrangerThings DLC in #DeadByDaylight before its gone so today I learned how to play the Demogorgon in #DBD: https://t.co/VxrmlElt4q https://t.co/gmqcbQjvM5\",\"lang\":\"en\",\"author_id\":\"758164914884272128\",\"id\":\"1450089688346374149\",\"created_at\":\"2021-10-18T13:21:37.000Z\"},{\"public_metrics\":{\"retweet_count\":74,\"reply_count\":0,\"like_count\":0,\"quote_count\":0},\"text\":\"RT @crit_afterdark: This asshole just showed up under my pen✨\\\\n\\\\nFOR @velociwrangler SINCE SHE\\'S AMAZING AND HER FICS GIVE ME LIFE\\\\n\\\\n#deadbyda…\",\"lang\":\"en\",\"author_id\":\"1436644069829054470\",\"id\":\"1450089659321622532\",\"created_at\":\"2021-10-18T13:21:30.000Z\"},{\"public_metrics\":{\"retweet_count\":910,\"reply_count\":0,\"like_count\":0,\"quote_count\":0},\"text\":\"RT @ShiNguyen69: Ok. I\\'m fine\\\\n.\\\\n.\\\\n.\\\\n#DeadbyDaylightfanart #DeadbyDaylight https://t.co/c6nto37Euj\",\"lang\":\"en\",\"author_id\":\"4084676482\",\"id\":\"1450089607467606020\",\"created_at\":\"2021-10-18T13:21:18.000Z\"},{\"public_metrics\":{\"retweet_count\":42,\"reply_count\":0,\"like_count\":0,\"quote_count\":0},\"text\":\"RT @leaksbydaylight: Sorry for the typo, the correct code is DBDDAYJP2021.\\\\n\\\\nI remind you that tomorrow will be released the mid-chapter pat…\",\"lang\":\"en\",\"author_id\":\"1130598491108073473\",\"id\":\"1450089504589729800\",\"created_at\":\"2021-10-18T13:20:53.000Z\"},{\"public_metrics\":{\"retweet_count\":0,\"reply_count\":0,\"like_count\":0,\"quote_count\":0},\"text\":\"YouTube &amp; Twitch【GodPlayerQoo】 #identityV #zelda #smashBro #DeadByDaylight #DBD #第五人格 #デドバ https://t.co/RvvnDRyDVP\",\"lang\":\"en\",\"author_id\":\"1088677514782765057\",\"id\":\"1450089489783607303\",\"created_at\":\"2021-10-18T13:20:50.000Z\"},{\"public_metrics\":{\"retweet_count\":9,\"reply_count\":0,\"like_count\":0,\"quote_count\":0},\"text\":\"RT @GavlynEss: My own Ji woon Hak embroidery brooch! \\\\nI\\'m too obsessed with this killer, send help.\\\\n\\\\n#dbd #DeadbyDaylight #JiWoonHak #TheTr…\",\"lang\":\"en\",\"author_id\":\"1436644069829054470\",\"id\":\"1450089427812814857\",\"created_at\":\"2021-10-18T13:20:35.000Z\"},{\"public_metrics\":{\"retweet_count\":0,\"reply_count\":0,\"like_count\":1,\"quote_count\":0},\"text\":\"YOULLL FLOAT TOOO!!! JOIN THE STREAMM!! @DeadByBHVR #intothefog #DeadbyDaylight #deadbydaylightcosplay https://t.co/UAIrkF0yil\",\"lang\":\"en\",\"author_id\":\"1349571418250489857\",\"id\":\"1450089377070256138\",\"created_at\":\"2021-10-18T13:20:23.000Z\"},{\"public_metrics\":{\"retweet_count\":23,\"reply_count\":0,\"like_count\":0,\"quote_count\":0},\"text\":\"RT @vizzeyxyz: Trickster Cut Thru U Performance \\\\n\\\\n@DeadByBHVR #DeadByDaylight #JiWoonHak #dbdcosplay #deadbydaylightcosplay https://t.co/XN…\",\"lang\":\"en\",\"author_id\":\"1259375316507807744\",\"id\":\"1450089272820879364\",\"created_at\":\"2021-10-18T13:19:58.000Z\"},{\"public_metrics\":{\"retweet_count\":3,\"reply_count\":0,\"like_count\":3,\"quote_count\":0},\"text\":\"Dead by the wayside rank up experience ft sweaty teams and my killers !dixper #IntotheFog \\\\n#Roadtopartner #DeadbyDaylight #DeadByBHVR #twitchtv @rtsmallstreams @streamshare4 #PC #dbd #killer #dbd \\\\nhttps://t.co/fTpdg9oDZf\",\"lang\":\"en\",\"author_id\":\"822150665061404675\",\"id\":\"1450088988065386500\",\"created_at\":\"2021-10-18T13:18:50.000Z\"},{\"public_metrics\":{\"retweet_count\":910,\"reply_count\":0,\"like_count\":0,\"quote_count\":0},\"text\":\"RT @ShiNguyen69: Ok. I\\'m fine\\\\n.\\\\n.\\\\n.\\\\n#DeadbyDaylightfanart #DeadbyDaylight https://t.co/c6nto37Euj\",\"lang\":\"en\",\"author_id\":\"3384830921\",\"id\":\"1450088842829119497\",\"created_at\":\"2021-10-18T13:18:16.000Z\"},{\"public_metrics\":{\"retweet_count\":0,\"reply_count\":0,\"like_count\":1,\"quote_count\":0},\"text\":\"Hope the people at the Halloween party knows how to repair generators... #Legion #DeadbyDaylight #Frenzy https://t.co/2CzYgCW2jl\",\"lang\":\"en\",\"author_id\":\"176317539\",\"id\":\"1450088605054013445\",\"created_at\":\"2021-10-18T13:17:19.000Z\"},{\"public_metrics\":{\"retweet_count\":133,\"reply_count\":0,\"like_count\":0,\"quote_count\":0},\"text\":\"RT @leaksbydaylight: Write the \\'DBDJAYJP2021\\' code in \\'redeem code\\' in the in-game store to get 202,100 bloodpoints! \\\\n\\\\n#DeadbyDaylight #lea…\",\"lang\":\"en\",\"author_id\":\"1351534899380023298\",\"id\":\"1450088575060647941\",\"created_at\":\"2021-10-18T13:17:12.000Z\"},{\"public_metrics\":{\"retweet_count\":59,\"reply_count\":0,\"like_count\":0,\"quote_count\":0},\"text\":\"RT @DiHA_Artwork: \\\\\"Purgation.\\\\\" \\\\uD83E\\\\uDD2E\\\\n\\\\n#DeadbyDaylight #dbd #dbdfanart #artnouveau #art #plague #janeromero @DeadByBHVR https://t.co/HFjJqOyTW6\",\"lang\":\"en\",\"author_id\":\"1328188853618946048\",\"id\":\"1450088261548924936\",\"created_at\":\"2021-10-18T13:15:57.000Z\"}],\"includes\":{\"users\":[{\"id\":\"1162810510032756736\",\"name\":\"\\\\uD83C\\\\uDFF3️\\u200d\\\\uD83C\\\\uDF08TheMidnightCorvus\\\\uD83C\\\\uDFF3️\\u200d\\\\uD83C\\\\uDF08\",\"username\":\"MidnightCorvus9\"},{\"id\":\"1286180518178955266\",\"name\":\"\\\\uD835\\\\uDE14\\\\uD835\\\\uDE22\\\\uD835\\\\uDE2E\\\\uD835\\\\uDE2A\\\\uD835\\\\uDE1B\\\\uD835\\\\uDE34\\\\uD835\\\\uDE36\\\\uD835\\\\uDE2F\\\\uD835\\\\uDE22\\\\uD835\\\\uDE2E\\\\uD835\\\\uDE2A -I AM THE PUMPKIN QUEEN\\\\uD83C\\\\uDF83\",\"username\":\"MamiTsunami4\"},{\"id\":\"1263166000779976704\",\"name\":\"Bottom of the Foodchain\",\"username\":\"foodchainbottom\"},{\"id\":\"1150729203563806720\",\"name\":\"streamachine retweets \\\\uD83C\\\\uDDEC\\\\uD83C\\\\uDDE7\",\"username\":\"sme_rt\"},{\"id\":\"1176974681938780163\",\"name\":\"SpeedyGent\",\"username\":\"SpeedyGentt\"},{\"id\":\"1090131138784444417\",\"name\":\"\\\\uD83C\\\\uDF83 Cam \\\\uD83D\\\\uDC9B\\\\uD83D\\\\uDC9C\\\\uD83D\\\\uDC99\",\"username\":\"TLoCam\"},{\"id\":\"1292350580573102080\",\"name\":\"abie\",\"username\":\"abeillemh\"},{\"id\":\"894273605818822656\",\"name\":\"ITSA SPOOKY CAT MONTH!\",\"username\":\"TigerKirby215\"},{\"id\":\"1334608156509564929\",\"name\":\"BluBoi (0/3)\",\"username\":\"BAbominations\"},{\"id\":\"1416554399011414025\",\"name\":\"Foolyzz\",\"username\":\"F00LYZZ\"},{\"id\":\"703914629743771648\",\"name\":\"resolute dreamwalker\",\"username\":\"culdesacsmash\"},{\"id\":\"2834114661\",\"name\":\"ANPAUS | The Dinosaur Hunter | Streamer | YouTuber\",\"username\":\"wwwanpaus\"},{\"id\":\"1272580109820624896\",\"name\":\"DrCollision | Streamer | YouTuber\",\"username\":\"RealDrCollision\"},{\"id\":\"1128878664572166144\",\"name\":\"RT Small Streams\",\"username\":\"rtsmallstreams\"},{\"id\":\"1120936013583372289\",\"name\":\"RighteousVoyage\",\"username\":\"RighteousVoyage\"},{\"id\":\"399344805\",\"name\":\"The4thProphet\",\"username\":\"the4thprophet\"},{\"id\":\"1442225785692033028\",\"name\":\"some weeb\",\"username\":\"Somehuman_1464\"},{\"id\":\"2293464290\",\"name\":\"\\\\uD83C\\\\uDF83 beep \\\\uD83D\\\\uDD78️\",\"username\":\"flowerbots\"},{\"id\":\"1258344023108050945\",\"name\":\"gerg\\\\uD83D\\\\uDD2A\\\\uD83C\\\\uDF83\\\\uD83D\\\\uDDA4\",\"username\":\"gerg_da_boi\"},{\"id\":\"1232576775986634753\",\"name\":\"견고\",\"username\":\"___DogGo\"},{\"id\":\"820129674034429953\",\"name\":\"Amalnsfw\",\"username\":\"Amalthemir_\"},{\"id\":\"1449041481499496451\",\"name\":\"Christopher Thomas\",\"username\":\"Sk0lgam3r\"},{\"id\":\"1246975436598337536\",\"name\":\"C3 - COMMISSION OPEN\",\"username\":\"C3_Tooth\"},{\"id\":\"1159260728894873602\",\"name\":\"Stream Caster\",\"username\":\"stream_caster\"},{\"id\":\"1284066771079757824\",\"name\":\"DragenGyrr\",\"username\":\"dragen_gyrr\"},{\"id\":\"1438467324307296259\",\"name\":\"Hexsplosions\",\"username\":\"Hexsplosions\"},{\"id\":\"3308902373\",\"name\":\"\\\\uD83C\\\\uDF75UghDragonNinja\\\\uD83C\\\\uDF75\",\"username\":\"UghDragonNinja\"},{\"id\":\"920826290\",\"name\":\"카스토르\",\"username\":\"XCastorX\"},{\"id\":\"2732533144\",\"name\":\"sage\",\"username\":\"girlybirdxo\"},{\"id\":\"1934143724\",\"name\":\"본색\",\"username\":\"prepbon\"},{\"id\":\"716676175708438528\",\"name\":\"Blitz \\\\uD83C\\\\uDDF2\\\\uD83C\\\\uDDFD♦️\\\\uD83E\\\\uDD6E\",\"username\":\"moldyart\"},{\"id\":\"718867558485467136\",\"name\":\"Promote Smaller Streams!\",\"username\":\"smallerstreams\"},{\"id\":\"797597838792269824\",\"name\":\"Jeremy Cappa\",\"username\":\"JeremyCappa\"},{\"id\":\"1269438582873296898\",\"name\":\"fries\",\"username\":\"FransiscoFigue4\"},{\"id\":\"167965635\",\"name\":\"wikiwing\",\"username\":\"wikiwing_ttv\"},{\"id\":\"1114009027359531009\",\"name\":\"Dottie\\\\uD83D\\\\uDC80\",\"username\":\"DottieTheNinth\"},{\"id\":\"1255309660984311809\",\"name\":\"Molgulvort\",\"username\":\"leointhedesert\"},{\"id\":\"256239667\",\"name\":\"Cocoa\",\"username\":\"togamaeda\"},{\"id\":\"1175618285460701184\",\"name\":\"Keeperly\",\"username\":\"Keeperly1\"},{\"id\":\"585941987\",\"name\":\"John Holmes\",\"username\":\"TheParlourPoet\"},{\"id\":\"935309775436500993\",\"name\":\"\\\\uD83D\\\\uDD1EInside Trapper\\'s Overalls\",\"username\":\"Zombbean\"},{\"id\":\"861959545614192640\",\"name\":\"Cem Tutar\",\"username\":\"CemTutar21\"},{\"id\":\"404619352\",\"name\":\"NOTRATED \\\\uD83C\\\\uDF83\",\"username\":\"NOTRATEDRRR\"},{\"id\":\"180797929\",\"name\":\"Paul Pike\",\"username\":\"HR12345SA\"},{\"id\":\"1313255492953804800\",\"name\":\"allylla\",\"username\":\"dasweetestbean\"},{\"id\":\"23149229\",\"name\":\"Spooky V in Chainsawman hell\",\"username\":\"spookyespeon\"},{\"id\":\"976967473277759488\",\"name\":\"˗ˏˋ spooky fae ˎˊ˗ is busy! \\\\uD83C\\\\uDF83\",\"username\":\"Freyanuris\"},{\"id\":\"17730060\",\"name\":\"\\\\uD83D\\\\uDC79\\\\uD83D\\\\uDC7B✨demi✨\\\\uD83D\\\\uDC79\\\\uD83D\\\\uDC7B\",\"username\":\"demimenace\"},{\"id\":\"26249815\",\"name\":\"firewitch74\",\"username\":\"firewitch74\"},{\"id\":\"1260541059718930433\",\"name\":\"Dr. Heath LEGEND\\\\uD83C\\\\uDF38 (sub to my YT)\",\"username\":\"MKUltraLegend\"},{\"id\":\"971774781841395712\",\"name\":\"leo bottineau(\\\\uD83D\\\\uDC80\\\\uD83C\\\\uDF83\\\\uD83C\\\\uDFAE☠️\\\\uD83D\\\\uDC80)\",\"username\":\"fallenbottineau\"},{\"id\":\"722136338770870273\",\"name\":\"Bob McDuck\",\"username\":\"Bob_McDuck\"},{\"id\":\"1416585210632757251\",\"name\":\"whit3noiz\",\"username\":\"whit3noiz1\"},{\"id\":\"1324166386915123200\",\"name\":\"Michael Sofia\",\"username\":\"Micsrtu\"},{\"id\":\"1041928281422016512\",\"name\":\"F33LZ_\",\"username\":\"F33LZ__\"},{\"id\":\"185726594\",\"name\":\"Alex \\\\uD83D\\\\uDD77\",\"username\":\"AlexsFortuna\"},{\"id\":\"1354435650183966721\",\"name\":\"Alvaj0tA \\\\uD83C\\\\uDFAE\",\"username\":\"alvaj0ta\"},{\"id\":\"1162725326033735680\",\"name\":\"▪︎Exists▪︎\",\"username\":\"AStillExists\"},{\"id\":\"1274430459187998721\",\"name\":\"Sistas of the Fog\",\"username\":\"sistasofthefog\"},{\"id\":\"1427316197347889152\",\"name\":\"Asakura好葉\",\"username\":\"Gvw883oNRM5Y17g\"},{\"id\":\"1171189265251917825\",\"name\":\"Mathias \\\\uD83E\\\\uDE90\",\"username\":\"dojaelite\"},{\"id\":\"870188735899500544\",\"name\":\"Pm?tlex\",\"username\":\"Psycotoz\"},{\"id\":\"704583568316633088\",\"name\":\"YouTube & Twitch RT ✪\",\"username\":\"Retweelgend\"},{\"id\":\"824400343354241028\",\"name\":\"gideon \\\\uD83E\\\\uDE90\",\"username\":\"hierogIyphix\"},{\"id\":\"1131721004366127104\",\"name\":\"NiGHTS\",\"username\":\"SansKnights\"},{\"id\":\"1422936304208072708\",\"name\":\"몬\",\"username\":\"game___ggu\"},{\"id\":\"956765577745334272\",\"name\":\"지지\",\"username\":\"GGincampfire\"},{\"id\":\"947313374748184576\",\"name\":\"PukingGlitter\",\"username\":\"ImPukingGlitter\"},{\"id\":\"873539657543294976\",\"name\":\"\\\\uD83D\\\\uDE09\\\\uD83D\\\\uDC4C\\\\uD83C\\\\uDFFB\",\"username\":\"_9ONGA\"},{\"id\":\"1395179935258619909\",\"name\":\"Allyster66\",\"username\":\"allyster66\"},{\"id\":\"961005404284219392\",\"name\":\"JakeyBoy\",\"username\":\"JakeyBoyOvO\"},{\"id\":\"295458780\",\"name\":\"Cue\",\"username\":\"YoBoyCue\"},{\"id\":\"1362198900455706625\",\"name\":\"Kop Orsolya\",\"username\":\"bloody_erotic\"},{\"id\":\"282913388\",\"name\":\"Dan Weisse\",\"username\":\"Iced_Chi\"},{\"id\":\"1281734494823813120\",\"name\":\"d barney b\",\"username\":\"dbarneyb1\"},{\"id\":\"45408727\",\"name\":\"BigBadWolf4life \\\\uD83C\\\\uDFF3️\\u200d\\\\uD83C\\\\uDF08 (Wear your mask!)\",\"username\":\"BigBadW0lf4Life\"},{\"id\":\"1434537977888362501\",\"name\":\"neblosinha\",\"username\":\"neblosinha\"},{\"id\":\"950080863403900929\",\"name\":\"madi3strike \\uea00\",\"username\":\"madi3strike\"},{\"id\":\"1430474935269564416\",\"name\":\"Dat_Wan\",\"username\":\"DatWanSalt\"},{\"id\":\"758164914884272128\",\"name\":\"Kneeckoh\",\"username\":\"Kneeckoh_Gaming\"},{\"id\":\"1436644069829054470\",\"name\":\"Yagmi\",\"username\":\"eelyagmi\"},{\"id\":\"4084676482\",\"name\":\"gemini\\\\uD80C\\\\uDD99гиена\",\"username\":\"cappitan_morgan\"},{\"id\":\"1130598491108073473\",\"name\":\"Baby_dwete\",\"username\":\"nobleb00m\"},{\"id\":\"1088677514782765057\",\"name\":\"【公式】神ぷれぃやぁクウ(GodPlayerQoo)\",\"username\":\"GodPlayerQoo\"},{\"id\":\"1349571418250489857\",\"name\":\"Angi\",\"username\":\"angelicaiscc\"},{\"id\":\"1259375316507807744\",\"name\":\"mx. zan\",\"username\":\"mx_zan\"},{\"id\":\"822150665061404675\",\"name\":\"Joleyth3barbarian\",\"username\":\"animestorytime\"},{\"id\":\"3384830921\",\"name\":\"spooky lucas\",\"username\":\"1ucas_Andr3\"},{\"id\":\"176317539\",\"name\":\"Jimmy Coronavirus\",\"username\":\"TheBigManJimmyT\"},{\"id\":\"1351534899380023298\",\"name\":\"\\\\uD83D\\\\uDE42\",\"username\":\"HexBarb\"},{\"id\":\"1328188853618946048\",\"name\":\"\\\\uD83D\\\\uDC7B Spooky Ghosty \\\\uD83C\\\\uDF83\",\"username\":\"Gh0styPhantom\"}]},\"meta\":{\"newest_id\":\"1450100226526695427\",\"oldest_id\":\"1450088261548924936\",\"result_count\":100,\"next_token\":\"b26v89c19zqg8o3fpdv5s9yr9ucojiltfhgofyo4970cd\"}}'"
      ]
     },
     "execution_count": 50,
     "metadata": {},
     "output_type": "execute_result"
    }
   ],
   "source": [
    "response_3.text"
   ]
  },
  {
   "cell_type": "code",
   "execution_count": 51,
   "id": "cd6ff702",
   "metadata": {},
   "outputs": [],
   "source": [
    "my_df = my_df.append(pd.DataFrame(json.loads(response_3.text)['data']), ignore_index= True)"
   ]
  },
  {
   "cell_type": "code",
   "execution_count": 52,
   "id": "0894aa56",
   "metadata": {
    "scrolled": true
   },
   "outputs": [
    {
     "data": {
      "text/html": [
       "<div>\n",
       "<style scoped>\n",
       "    .dataframe tbody tr th:only-of-type {\n",
       "        vertical-align: middle;\n",
       "    }\n",
       "\n",
       "    .dataframe tbody tr th {\n",
       "        vertical-align: top;\n",
       "    }\n",
       "\n",
       "    .dataframe thead th {\n",
       "        text-align: right;\n",
       "    }\n",
       "</style>\n",
       "<table border=\"1\" class=\"dataframe\">\n",
       "  <thead>\n",
       "    <tr style=\"text-align: right;\">\n",
       "      <th></th>\n",
       "      <th>created_at</th>\n",
       "      <th>lang</th>\n",
       "      <th>text</th>\n",
       "      <th>id</th>\n",
       "      <th>public_metrics</th>\n",
       "      <th>author_id</th>\n",
       "    </tr>\n",
       "  </thead>\n",
       "  <tbody>\n",
       "    <tr>\n",
       "      <th>0</th>\n",
       "      <td>2021-10-18T14:55:56.000Z</td>\n",
       "      <td>en</td>\n",
       "      <td>RT @LeaksDbd: David's \"The Ruffian\" and Adam's...</td>\n",
       "      <td>1450113421274451973</td>\n",
       "      <td>{'retweet_count': 83, 'reply_count': 0, 'like_...</td>\n",
       "      <td>277522467</td>\n",
       "    </tr>\n",
       "    <tr>\n",
       "      <th>1</th>\n",
       "      <td>2021-10-18T14:55:39.000Z</td>\n",
       "      <td>en</td>\n",
       "      <td>🔴Directo de Dead by Daylight y mas tarde Fall ...</td>\n",
       "      <td>1450113353158901760</td>\n",
       "      <td>{'retweet_count': 0, 'reply_count': 0, 'like_c...</td>\n",
       "      <td>937423898173468672</td>\n",
       "    </tr>\n",
       "    <tr>\n",
       "      <th>2</th>\n",
       "      <td>2021-10-18T14:55:38.000Z</td>\n",
       "      <td>en</td>\n",
       "      <td>RT @mintcrowss: dimples and butterball arent s...</td>\n",
       "      <td>1450113347920277504</td>\n",
       "      <td>{'retweet_count': 124, 'reply_count': 0, 'like...</td>\n",
       "      <td>2276460810</td>\n",
       "    </tr>\n",
       "    <tr>\n",
       "      <th>3</th>\n",
       "      <td>2021-10-18T14:55:23.000Z</td>\n",
       "      <td>en</td>\n",
       "      <td>RT @Freyanuris: 🕯 “Does anyone else see that? ...</td>\n",
       "      <td>1450113284393209858</td>\n",
       "      <td>{'retweet_count': 4, 'reply_count': 0, 'like_c...</td>\n",
       "      <td>2531314892</td>\n",
       "    </tr>\n",
       "    <tr>\n",
       "      <th>4</th>\n",
       "      <td>2021-10-18T14:55:22.000Z</td>\n",
       "      <td>en</td>\n",
       "      <td>RT @DiHA_Artwork: \"Purgation.\" 🤮\\n\\n#DeadbyDay...</td>\n",
       "      <td>1450113280383594501</td>\n",
       "      <td>{'retweet_count': 53, 'reply_count': 0, 'like_...</td>\n",
       "      <td>1033916622803816448</td>\n",
       "    </tr>\n",
       "    <tr>\n",
       "      <th>...</th>\n",
       "      <td>...</td>\n",
       "      <td>...</td>\n",
       "      <td>...</td>\n",
       "      <td>...</td>\n",
       "      <td>...</td>\n",
       "      <td>...</td>\n",
       "    </tr>\n",
       "    <tr>\n",
       "      <th>295</th>\n",
       "      <td>2021-10-18T13:18:50.000Z</td>\n",
       "      <td>en</td>\n",
       "      <td>Dead by the wayside rank up experience ft swea...</td>\n",
       "      <td>1450088988065386500</td>\n",
       "      <td>{'retweet_count': 3, 'reply_count': 0, 'like_c...</td>\n",
       "      <td>822150665061404675</td>\n",
       "    </tr>\n",
       "    <tr>\n",
       "      <th>296</th>\n",
       "      <td>2021-10-18T13:18:16.000Z</td>\n",
       "      <td>en</td>\n",
       "      <td>RT @ShiNguyen69: Ok. I'm fine\\n.\\n.\\n.\\n#Deadb...</td>\n",
       "      <td>1450088842829119497</td>\n",
       "      <td>{'retweet_count': 910, 'reply_count': 0, 'like...</td>\n",
       "      <td>3384830921</td>\n",
       "    </tr>\n",
       "    <tr>\n",
       "      <th>297</th>\n",
       "      <td>2021-10-18T13:17:19.000Z</td>\n",
       "      <td>en</td>\n",
       "      <td>Hope the people at the Halloween party knows h...</td>\n",
       "      <td>1450088605054013445</td>\n",
       "      <td>{'retweet_count': 0, 'reply_count': 0, 'like_c...</td>\n",
       "      <td>176317539</td>\n",
       "    </tr>\n",
       "    <tr>\n",
       "      <th>298</th>\n",
       "      <td>2021-10-18T13:17:12.000Z</td>\n",
       "      <td>en</td>\n",
       "      <td>RT @leaksbydaylight: Write the 'DBDJAYJP2021' ...</td>\n",
       "      <td>1450088575060647941</td>\n",
       "      <td>{'retweet_count': 133, 'reply_count': 0, 'like...</td>\n",
       "      <td>1351534899380023298</td>\n",
       "    </tr>\n",
       "    <tr>\n",
       "      <th>299</th>\n",
       "      <td>2021-10-18T13:15:57.000Z</td>\n",
       "      <td>en</td>\n",
       "      <td>RT @DiHA_Artwork: \"Purgation.\" 🤮\\n\\n#DeadbyDay...</td>\n",
       "      <td>1450088261548924936</td>\n",
       "      <td>{'retweet_count': 59, 'reply_count': 0, 'like_...</td>\n",
       "      <td>1328188853618946048</td>\n",
       "    </tr>\n",
       "  </tbody>\n",
       "</table>\n",
       "<p>300 rows × 6 columns</p>\n",
       "</div>"
      ],
      "text/plain": [
       "                   created_at lang  \\\n",
       "0    2021-10-18T14:55:56.000Z   en   \n",
       "1    2021-10-18T14:55:39.000Z   en   \n",
       "2    2021-10-18T14:55:38.000Z   en   \n",
       "3    2021-10-18T14:55:23.000Z   en   \n",
       "4    2021-10-18T14:55:22.000Z   en   \n",
       "..                        ...  ...   \n",
       "295  2021-10-18T13:18:50.000Z   en   \n",
       "296  2021-10-18T13:18:16.000Z   en   \n",
       "297  2021-10-18T13:17:19.000Z   en   \n",
       "298  2021-10-18T13:17:12.000Z   en   \n",
       "299  2021-10-18T13:15:57.000Z   en   \n",
       "\n",
       "                                                  text                   id  \\\n",
       "0    RT @LeaksDbd: David's \"The Ruffian\" and Adam's...  1450113421274451973   \n",
       "1    🔴Directo de Dead by Daylight y mas tarde Fall ...  1450113353158901760   \n",
       "2    RT @mintcrowss: dimples and butterball arent s...  1450113347920277504   \n",
       "3    RT @Freyanuris: 🕯 “Does anyone else see that? ...  1450113284393209858   \n",
       "4    RT @DiHA_Artwork: \"Purgation.\" 🤮\\n\\n#DeadbyDay...  1450113280383594501   \n",
       "..                                                 ...                  ...   \n",
       "295  Dead by the wayside rank up experience ft swea...  1450088988065386500   \n",
       "296  RT @ShiNguyen69: Ok. I'm fine\\n.\\n.\\n.\\n#Deadb...  1450088842829119497   \n",
       "297  Hope the people at the Halloween party knows h...  1450088605054013445   \n",
       "298  RT @leaksbydaylight: Write the 'DBDJAYJP2021' ...  1450088575060647941   \n",
       "299  RT @DiHA_Artwork: \"Purgation.\" 🤮\\n\\n#DeadbyDay...  1450088261548924936   \n",
       "\n",
       "                                        public_metrics            author_id  \n",
       "0    {'retweet_count': 83, 'reply_count': 0, 'like_...            277522467  \n",
       "1    {'retweet_count': 0, 'reply_count': 0, 'like_c...   937423898173468672  \n",
       "2    {'retweet_count': 124, 'reply_count': 0, 'like...           2276460810  \n",
       "3    {'retweet_count': 4, 'reply_count': 0, 'like_c...           2531314892  \n",
       "4    {'retweet_count': 53, 'reply_count': 0, 'like_...  1033916622803816448  \n",
       "..                                                 ...                  ...  \n",
       "295  {'retweet_count': 3, 'reply_count': 0, 'like_c...   822150665061404675  \n",
       "296  {'retweet_count': 910, 'reply_count': 0, 'like...           3384830921  \n",
       "297  {'retweet_count': 0, 'reply_count': 0, 'like_c...            176317539  \n",
       "298  {'retweet_count': 133, 'reply_count': 0, 'like...  1351534899380023298  \n",
       "299  {'retweet_count': 59, 'reply_count': 0, 'like_...  1328188853618946048  \n",
       "\n",
       "[300 rows x 6 columns]"
      ]
     },
     "execution_count": 52,
     "metadata": {},
     "output_type": "execute_result"
    }
   ],
   "source": [
    "my_df"
   ]
  }
 ],
 "metadata": {
  "kernelspec": {
   "display_name": "Python 3 (ipykernel)",
   "language": "python",
   "name": "python3"
  },
  "language_info": {
   "codemirror_mode": {
    "name": "ipython",
    "version": 3
   },
   "file_extension": ".py",
   "mimetype": "text/x-python",
   "name": "python",
   "nbconvert_exporter": "python",
   "pygments_lexer": "ipython3",
   "version": "3.9.6"
  }
 },
 "nbformat": 4,
 "nbformat_minor": 5
}
